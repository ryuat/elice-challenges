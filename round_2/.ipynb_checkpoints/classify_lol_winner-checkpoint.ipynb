{
 "cells": [
  {
   "cell_type": "markdown",
   "metadata": {},
   "source": [
    "# 롤 승패 예측\n",
    "* Preporcessing train / test / submission data\n",
    "* Building first model\n",
    "* EDA for champoin info\n",
    "    * Concat train/test/submission data & champoin info\n",
    "    * Champion combination\n",
    "    * Distribution of high frequent champcombi \n",
    "* Modeling with adding champoin combi"
   ]
  },
  {
   "cell_type": "code",
   "execution_count": 1,
   "metadata": {},
   "outputs": [
    {
     "name": "stdout",
     "output_type": "stream",
     "text": [
      "Requirement already satisfied: xgboost in /Users/yoo/anaconda/lib/python3.6/site-packages\r\n",
      "Requirement already satisfied: numpy in /Users/yoo/anaconda/lib/python3.6/site-packages (from xgboost)\r\n",
      "Requirement already satisfied: scipy in /Users/yoo/anaconda/lib/python3.6/site-packages (from xgboost)\r\n",
      "Requirement already satisfied: scikit-learn in /Users/yoo/anaconda/lib/python3.6/site-packages (from xgboost)\r\n"
     ]
    }
   ],
   "source": [
    "!pip install xgboost"
   ]
  },
  {
   "cell_type": "code",
   "execution_count": 2,
   "metadata": {},
   "outputs": [
    {
     "name": "stderr",
     "output_type": "stream",
     "text": [
      "/Users/yoo/anaconda/lib/python3.6/site-packages/statsmodels/compat/pandas.py:56: FutureWarning: The pandas.core.datetools module is deprecated and will be removed in a future version. Please use the pandas.tseries module instead.\n",
      "  from pandas.core import datetools\n",
      "/Users/yoo/anaconda/lib/python3.6/site-packages/sklearn/cross_validation.py:44: DeprecationWarning: This module was deprecated in version 0.18 in favor of the model_selection module into which all the refactored classes and functions are moved. Also note that the interface of the new CV iterators are different from that of this module. This module will be removed in 0.20.\n",
      "  \"This module will be removed in 0.20.\", DeprecationWarning)\n"
     ]
    }
   ],
   "source": [
    "import json\n",
    "import pandas as pd\n",
    "import scipy as sp\n",
    "import matplotlib.pyplot as plt\n",
    "from matplotlib import style\n",
    "import seaborn as sns\n",
    "import numpy as np\n",
    "import statsmodels.api as sm\n",
    "from patsy import dmatrix\n",
    "import statsmodels.stats.api as sms\n",
    "\n",
    "import xgboost\n",
    "from sklearn.linear_model import SGDClassifier\n",
    "from sklearn.ensemble import ExtraTreesClassifier\n",
    "from sklearn.linear_model import LogisticRegression\n",
    "from sklearn.linear_model import LinearRegression\n",
    "from sklearn.svm import SVC\n",
    "\n",
    "from sklearn.metrics import log_loss,accuracy_score\n",
    "from sklearn.model_selection import KFold\n",
    "from sklearn.model_selection import cross_val_score"
   ]
  },
  {
   "cell_type": "code",
   "execution_count": 4,
   "metadata": {
    "collapsed": true
   },
   "outputs": [],
   "source": [
    "# read train data\n",
    "with open('./data/train_data.json') as fp:\n",
    "    json_str = fp.read()\n",
    "    json_train = json.loads(json_str)\n",
    "    \n",
    "with open('./data/test.input.json') as fp:\n",
    "    json_str = fp.read()\n",
    "    json_test = json.loads(json_str)\n",
    "    \n",
    "with open('./data/test.output') as fp:\n",
    "    test_out = fp.read()\n",
    "    test_out = test_out.splitlines()\n",
    "#     json_testout = json.loads(json_str)   \n",
    "\n",
    "with open('./data/grading.input.json') as fp:\n",
    "    sub_in = fp.read()\n",
    "#    sub_out = sub_in.splitlines()\n",
    "    sub_in = json.loads(sub_in)   "
   ]
  },
  {
   "cell_type": "code",
   "execution_count": 35,
   "metadata": {
    "collapsed": true
   },
   "outputs": [],
   "source": [
    "# preprocessing train data\n",
    "\n",
    "train_lst = []\n",
    "train_row = {}\n",
    "for i in range(len(json_train)):\n",
    "    for j, player in enumerate(json_train[i]['participants']): # 그 경기 내에 참여자들\n",
    "        train_row['champId_'+str(j)] = player['championId'] # 참여자의 champid\n",
    "        train_row['player_'+str(j)] = player['summonerId'] # 참여자의 smid \n",
    "        \n",
    "    train_row['target'] = json_train[i]['teams'][0]['winner'] # 그 경기에서 100번팀의 승리 여부\n",
    "    \n",
    "                  \n",
    "    train_lst.append(train_row) # 한 경기 참여자들을 모두 lst의 row로\n",
    "    train_row = {}\n",
    "    \n",
    "train_df = pd.DataFrame(train_lst)"
   ]
  },
  {
   "cell_type": "code",
   "execution_count": 6,
   "metadata": {},
   "outputs": [
    {
     "data": {
      "text/html": [
       "<div>\n",
       "<style>\n",
       "    .dataframe thead tr:only-child th {\n",
       "        text-align: right;\n",
       "    }\n",
       "\n",
       "    .dataframe thead th {\n",
       "        text-align: left;\n",
       "    }\n",
       "\n",
       "    .dataframe tbody tr th {\n",
       "        vertical-align: top;\n",
       "    }\n",
       "</style>\n",
       "<table border=\"1\" class=\"dataframe\">\n",
       "  <thead>\n",
       "    <tr style=\"text-align: right;\">\n",
       "      <th></th>\n",
       "      <th>champId_0</th>\n",
       "      <th>champId_1</th>\n",
       "      <th>champId_2</th>\n",
       "      <th>champId_3</th>\n",
       "      <th>champId_4</th>\n",
       "      <th>champId_5</th>\n",
       "      <th>champId_6</th>\n",
       "      <th>champId_7</th>\n",
       "      <th>champId_8</th>\n",
       "      <th>champId_9</th>\n",
       "      <th>...</th>\n",
       "      <th>player_1</th>\n",
       "      <th>player_2</th>\n",
       "      <th>player_3</th>\n",
       "      <th>player_4</th>\n",
       "      <th>player_5</th>\n",
       "      <th>player_6</th>\n",
       "      <th>player_7</th>\n",
       "      <th>player_8</th>\n",
       "      <th>player_9</th>\n",
       "      <th>target</th>\n",
       "    </tr>\n",
       "  </thead>\n",
       "  <tbody>\n",
       "    <tr>\n",
       "      <th>0</th>\n",
       "      <td>238</td>\n",
       "      <td>412</td>\n",
       "      <td>236</td>\n",
       "      <td>117</td>\n",
       "      <td>20</td>\n",
       "      <td>421</td>\n",
       "      <td>22</td>\n",
       "      <td>103</td>\n",
       "      <td>63</td>\n",
       "      <td>150</td>\n",
       "      <td>...</td>\n",
       "      <td>178</td>\n",
       "      <td>724</td>\n",
       "      <td>553</td>\n",
       "      <td>1577</td>\n",
       "      <td>1406</td>\n",
       "      <td>1535</td>\n",
       "      <td>2448</td>\n",
       "      <td>1420</td>\n",
       "      <td>3440</td>\n",
       "      <td>False</td>\n",
       "    </tr>\n",
       "    <tr>\n",
       "      <th>1</th>\n",
       "      <td>64</td>\n",
       "      <td>412</td>\n",
       "      <td>236</td>\n",
       "      <td>76</td>\n",
       "      <td>8</td>\n",
       "      <td>222</td>\n",
       "      <td>268</td>\n",
       "      <td>245</td>\n",
       "      <td>421</td>\n",
       "      <td>12</td>\n",
       "      <td>...</td>\n",
       "      <td>6873</td>\n",
       "      <td>5159</td>\n",
       "      <td>6874</td>\n",
       "      <td>231</td>\n",
       "      <td>5352</td>\n",
       "      <td>1431</td>\n",
       "      <td>6842</td>\n",
       "      <td>3221</td>\n",
       "      <td>2240</td>\n",
       "      <td>False</td>\n",
       "    </tr>\n",
       "    <tr>\n",
       "      <th>2</th>\n",
       "      <td>69</td>\n",
       "      <td>64</td>\n",
       "      <td>57</td>\n",
       "      <td>104</td>\n",
       "      <td>40</td>\n",
       "      <td>111</td>\n",
       "      <td>39</td>\n",
       "      <td>15</td>\n",
       "      <td>8</td>\n",
       "      <td>90</td>\n",
       "      <td>...</td>\n",
       "      <td>874</td>\n",
       "      <td>2539</td>\n",
       "      <td>1107</td>\n",
       "      <td>1108</td>\n",
       "      <td>903</td>\n",
       "      <td>2981</td>\n",
       "      <td>2977</td>\n",
       "      <td>1182</td>\n",
       "      <td>626</td>\n",
       "      <td>True</td>\n",
       "    </tr>\n",
       "    <tr>\n",
       "      <th>3</th>\n",
       "      <td>107</td>\n",
       "      <td>96</td>\n",
       "      <td>25</td>\n",
       "      <td>222</td>\n",
       "      <td>113</td>\n",
       "      <td>268</td>\n",
       "      <td>245</td>\n",
       "      <td>12</td>\n",
       "      <td>64</td>\n",
       "      <td>236</td>\n",
       "      <td>...</td>\n",
       "      <td>883</td>\n",
       "      <td>225</td>\n",
       "      <td>1836</td>\n",
       "      <td>228</td>\n",
       "      <td>174</td>\n",
       "      <td>191</td>\n",
       "      <td>2331</td>\n",
       "      <td>250</td>\n",
       "      <td>226</td>\n",
       "      <td>True</td>\n",
       "    </tr>\n",
       "    <tr>\n",
       "      <th>4</th>\n",
       "      <td>236</td>\n",
       "      <td>76</td>\n",
       "      <td>103</td>\n",
       "      <td>92</td>\n",
       "      <td>89</td>\n",
       "      <td>102</td>\n",
       "      <td>412</td>\n",
       "      <td>101</td>\n",
       "      <td>39</td>\n",
       "      <td>222</td>\n",
       "      <td>...</td>\n",
       "      <td>465</td>\n",
       "      <td>2461</td>\n",
       "      <td>1339</td>\n",
       "      <td>2670</td>\n",
       "      <td>422</td>\n",
       "      <td>2684</td>\n",
       "      <td>1083</td>\n",
       "      <td>4272</td>\n",
       "      <td>2494</td>\n",
       "      <td>False</td>\n",
       "    </tr>\n",
       "  </tbody>\n",
       "</table>\n",
       "<p>5 rows × 21 columns</p>\n",
       "</div>"
      ],
      "text/plain": [
       "   champId_0  champId_1  champId_2  champId_3  champId_4  champId_5  \\\n",
       "0        238        412        236        117         20        421   \n",
       "1         64        412        236         76          8        222   \n",
       "2         69         64         57        104         40        111   \n",
       "3        107         96         25        222        113        268   \n",
       "4        236         76        103         92         89        102   \n",
       "\n",
       "   champId_6  champId_7  champId_8  champId_9   ...    player_1  player_2  \\\n",
       "0         22        103         63        150   ...         178       724   \n",
       "1        268        245        421         12   ...        6873      5159   \n",
       "2         39         15          8         90   ...         874      2539   \n",
       "3        245         12         64        236   ...         883       225   \n",
       "4        412        101         39        222   ...         465      2461   \n",
       "\n",
       "   player_3  player_4  player_5  player_6  player_7  player_8  player_9  \\\n",
       "0       553      1577      1406      1535      2448      1420      3440   \n",
       "1      6874       231      5352      1431      6842      3221      2240   \n",
       "2      1107      1108       903      2981      2977      1182       626   \n",
       "3      1836       228       174       191      2331       250       226   \n",
       "4      1339      2670       422      2684      1083      4272      2494   \n",
       "\n",
       "   target  \n",
       "0   False  \n",
       "1   False  \n",
       "2    True  \n",
       "3    True  \n",
       "4   False  \n",
       "\n",
       "[5 rows x 21 columns]"
      ]
     },
     "execution_count": 6,
     "metadata": {},
     "output_type": "execute_result"
    }
   ],
   "source": [
    "train_df.head()"
   ]
  },
  {
   "cell_type": "code",
   "execution_count": 10,
   "metadata": {},
   "outputs": [
    {
     "data": {
      "text/plain": [
       "38679"
      ]
     },
     "execution_count": 10,
     "metadata": {},
     "output_type": "execute_result"
    }
   ],
   "source": [
    "len(train_df)"
   ]
  },
  {
   "cell_type": "code",
   "execution_count": 7,
   "metadata": {
    "collapsed": true
   },
   "outputs": [],
   "source": [
    "# test data 전처리\n",
    "\n",
    "test_lst = []\n",
    "test_row = {}\n",
    "for i in range(len(json_test)):\n",
    "    for j, player in enumerate(json_test[i]['participants']): # 그 경기 내에 참여자들\n",
    "        test_row['champId_'+str(j)] = player['championId'] # 참여자의 champid\n",
    "        test_row['player_'+str(j)] = player['summonerId'] # 참여자의 smid \n",
    "        \n",
    "    #test_row['win_100'] = json_test[i]['teams'][0]['winner'] # 그 경기에서 100번팀의 승리 여부\n",
    "    \n",
    "                  \n",
    "    test_lst.append(test_row) # 한 경기 참여자들을 모두 lst의 row로\n",
    "    test_row = {}\n",
    "    \n",
    "test_df = pd.DataFrame(test_lst)\n",
    "test_df['target'] = test_out\n",
    "test_df['target'] = test_df['target'].map(lambda x: True if x == '100' else False)"
   ]
  },
  {
   "cell_type": "code",
   "execution_count": 8,
   "metadata": {},
   "outputs": [
    {
     "data": {
      "text/html": [
       "<div>\n",
       "<style>\n",
       "    .dataframe thead tr:only-child th {\n",
       "        text-align: right;\n",
       "    }\n",
       "\n",
       "    .dataframe thead th {\n",
       "        text-align: left;\n",
       "    }\n",
       "\n",
       "    .dataframe tbody tr th {\n",
       "        vertical-align: top;\n",
       "    }\n",
       "</style>\n",
       "<table border=\"1\" class=\"dataframe\">\n",
       "  <thead>\n",
       "    <tr style=\"text-align: right;\">\n",
       "      <th></th>\n",
       "      <th>champId_0</th>\n",
       "      <th>champId_1</th>\n",
       "      <th>champId_2</th>\n",
       "      <th>champId_3</th>\n",
       "      <th>champId_4</th>\n",
       "      <th>champId_5</th>\n",
       "      <th>champId_6</th>\n",
       "      <th>champId_7</th>\n",
       "      <th>champId_8</th>\n",
       "      <th>champId_9</th>\n",
       "      <th>...</th>\n",
       "      <th>player_1</th>\n",
       "      <th>player_2</th>\n",
       "      <th>player_3</th>\n",
       "      <th>player_4</th>\n",
       "      <th>player_5</th>\n",
       "      <th>player_6</th>\n",
       "      <th>player_7</th>\n",
       "      <th>player_8</th>\n",
       "      <th>player_9</th>\n",
       "      <th>target</th>\n",
       "    </tr>\n",
       "  </thead>\n",
       "  <tbody>\n",
       "    <tr>\n",
       "      <th>0</th>\n",
       "      <td>236</td>\n",
       "      <td>28</td>\n",
       "      <td>111</td>\n",
       "      <td>13</td>\n",
       "      <td>8</td>\n",
       "      <td>69</td>\n",
       "      <td>120</td>\n",
       "      <td>254</td>\n",
       "      <td>201</td>\n",
       "      <td>222</td>\n",
       "      <td>...</td>\n",
       "      <td>835</td>\n",
       "      <td>1607</td>\n",
       "      <td>650</td>\n",
       "      <td>1284</td>\n",
       "      <td>4748</td>\n",
       "      <td>913</td>\n",
       "      <td>250</td>\n",
       "      <td>286</td>\n",
       "      <td>1436</td>\n",
       "      <td>True</td>\n",
       "    </tr>\n",
       "    <tr>\n",
       "      <th>1</th>\n",
       "      <td>22</td>\n",
       "      <td>157</td>\n",
       "      <td>54</td>\n",
       "      <td>59</td>\n",
       "      <td>412</td>\n",
       "      <td>40</td>\n",
       "      <td>236</td>\n",
       "      <td>64</td>\n",
       "      <td>8</td>\n",
       "      <td>98</td>\n",
       "      <td>...</td>\n",
       "      <td>1641</td>\n",
       "      <td>4405</td>\n",
       "      <td>286</td>\n",
       "      <td>788</td>\n",
       "      <td>2440</td>\n",
       "      <td>2009</td>\n",
       "      <td>302</td>\n",
       "      <td>1115</td>\n",
       "      <td>10</td>\n",
       "      <td>False</td>\n",
       "    </tr>\n",
       "    <tr>\n",
       "      <th>2</th>\n",
       "      <td>111</td>\n",
       "      <td>81</td>\n",
       "      <td>236</td>\n",
       "      <td>254</td>\n",
       "      <td>98</td>\n",
       "      <td>10</td>\n",
       "      <td>245</td>\n",
       "      <td>110</td>\n",
       "      <td>40</td>\n",
       "      <td>67</td>\n",
       "      <td>...</td>\n",
       "      <td>184</td>\n",
       "      <td>1451</td>\n",
       "      <td>612</td>\n",
       "      <td>539</td>\n",
       "      <td>1249</td>\n",
       "      <td>451</td>\n",
       "      <td>871</td>\n",
       "      <td>277</td>\n",
       "      <td>1405</td>\n",
       "      <td>False</td>\n",
       "    </tr>\n",
       "    <tr>\n",
       "      <th>3</th>\n",
       "      <td>421</td>\n",
       "      <td>40</td>\n",
       "      <td>96</td>\n",
       "      <td>51</td>\n",
       "      <td>117</td>\n",
       "      <td>79</td>\n",
       "      <td>222</td>\n",
       "      <td>25</td>\n",
       "      <td>150</td>\n",
       "      <td>103</td>\n",
       "      <td>...</td>\n",
       "      <td>266</td>\n",
       "      <td>1072</td>\n",
       "      <td>2027</td>\n",
       "      <td>194</td>\n",
       "      <td>2257</td>\n",
       "      <td>2457</td>\n",
       "      <td>958</td>\n",
       "      <td>6294</td>\n",
       "      <td>3360</td>\n",
       "      <td>False</td>\n",
       "    </tr>\n",
       "    <tr>\n",
       "      <th>4</th>\n",
       "      <td>122</td>\n",
       "      <td>161</td>\n",
       "      <td>7</td>\n",
       "      <td>81</td>\n",
       "      <td>25</td>\n",
       "      <td>20</td>\n",
       "      <td>412</td>\n",
       "      <td>54</td>\n",
       "      <td>15</td>\n",
       "      <td>69</td>\n",
       "      <td>...</td>\n",
       "      <td>1757</td>\n",
       "      <td>466</td>\n",
       "      <td>1680</td>\n",
       "      <td>208</td>\n",
       "      <td>400</td>\n",
       "      <td>79</td>\n",
       "      <td>317</td>\n",
       "      <td>128</td>\n",
       "      <td>348</td>\n",
       "      <td>False</td>\n",
       "    </tr>\n",
       "  </tbody>\n",
       "</table>\n",
       "<p>5 rows × 21 columns</p>\n",
       "</div>"
      ],
      "text/plain": [
       "   champId_0  champId_1  champId_2  champId_3  champId_4  champId_5  \\\n",
       "0        236         28        111         13          8         69   \n",
       "1         22        157         54         59        412         40   \n",
       "2        111         81        236        254         98         10   \n",
       "3        421         40         96         51        117         79   \n",
       "4        122        161          7         81         25         20   \n",
       "\n",
       "   champId_6  champId_7  champId_8  champId_9   ...    player_1  player_2  \\\n",
       "0        120        254        201        222   ...         835      1607   \n",
       "1        236         64          8         98   ...        1641      4405   \n",
       "2        245        110         40         67   ...         184      1451   \n",
       "3        222         25        150        103   ...         266      1072   \n",
       "4        412         54         15         69   ...        1757       466   \n",
       "\n",
       "   player_3  player_4  player_5  player_6  player_7  player_8  player_9  \\\n",
       "0       650      1284      4748       913       250       286      1436   \n",
       "1       286       788      2440      2009       302      1115        10   \n",
       "2       612       539      1249       451       871       277      1405   \n",
       "3      2027       194      2257      2457       958      6294      3360   \n",
       "4      1680       208       400        79       317       128       348   \n",
       "\n",
       "   target  \n",
       "0    True  \n",
       "1   False  \n",
       "2   False  \n",
       "3   False  \n",
       "4   False  \n",
       "\n",
       "[5 rows x 21 columns]"
      ]
     },
     "execution_count": 8,
     "metadata": {},
     "output_type": "execute_result"
    }
   ],
   "source": [
    "test_df.head()"
   ]
  },
  {
   "cell_type": "code",
   "execution_count": 14,
   "metadata": {},
   "outputs": [
    {
     "data": {
      "text/plain": [
       "Index(['champId_0', 'champId_1', 'champId_2', 'champId_3', 'champId_4',\n",
       "       'champId_5', 'champId_6', 'champId_7', 'champId_8', 'champId_9',\n",
       "       'player_0', 'player_1', 'player_2', 'player_3', 'player_4', 'player_5',\n",
       "       'player_6', 'player_7', 'player_8', 'player_9', 'target'],\n",
       "      dtype='object')"
      ]
     },
     "execution_count": 14,
     "metadata": {},
     "output_type": "execute_result"
    }
   ],
   "source": [
    "train_df.columns"
   ]
  },
  {
   "cell_type": "code",
   "execution_count": 9,
   "metadata": {},
   "outputs": [
    {
     "data": {
      "text/plain": [
       "2000"
      ]
     },
     "execution_count": 9,
     "metadata": {},
     "output_type": "execute_result"
    }
   ],
   "source": [
    "len(test_df)"
   ]
  },
  {
   "cell_type": "code",
   "execution_count": 17,
   "metadata": {},
   "outputs": [
    {
     "data": {
      "text/plain": [
       "Index(['champId_0', 'champId_1', 'champId_2', 'champId_3', 'champId_4',\n",
       "       'champId_5', 'champId_6', 'champId_7', 'champId_8', 'champId_9',\n",
       "       'player_0', 'player_1', 'player_2', 'player_3', 'player_4', 'player_5',\n",
       "       'player_6', 'player_7', 'player_8', 'player_9', 'target'],\n",
       "      dtype='object')"
      ]
     },
     "execution_count": 17,
     "metadata": {},
     "output_type": "execute_result"
    }
   ],
   "source": [
    "test_df.columns"
   ]
  },
  {
   "cell_type": "code",
   "execution_count": 11,
   "metadata": {
    "collapsed": true
   },
   "outputs": [],
   "source": [
    "# sub data 전처리\n",
    "\n",
    "sub_lst = []\n",
    "sub_row = {}\n",
    "for i in range(len(sub_in)):\n",
    "    for j, player in enumerate(sub_in[i]['participants']): # 그 경기 내에 참여자들\n",
    "        sub_row['champId_'+str(j)] = player['championId'] # 참여자의 champid\n",
    "        sub_row['player_'+str(j)] = player['summonerId'] # 참여자의 smid \n",
    "        \n",
    "    #test_row['win_100'] = json_test[i]['teams'][0]['winner'] # 그 경기에서 100번팀의 승리 여부\n",
    "    \n",
    "                  \n",
    "    sub_lst.append(sub_row) # 한 경기 참여자들을 모두 lst의 row로\n",
    "    sub_row = {}\n",
    "    \n",
    "sub_df = pd.DataFrame(sub_lst)"
   ]
  },
  {
   "cell_type": "code",
   "execution_count": 12,
   "metadata": {},
   "outputs": [
    {
     "data": {
      "text/html": [
       "<div>\n",
       "<style>\n",
       "    .dataframe thead tr:only-child th {\n",
       "        text-align: right;\n",
       "    }\n",
       "\n",
       "    .dataframe thead th {\n",
       "        text-align: left;\n",
       "    }\n",
       "\n",
       "    .dataframe tbody tr th {\n",
       "        vertical-align: top;\n",
       "    }\n",
       "</style>\n",
       "<table border=\"1\" class=\"dataframe\">\n",
       "  <thead>\n",
       "    <tr style=\"text-align: right;\">\n",
       "      <th></th>\n",
       "      <th>champId_0</th>\n",
       "      <th>champId_1</th>\n",
       "      <th>champId_2</th>\n",
       "      <th>champId_3</th>\n",
       "      <th>champId_4</th>\n",
       "      <th>champId_5</th>\n",
       "      <th>champId_6</th>\n",
       "      <th>champId_7</th>\n",
       "      <th>champId_8</th>\n",
       "      <th>champId_9</th>\n",
       "      <th>player_0</th>\n",
       "      <th>player_1</th>\n",
       "      <th>player_2</th>\n",
       "      <th>player_3</th>\n",
       "      <th>player_4</th>\n",
       "      <th>player_5</th>\n",
       "      <th>player_6</th>\n",
       "      <th>player_7</th>\n",
       "      <th>player_8</th>\n",
       "      <th>player_9</th>\n",
       "    </tr>\n",
       "  </thead>\n",
       "  <tbody>\n",
       "    <tr>\n",
       "      <th>0</th>\n",
       "      <td>28</td>\n",
       "      <td>54</td>\n",
       "      <td>53</td>\n",
       "      <td>429</td>\n",
       "      <td>8</td>\n",
       "      <td>157</td>\n",
       "      <td>67</td>\n",
       "      <td>76</td>\n",
       "      <td>12</td>\n",
       "      <td>268</td>\n",
       "      <td>1120</td>\n",
       "      <td>158</td>\n",
       "      <td>251</td>\n",
       "      <td>1544</td>\n",
       "      <td>764</td>\n",
       "      <td>599</td>\n",
       "      <td>81</td>\n",
       "      <td>537</td>\n",
       "      <td>713</td>\n",
       "      <td>1239</td>\n",
       "    </tr>\n",
       "    <tr>\n",
       "      <th>1</th>\n",
       "      <td>81</td>\n",
       "      <td>89</td>\n",
       "      <td>105</td>\n",
       "      <td>254</td>\n",
       "      <td>120</td>\n",
       "      <td>67</td>\n",
       "      <td>107</td>\n",
       "      <td>69</td>\n",
       "      <td>150</td>\n",
       "      <td>9</td>\n",
       "      <td>488</td>\n",
       "      <td>2121</td>\n",
       "      <td>723</td>\n",
       "      <td>432</td>\n",
       "      <td>1019</td>\n",
       "      <td>1451</td>\n",
       "      <td>491</td>\n",
       "      <td>1264</td>\n",
       "      <td>2157</td>\n",
       "      <td>170</td>\n",
       "    </tr>\n",
       "    <tr>\n",
       "      <th>2</th>\n",
       "      <td>412</td>\n",
       "      <td>4</td>\n",
       "      <td>51</td>\n",
       "      <td>107</td>\n",
       "      <td>57</td>\n",
       "      <td>25</td>\n",
       "      <td>421</td>\n",
       "      <td>39</td>\n",
       "      <td>22</td>\n",
       "      <td>105</td>\n",
       "      <td>996</td>\n",
       "      <td>850</td>\n",
       "      <td>1621</td>\n",
       "      <td>1404</td>\n",
       "      <td>1622</td>\n",
       "      <td>224</td>\n",
       "      <td>1406</td>\n",
       "      <td>1623</td>\n",
       "      <td>291</td>\n",
       "      <td>179</td>\n",
       "    </tr>\n",
       "    <tr>\n",
       "      <th>3</th>\n",
       "      <td>13</td>\n",
       "      <td>79</td>\n",
       "      <td>22</td>\n",
       "      <td>150</td>\n",
       "      <td>412</td>\n",
       "      <td>43</td>\n",
       "      <td>51</td>\n",
       "      <td>105</td>\n",
       "      <td>36</td>\n",
       "      <td>121</td>\n",
       "      <td>626</td>\n",
       "      <td>1142</td>\n",
       "      <td>953</td>\n",
       "      <td>1246</td>\n",
       "      <td>944</td>\n",
       "      <td>702</td>\n",
       "      <td>864</td>\n",
       "      <td>665</td>\n",
       "      <td>860</td>\n",
       "      <td>218</td>\n",
       "    </tr>\n",
       "    <tr>\n",
       "      <th>4</th>\n",
       "      <td>69</td>\n",
       "      <td>15</td>\n",
       "      <td>64</td>\n",
       "      <td>8</td>\n",
       "      <td>25</td>\n",
       "      <td>429</td>\n",
       "      <td>105</td>\n",
       "      <td>12</td>\n",
       "      <td>39</td>\n",
       "      <td>28</td>\n",
       "      <td>442</td>\n",
       "      <td>260</td>\n",
       "      <td>1476</td>\n",
       "      <td>1063</td>\n",
       "      <td>315</td>\n",
       "      <td>608</td>\n",
       "      <td>111</td>\n",
       "      <td>609</td>\n",
       "      <td>639</td>\n",
       "      <td>2243</td>\n",
       "    </tr>\n",
       "  </tbody>\n",
       "</table>\n",
       "</div>"
      ],
      "text/plain": [
       "   champId_0  champId_1  champId_2  champId_3  champId_4  champId_5  \\\n",
       "0         28         54         53        429          8        157   \n",
       "1         81         89        105        254        120         67   \n",
       "2        412          4         51        107         57         25   \n",
       "3         13         79         22        150        412         43   \n",
       "4         69         15         64          8         25        429   \n",
       "\n",
       "   champId_6  champId_7  champId_8  champId_9  player_0  player_1  player_2  \\\n",
       "0         67         76         12        268      1120       158       251   \n",
       "1        107         69        150          9       488      2121       723   \n",
       "2        421         39         22        105       996       850      1621   \n",
       "3         51        105         36        121       626      1142       953   \n",
       "4        105         12         39         28       442       260      1476   \n",
       "\n",
       "   player_3  player_4  player_5  player_6  player_7  player_8  player_9  \n",
       "0      1544       764       599        81       537       713      1239  \n",
       "1       432      1019      1451       491      1264      2157       170  \n",
       "2      1404      1622       224      1406      1623       291       179  \n",
       "3      1246       944       702       864       665       860       218  \n",
       "4      1063       315       608       111       609       639      2243  "
      ]
     },
     "execution_count": 12,
     "metadata": {},
     "output_type": "execute_result"
    }
   ],
   "source": [
    "sub_df.head()"
   ]
  },
  {
   "cell_type": "code",
   "execution_count": 16,
   "metadata": {},
   "outputs": [
    {
     "data": {
      "text/plain": [
       "Index(['champId_0', 'champId_1', 'champId_2', 'champId_3', 'champId_4',\n",
       "       'champId_5', 'champId_6', 'champId_7', 'champId_8', 'champId_9',\n",
       "       'player_0', 'player_1', 'player_2', 'player_3', 'player_4', 'player_5',\n",
       "       'player_6', 'player_7', 'player_8', 'player_9'],\n",
       "      dtype='object')"
      ]
     },
     "execution_count": 16,
     "metadata": {},
     "output_type": "execute_result"
    }
   ],
   "source": [
    "sub_df.columns"
   ]
  },
  {
   "cell_type": "code",
   "execution_count": 13,
   "metadata": {},
   "outputs": [
    {
     "data": {
      "text/plain": [
       "2000"
      ]
     },
     "execution_count": 13,
     "metadata": {},
     "output_type": "execute_result"
    }
   ],
   "source": [
    "len(test_df)"
   ]
  },
  {
   "cell_type": "markdown",
   "metadata": {},
   "source": [
    "### Building first model"
   ]
  },
  {
   "cell_type": "code",
   "execution_count": 19,
   "metadata": {},
   "outputs": [
    {
     "data": {
      "text/plain": [
       "Index(['champId_0', 'champId_1', 'champId_2', 'champId_3', 'champId_4',\n",
       "       'champId_5', 'champId_6', 'champId_7', 'champId_8', 'champId_9',\n",
       "       'player_0', 'player_1', 'player_2', 'player_3', 'player_4', 'player_5',\n",
       "       'player_6', 'player_7', 'player_8', 'player_9', 'target'],\n",
       "      dtype='object')"
      ]
     },
     "execution_count": 19,
     "metadata": {},
     "output_type": "execute_result"
    }
   ],
   "source": [
    "train_df.columns"
   ]
  },
  {
   "cell_type": "code",
   "execution_count": 20,
   "metadata": {
    "collapsed": true
   },
   "outputs": [],
   "source": [
    "# features selected\n",
    "col = ['champId_0', 'champId_1', 'champId_2', 'champId_3', 'champId_4',\n",
    "       'champId_5', 'champId_6', 'champId_7', 'champId_8', 'champId_9',\n",
    "       'player_0', 'player_1', 'player_2', 'player_3', 'player_4', 'player_5',\n",
    "       'player_6', 'player_7', 'player_8', 'player_9']\n",
    "\n",
    "X = train_df[col]\n",
    "y = train_df['target']\n",
    "\n",
    "test_X = test_df[col]\n",
    "test_y = test_df['target']"
   ]
  },
  {
   "cell_type": "markdown",
   "metadata": {},
   "source": [
    "#### with random forest"
   ]
  },
  {
   "cell_type": "code",
   "execution_count": 43,
   "metadata": {},
   "outputs": [
    {
     "data": {
      "text/plain": [
       "0.84799999999999998"
      ]
     },
     "execution_count": 43,
     "metadata": {},
     "output_type": "execute_result"
    }
   ],
   "source": [
    "# fitting\n",
    "model = ExtraTreesClassifier(n_estimators=100).fit(X,y)\n",
    "\n",
    "# predict test data\n",
    "y_pred = model.predict(test_X)\n",
    "\n",
    "# accuracy\n",
    "accuracy_score(test_y, y_pred) # 0.85299 w=7, w=9 0.851, w=2"
   ]
  },
  {
   "cell_type": "markdown",
   "metadata": {},
   "source": [
    "#### with xgboost"
   ]
  },
  {
   "cell_type": "code",
   "execution_count": 42,
   "metadata": {},
   "outputs": [
    {
     "data": {
      "text/plain": [
       "0.85950000000000004"
      ]
     },
     "execution_count": 42,
     "metadata": {},
     "output_type": "execute_result"
    }
   ],
   "source": [
    "# fitting\n",
    "model = xgboost.XGBClassifier(n_estimators=100, max_depth=20).fit(X,y)\n",
    "\n",
    "# predict test data\n",
    "y_pred = model.predict(test_X)\n",
    "\n",
    "# accuracy\n",
    "accuracy_score(test_y, y_pred) # 0.85299 w=7, w=9 0.851, w=2"
   ]
  },
  {
   "cell_type": "code",
   "execution_count": 44,
   "metadata": {
    "collapsed": true
   },
   "outputs": [],
   "source": [
    "# submission 제출\n",
    "sub_X = sub_df[col]\n",
    "sub_pred = model.predict(sub_X)\n",
    "\n",
    "sub_pred = pd.Series(sub_pred).map(lambda x : '100' if x == True else '200')\n",
    "\n",
    "output_file = 'submission.txt'\n",
    "\n",
    "with open(output_file, 'w') as fp:\n",
    "    for _test_pred in sub_pred:\n",
    "        fp.write(_test_pred)\n",
    "        fp.write('\\n')"
   ]
  },
  {
   "cell_type": "code",
   "execution_count": 47,
   "metadata": {
    "collapsed": true
   },
   "outputs": [
    {
     "data": {
      "text/plain": [
       "'\\n제출 결과\\nsubmission 데이터 개수 = 8000\\n답안 데이터 개수 = 8000\\nAccuracy: 0.85475\\nScore: 85 pts.\\n85\\nScore: 85\\n'"
      ]
     },
     "execution_count": 47,
     "metadata": {},
     "output_type": "execute_result"
    }
   ],
   "source": [
    "'''\n",
    "제출 결과\n",
    "submission 데이터 개수 = 8000\n",
    "답안 데이터 개수 = 8000\n",
    "Accuracy: 0.85475\n",
    "Score: 85 pts.\n",
    "85\n",
    "Score: 85\n",
    "'''"
   ]
  },
  {
   "cell_type": "markdown",
   "metadata": {},
   "source": [
    "### EDA for champoin info"
   ]
  },
  {
   "cell_type": "code",
   "execution_count": 29,
   "metadata": {},
   "outputs": [],
   "source": [
    "# read champion info\n",
    "import urllib\n",
    "\n",
    "with urllib.request.urlopen('http://ddragon.leagueoflegends.com/cdn/6.24.1/data/en_US/champion.json') as response:\n",
    "    champion_info = json.loads(response.read())\n",
    "    \n",
    "row = {}\n",
    "lst = []\n",
    "for cname in champion_info['data']:\n",
    "    row['champId'] = champion_info['data'][cname]['key']\n",
    "    row['tags'] = champion_info['data'][cname]['tags']\n",
    "    row['name'] = cname\n",
    "    for ab in champion_info['data'][cname]['info']:\n",
    "        row[ab] = champion_info['data'][cname]['info'][ab]\n",
    "\n",
    "    lst.append(row)\n",
    "    row = {}\n",
    "    \n",
    "champ_df = pd.DataFrame(lst)"
   ]
  },
  {
   "cell_type": "code",
   "execution_count": 30,
   "metadata": {},
   "outputs": [
    {
     "data": {
      "text/html": [
       "<div>\n",
       "<style>\n",
       "    .dataframe thead tr:only-child th {\n",
       "        text-align: right;\n",
       "    }\n",
       "\n",
       "    .dataframe thead th {\n",
       "        text-align: left;\n",
       "    }\n",
       "\n",
       "    .dataframe tbody tr th {\n",
       "        vertical-align: top;\n",
       "    }\n",
       "</style>\n",
       "<table border=\"1\" class=\"dataframe\">\n",
       "  <thead>\n",
       "    <tr style=\"text-align: right;\">\n",
       "      <th></th>\n",
       "      <th>attack</th>\n",
       "      <th>champId</th>\n",
       "      <th>defense</th>\n",
       "      <th>difficulty</th>\n",
       "      <th>magic</th>\n",
       "      <th>name</th>\n",
       "      <th>tags</th>\n",
       "    </tr>\n",
       "  </thead>\n",
       "  <tbody>\n",
       "    <tr>\n",
       "      <th>0</th>\n",
       "      <td>8</td>\n",
       "      <td>266</td>\n",
       "      <td>4</td>\n",
       "      <td>4</td>\n",
       "      <td>3</td>\n",
       "      <td>Aatrox</td>\n",
       "      <td>[Fighter, Tank]</td>\n",
       "    </tr>\n",
       "    <tr>\n",
       "      <th>1</th>\n",
       "      <td>3</td>\n",
       "      <td>103</td>\n",
       "      <td>4</td>\n",
       "      <td>5</td>\n",
       "      <td>8</td>\n",
       "      <td>Ahri</td>\n",
       "      <td>[Mage, Assassin]</td>\n",
       "    </tr>\n",
       "    <tr>\n",
       "      <th>2</th>\n",
       "      <td>5</td>\n",
       "      <td>84</td>\n",
       "      <td>3</td>\n",
       "      <td>7</td>\n",
       "      <td>8</td>\n",
       "      <td>Akali</td>\n",
       "      <td>[Assassin]</td>\n",
       "    </tr>\n",
       "    <tr>\n",
       "      <th>3</th>\n",
       "      <td>6</td>\n",
       "      <td>12</td>\n",
       "      <td>9</td>\n",
       "      <td>7</td>\n",
       "      <td>5</td>\n",
       "      <td>Alistar</td>\n",
       "      <td>[Tank, Support]</td>\n",
       "    </tr>\n",
       "    <tr>\n",
       "      <th>4</th>\n",
       "      <td>2</td>\n",
       "      <td>32</td>\n",
       "      <td>6</td>\n",
       "      <td>3</td>\n",
       "      <td>8</td>\n",
       "      <td>Amumu</td>\n",
       "      <td>[Tank, Mage]</td>\n",
       "    </tr>\n",
       "  </tbody>\n",
       "</table>\n",
       "</div>"
      ],
      "text/plain": [
       "   attack champId  defense  difficulty  magic     name              tags\n",
       "0       8     266        4           4      3   Aatrox   [Fighter, Tank]\n",
       "1       3     103        4           5      8     Ahri  [Mage, Assassin]\n",
       "2       5      84        3           7      8    Akali        [Assassin]\n",
       "3       6      12        9           7      5  Alistar   [Tank, Support]\n",
       "4       2      32        6           3      8    Amumu      [Tank, Mage]"
      ]
     },
     "execution_count": 30,
     "metadata": {},
     "output_type": "execute_result"
    }
   ],
   "source": [
    "champ_df.head()"
   ]
  },
  {
   "cell_type": "markdown",
   "metadata": {},
   "source": [
    "#### Concat train/test/submission data & champoin info"
   ]
  },
  {
   "cell_type": "code",
   "execution_count": 34,
   "metadata": {
    "collapsed": true
   },
   "outputs": [],
   "source": [
    "# train \n",
    "for i in range(10):\n",
    "    \n",
    "    train_df['champId_'+str(i)]= train_df['champId_'+str(i)].map(str)\n",
    "    champ_df.columns = ['attack_'+str(i),'champId_'+str(i),\n",
    "         \n",
    "                        'defense_'+str(i),'difficulty_'+str(i),\n",
    "                        'magic_'+str(i),'name_'+str(i),'tags_'+str(i)]\n",
    "    \n",
    "    train_df = pd.merge(train_df, champ_df, on='champId_'+str(i), how='left')\n",
    "    \n",
    "# test \n",
    "for i in range(10):\n",
    "    \n",
    "    test_df['champId_'+str(i)]= test_df['champId_'+str(i)].map(str)\n",
    "    champ_df.columns = ['attack_'+str(i),'champId_'+str(i),\n",
    "                        'defense_'+str(i),'difficulty_'+str(i),\n",
    "                        'magic_'+str(i),'name_'+str(i),'tags_'+str(i)]\n",
    "    \n",
    "    test_df = pd.merge(test_df, champ_df, on='champId_'+str(i), how='left')\n",
    "\n",
    "# sub \n",
    "for i in range(10):\n",
    "    \n",
    "    sub_df['champId_'+str(i)]= sub_df['champId_'+str(i)].map(str)\n",
    "    champ_df.columns = ['attack_'+str(i),'champId_'+str(i),\n",
    "                        'defense_'+str(i),'difficulty_'+str(i),\n",
    "                        'magic_'+str(i),'name_'+str(i),'tags_'+str(i)]\n",
    "    \n",
    "    sub_df = pd.merge(sub_df, champ_df, on='champId_'+str(i), how='left')"
   ]
  },
  {
   "cell_type": "code",
   "execution_count": 37,
   "metadata": {},
   "outputs": [
    {
     "data": {
      "text/html": [
       "<div>\n",
       "<style>\n",
       "    .dataframe thead tr:only-child th {\n",
       "        text-align: right;\n",
       "    }\n",
       "\n",
       "    .dataframe thead th {\n",
       "        text-align: left;\n",
       "    }\n",
       "\n",
       "    .dataframe tbody tr th {\n",
       "        vertical-align: top;\n",
       "    }\n",
       "</style>\n",
       "<table border=\"1\" class=\"dataframe\">\n",
       "  <thead>\n",
       "    <tr style=\"text-align: right;\">\n",
       "      <th></th>\n",
       "      <th>champId_0</th>\n",
       "      <th>champId_1</th>\n",
       "      <th>champId_2</th>\n",
       "      <th>champId_3</th>\n",
       "      <th>champId_4</th>\n",
       "      <th>champId_5</th>\n",
       "      <th>champId_6</th>\n",
       "      <th>champId_7</th>\n",
       "      <th>champId_8</th>\n",
       "      <th>champId_9</th>\n",
       "      <th>...</th>\n",
       "      <th>difficulty_8</th>\n",
       "      <th>magic_8</th>\n",
       "      <th>name_8</th>\n",
       "      <th>tags_8</th>\n",
       "      <th>attack_9</th>\n",
       "      <th>defense_9</th>\n",
       "      <th>difficulty_9</th>\n",
       "      <th>magic_9</th>\n",
       "      <th>name_9</th>\n",
       "      <th>tags_9</th>\n",
       "    </tr>\n",
       "  </thead>\n",
       "  <tbody>\n",
       "    <tr>\n",
       "      <th>0</th>\n",
       "      <td>238</td>\n",
       "      <td>412</td>\n",
       "      <td>236</td>\n",
       "      <td>117</td>\n",
       "      <td>20</td>\n",
       "      <td>421</td>\n",
       "      <td>22</td>\n",
       "      <td>103</td>\n",
       "      <td>63</td>\n",
       "      <td>150</td>\n",
       "      <td>...</td>\n",
       "      <td>4</td>\n",
       "      <td>9</td>\n",
       "      <td>Brand</td>\n",
       "      <td>[Mage]</td>\n",
       "      <td>6</td>\n",
       "      <td>5</td>\n",
       "      <td>8</td>\n",
       "      <td>5</td>\n",
       "      <td>Gnar</td>\n",
       "      <td>[Fighter, Tank]</td>\n",
       "    </tr>\n",
       "    <tr>\n",
       "      <th>1</th>\n",
       "      <td>64</td>\n",
       "      <td>412</td>\n",
       "      <td>236</td>\n",
       "      <td>76</td>\n",
       "      <td>8</td>\n",
       "      <td>222</td>\n",
       "      <td>268</td>\n",
       "      <td>245</td>\n",
       "      <td>421</td>\n",
       "      <td>12</td>\n",
       "      <td>...</td>\n",
       "      <td>3</td>\n",
       "      <td>2</td>\n",
       "      <td>RekSai</td>\n",
       "      <td>[Fighter]</td>\n",
       "      <td>6</td>\n",
       "      <td>9</td>\n",
       "      <td>7</td>\n",
       "      <td>5</td>\n",
       "      <td>Alistar</td>\n",
       "      <td>[Tank, Support]</td>\n",
       "    </tr>\n",
       "    <tr>\n",
       "      <th>2</th>\n",
       "      <td>69</td>\n",
       "      <td>64</td>\n",
       "      <td>57</td>\n",
       "      <td>104</td>\n",
       "      <td>40</td>\n",
       "      <td>111</td>\n",
       "      <td>39</td>\n",
       "      <td>15</td>\n",
       "      <td>8</td>\n",
       "      <td>90</td>\n",
       "      <td>...</td>\n",
       "      <td>7</td>\n",
       "      <td>8</td>\n",
       "      <td>Vladimir</td>\n",
       "      <td>[Mage, Tank]</td>\n",
       "      <td>2</td>\n",
       "      <td>2</td>\n",
       "      <td>6</td>\n",
       "      <td>9</td>\n",
       "      <td>Malzahar</td>\n",
       "      <td>[Mage, Assassin]</td>\n",
       "    </tr>\n",
       "    <tr>\n",
       "      <th>3</th>\n",
       "      <td>107</td>\n",
       "      <td>96</td>\n",
       "      <td>25</td>\n",
       "      <td>222</td>\n",
       "      <td>113</td>\n",
       "      <td>268</td>\n",
       "      <td>245</td>\n",
       "      <td>12</td>\n",
       "      <td>64</td>\n",
       "      <td>236</td>\n",
       "      <td>...</td>\n",
       "      <td>6</td>\n",
       "      <td>3</td>\n",
       "      <td>LeeSin</td>\n",
       "      <td>[Fighter, Assassin]</td>\n",
       "      <td>8</td>\n",
       "      <td>5</td>\n",
       "      <td>6</td>\n",
       "      <td>3</td>\n",
       "      <td>Lucian</td>\n",
       "      <td>[Marksman]</td>\n",
       "    </tr>\n",
       "    <tr>\n",
       "      <th>4</th>\n",
       "      <td>236</td>\n",
       "      <td>76</td>\n",
       "      <td>103</td>\n",
       "      <td>92</td>\n",
       "      <td>89</td>\n",
       "      <td>102</td>\n",
       "      <td>412</td>\n",
       "      <td>101</td>\n",
       "      <td>39</td>\n",
       "      <td>222</td>\n",
       "      <td>...</td>\n",
       "      <td>5</td>\n",
       "      <td>5</td>\n",
       "      <td>Irelia</td>\n",
       "      <td>[Fighter, Assassin]</td>\n",
       "      <td>9</td>\n",
       "      <td>2</td>\n",
       "      <td>6</td>\n",
       "      <td>4</td>\n",
       "      <td>Jinx</td>\n",
       "      <td>[Marksman]</td>\n",
       "    </tr>\n",
       "  </tbody>\n",
       "</table>\n",
       "<p>5 rows × 81 columns</p>\n",
       "</div>"
      ],
      "text/plain": [
       "  champId_0 champId_1 champId_2 champId_3 champId_4 champId_5 champId_6  \\\n",
       "0       238       412       236       117        20       421        22   \n",
       "1        64       412       236        76         8       222       268   \n",
       "2        69        64        57       104        40       111        39   \n",
       "3       107        96        25       222       113       268       245   \n",
       "4       236        76       103        92        89       102       412   \n",
       "\n",
       "  champId_7 champId_8 champId_9        ...         difficulty_8  magic_8  \\\n",
       "0       103        63       150        ...                    4        9   \n",
       "1       245       421        12        ...                    3        2   \n",
       "2        15         8        90        ...                    7        8   \n",
       "3        12        64       236        ...                    6        3   \n",
       "4       101        39       222        ...                    5        5   \n",
       "\n",
       "     name_8               tags_8  attack_9  defense_9  difficulty_9  magic_9  \\\n",
       "0     Brand               [Mage]         6          5             8        5   \n",
       "1    RekSai            [Fighter]         6          9             7        5   \n",
       "2  Vladimir         [Mage, Tank]         2          2             6        9   \n",
       "3    LeeSin  [Fighter, Assassin]         8          5             6        3   \n",
       "4    Irelia  [Fighter, Assassin]         9          2             6        4   \n",
       "\n",
       "     name_9            tags_9  \n",
       "0      Gnar   [Fighter, Tank]  \n",
       "1   Alistar   [Tank, Support]  \n",
       "2  Malzahar  [Mage, Assassin]  \n",
       "3    Lucian        [Marksman]  \n",
       "4      Jinx        [Marksman]  \n",
       "\n",
       "[5 rows x 81 columns]"
      ]
     },
     "execution_count": 37,
     "metadata": {},
     "output_type": "execute_result"
    }
   ],
   "source": [
    "train_df.head()"
   ]
  },
  {
   "cell_type": "code",
   "execution_count": 38,
   "metadata": {},
   "outputs": [
    {
     "data": {
      "text/html": [
       "<div>\n",
       "<style>\n",
       "    .dataframe thead tr:only-child th {\n",
       "        text-align: right;\n",
       "    }\n",
       "\n",
       "    .dataframe thead th {\n",
       "        text-align: left;\n",
       "    }\n",
       "\n",
       "    .dataframe tbody tr th {\n",
       "        vertical-align: top;\n",
       "    }\n",
       "</style>\n",
       "<table border=\"1\" class=\"dataframe\">\n",
       "  <thead>\n",
       "    <tr style=\"text-align: right;\">\n",
       "      <th></th>\n",
       "      <th>champId_0</th>\n",
       "      <th>champId_1</th>\n",
       "      <th>champId_2</th>\n",
       "      <th>champId_3</th>\n",
       "      <th>champId_4</th>\n",
       "      <th>champId_5</th>\n",
       "      <th>champId_6</th>\n",
       "      <th>champId_7</th>\n",
       "      <th>champId_8</th>\n",
       "      <th>champId_9</th>\n",
       "      <th>...</th>\n",
       "      <th>difficulty_8</th>\n",
       "      <th>magic_8</th>\n",
       "      <th>name_8</th>\n",
       "      <th>tags_8</th>\n",
       "      <th>attack_9</th>\n",
       "      <th>defense_9</th>\n",
       "      <th>difficulty_9</th>\n",
       "      <th>magic_9</th>\n",
       "      <th>name_9</th>\n",
       "      <th>tags_9</th>\n",
       "    </tr>\n",
       "  </thead>\n",
       "  <tbody>\n",
       "    <tr>\n",
       "      <th>0</th>\n",
       "      <td>236</td>\n",
       "      <td>28</td>\n",
       "      <td>111</td>\n",
       "      <td>13</td>\n",
       "      <td>8</td>\n",
       "      <td>69</td>\n",
       "      <td>120</td>\n",
       "      <td>254</td>\n",
       "      <td>201</td>\n",
       "      <td>222</td>\n",
       "      <td>...</td>\n",
       "      <td>3</td>\n",
       "      <td>4</td>\n",
       "      <td>Braum</td>\n",
       "      <td>[Support, Tank]</td>\n",
       "      <td>9</td>\n",
       "      <td>2</td>\n",
       "      <td>6</td>\n",
       "      <td>4</td>\n",
       "      <td>Jinx</td>\n",
       "      <td>[Marksman]</td>\n",
       "    </tr>\n",
       "    <tr>\n",
       "      <th>1</th>\n",
       "      <td>22</td>\n",
       "      <td>157</td>\n",
       "      <td>54</td>\n",
       "      <td>59</td>\n",
       "      <td>412</td>\n",
       "      <td>40</td>\n",
       "      <td>236</td>\n",
       "      <td>64</td>\n",
       "      <td>8</td>\n",
       "      <td>98</td>\n",
       "      <td>...</td>\n",
       "      <td>7</td>\n",
       "      <td>8</td>\n",
       "      <td>Vladimir</td>\n",
       "      <td>[Mage, Tank]</td>\n",
       "      <td>3</td>\n",
       "      <td>9</td>\n",
       "      <td>4</td>\n",
       "      <td>3</td>\n",
       "      <td>Shen</td>\n",
       "      <td>[Tank, Melee]</td>\n",
       "    </tr>\n",
       "    <tr>\n",
       "      <th>2</th>\n",
       "      <td>111</td>\n",
       "      <td>81</td>\n",
       "      <td>236</td>\n",
       "      <td>254</td>\n",
       "      <td>98</td>\n",
       "      <td>10</td>\n",
       "      <td>245</td>\n",
       "      <td>110</td>\n",
       "      <td>40</td>\n",
       "      <td>67</td>\n",
       "      <td>...</td>\n",
       "      <td>7</td>\n",
       "      <td>7</td>\n",
       "      <td>Janna</td>\n",
       "      <td>[Support, Mage]</td>\n",
       "      <td>10</td>\n",
       "      <td>1</td>\n",
       "      <td>8</td>\n",
       "      <td>1</td>\n",
       "      <td>Vayne</td>\n",
       "      <td>[Marksman, Assassin]</td>\n",
       "    </tr>\n",
       "    <tr>\n",
       "      <th>3</th>\n",
       "      <td>421</td>\n",
       "      <td>40</td>\n",
       "      <td>96</td>\n",
       "      <td>51</td>\n",
       "      <td>117</td>\n",
       "      <td>79</td>\n",
       "      <td>222</td>\n",
       "      <td>25</td>\n",
       "      <td>150</td>\n",
       "      <td>103</td>\n",
       "      <td>...</td>\n",
       "      <td>8</td>\n",
       "      <td>5</td>\n",
       "      <td>Gnar</td>\n",
       "      <td>[Fighter, Tank]</td>\n",
       "      <td>3</td>\n",
       "      <td>4</td>\n",
       "      <td>5</td>\n",
       "      <td>8</td>\n",
       "      <td>Ahri</td>\n",
       "      <td>[Mage, Assassin]</td>\n",
       "    </tr>\n",
       "    <tr>\n",
       "      <th>4</th>\n",
       "      <td>122</td>\n",
       "      <td>161</td>\n",
       "      <td>7</td>\n",
       "      <td>81</td>\n",
       "      <td>25</td>\n",
       "      <td>20</td>\n",
       "      <td>412</td>\n",
       "      <td>54</td>\n",
       "      <td>15</td>\n",
       "      <td>69</td>\n",
       "      <td>...</td>\n",
       "      <td>4</td>\n",
       "      <td>1</td>\n",
       "      <td>Sivir</td>\n",
       "      <td>[Marksman]</td>\n",
       "      <td>2</td>\n",
       "      <td>3</td>\n",
       "      <td>10</td>\n",
       "      <td>9</td>\n",
       "      <td>Cassiopeia</td>\n",
       "      <td>[Mage]</td>\n",
       "    </tr>\n",
       "  </tbody>\n",
       "</table>\n",
       "<p>5 rows × 81 columns</p>\n",
       "</div>"
      ],
      "text/plain": [
       "  champId_0 champId_1 champId_2 champId_3 champId_4 champId_5 champId_6  \\\n",
       "0       236        28       111        13         8        69       120   \n",
       "1        22       157        54        59       412        40       236   \n",
       "2       111        81       236       254        98        10       245   \n",
       "3       421        40        96        51       117        79       222   \n",
       "4       122       161         7        81        25        20       412   \n",
       "\n",
       "  champId_7 champId_8 champId_9          ...           difficulty_8  magic_8  \\\n",
       "0       254       201       222          ...                      3        4   \n",
       "1        64         8        98          ...                      7        8   \n",
       "2       110        40        67          ...                      7        7   \n",
       "3        25       150       103          ...                      8        5   \n",
       "4        54        15        69          ...                      4        1   \n",
       "\n",
       "     name_8           tags_8  attack_9  defense_9  difficulty_9  magic_9  \\\n",
       "0     Braum  [Support, Tank]         9          2             6        4   \n",
       "1  Vladimir     [Mage, Tank]         3          9             4        3   \n",
       "2     Janna  [Support, Mage]        10          1             8        1   \n",
       "3      Gnar  [Fighter, Tank]         3          4             5        8   \n",
       "4     Sivir       [Marksman]         2          3            10        9   \n",
       "\n",
       "       name_9                tags_9  \n",
       "0        Jinx            [Marksman]  \n",
       "1        Shen         [Tank, Melee]  \n",
       "2       Vayne  [Marksman, Assassin]  \n",
       "3        Ahri      [Mage, Assassin]  \n",
       "4  Cassiopeia                [Mage]  \n",
       "\n",
       "[5 rows x 81 columns]"
      ]
     },
     "execution_count": 38,
     "metadata": {},
     "output_type": "execute_result"
    }
   ],
   "source": [
    "test_df.head()"
   ]
  },
  {
   "cell_type": "code",
   "execution_count": 39,
   "metadata": {},
   "outputs": [
    {
     "data": {
      "text/html": [
       "<div>\n",
       "<style>\n",
       "    .dataframe thead tr:only-child th {\n",
       "        text-align: right;\n",
       "    }\n",
       "\n",
       "    .dataframe thead th {\n",
       "        text-align: left;\n",
       "    }\n",
       "\n",
       "    .dataframe tbody tr th {\n",
       "        vertical-align: top;\n",
       "    }\n",
       "</style>\n",
       "<table border=\"1\" class=\"dataframe\">\n",
       "  <thead>\n",
       "    <tr style=\"text-align: right;\">\n",
       "      <th></th>\n",
       "      <th>champId_0</th>\n",
       "      <th>champId_1</th>\n",
       "      <th>champId_2</th>\n",
       "      <th>champId_3</th>\n",
       "      <th>champId_4</th>\n",
       "      <th>champId_5</th>\n",
       "      <th>champId_6</th>\n",
       "      <th>champId_7</th>\n",
       "      <th>champId_8</th>\n",
       "      <th>champId_9</th>\n",
       "      <th>...</th>\n",
       "      <th>difficulty_8</th>\n",
       "      <th>magic_8</th>\n",
       "      <th>name_8</th>\n",
       "      <th>tags_8</th>\n",
       "      <th>attack_9</th>\n",
       "      <th>defense_9</th>\n",
       "      <th>difficulty_9</th>\n",
       "      <th>magic_9</th>\n",
       "      <th>name_9</th>\n",
       "      <th>tags_9</th>\n",
       "    </tr>\n",
       "  </thead>\n",
       "  <tbody>\n",
       "    <tr>\n",
       "      <th>0</th>\n",
       "      <td>28</td>\n",
       "      <td>54</td>\n",
       "      <td>53</td>\n",
       "      <td>429</td>\n",
       "      <td>8</td>\n",
       "      <td>157</td>\n",
       "      <td>67</td>\n",
       "      <td>76</td>\n",
       "      <td>12</td>\n",
       "      <td>268</td>\n",
       "      <td>...</td>\n",
       "      <td>7</td>\n",
       "      <td>5</td>\n",
       "      <td>Alistar</td>\n",
       "      <td>[Tank, Support]</td>\n",
       "      <td>6</td>\n",
       "      <td>3</td>\n",
       "      <td>9</td>\n",
       "      <td>8</td>\n",
       "      <td>Azir</td>\n",
       "      <td>[Mage, Marksman]</td>\n",
       "    </tr>\n",
       "    <tr>\n",
       "      <th>1</th>\n",
       "      <td>81</td>\n",
       "      <td>89</td>\n",
       "      <td>105</td>\n",
       "      <td>254</td>\n",
       "      <td>120</td>\n",
       "      <td>67</td>\n",
       "      <td>107</td>\n",
       "      <td>69</td>\n",
       "      <td>150</td>\n",
       "      <td>9</td>\n",
       "      <td>...</td>\n",
       "      <td>8</td>\n",
       "      <td>5</td>\n",
       "      <td>Gnar</td>\n",
       "      <td>[Fighter, Tank]</td>\n",
       "      <td>2</td>\n",
       "      <td>3</td>\n",
       "      <td>9</td>\n",
       "      <td>9</td>\n",
       "      <td>FiddleSticks</td>\n",
       "      <td>[Mage, Support]</td>\n",
       "    </tr>\n",
       "    <tr>\n",
       "      <th>2</th>\n",
       "      <td>412</td>\n",
       "      <td>4</td>\n",
       "      <td>51</td>\n",
       "      <td>107</td>\n",
       "      <td>57</td>\n",
       "      <td>25</td>\n",
       "      <td>421</td>\n",
       "      <td>39</td>\n",
       "      <td>22</td>\n",
       "      <td>105</td>\n",
       "      <td>...</td>\n",
       "      <td>4</td>\n",
       "      <td>2</td>\n",
       "      <td>Ashe</td>\n",
       "      <td>[Marksman, Support]</td>\n",
       "      <td>6</td>\n",
       "      <td>4</td>\n",
       "      <td>6</td>\n",
       "      <td>7</td>\n",
       "      <td>Fizz</td>\n",
       "      <td>[Assassin, Fighter]</td>\n",
       "    </tr>\n",
       "    <tr>\n",
       "      <th>3</th>\n",
       "      <td>13</td>\n",
       "      <td>79</td>\n",
       "      <td>22</td>\n",
       "      <td>150</td>\n",
       "      <td>412</td>\n",
       "      <td>43</td>\n",
       "      <td>51</td>\n",
       "      <td>105</td>\n",
       "      <td>36</td>\n",
       "      <td>121</td>\n",
       "      <td>...</td>\n",
       "      <td>5</td>\n",
       "      <td>6</td>\n",
       "      <td>DrMundo</td>\n",
       "      <td>[Fighter, Tank]</td>\n",
       "      <td>9</td>\n",
       "      <td>4</td>\n",
       "      <td>6</td>\n",
       "      <td>3</td>\n",
       "      <td>Khazix</td>\n",
       "      <td>[Assassin, Fighter]</td>\n",
       "    </tr>\n",
       "    <tr>\n",
       "      <th>4</th>\n",
       "      <td>69</td>\n",
       "      <td>15</td>\n",
       "      <td>64</td>\n",
       "      <td>8</td>\n",
       "      <td>25</td>\n",
       "      <td>429</td>\n",
       "      <td>105</td>\n",
       "      <td>12</td>\n",
       "      <td>39</td>\n",
       "      <td>28</td>\n",
       "      <td>...</td>\n",
       "      <td>5</td>\n",
       "      <td>5</td>\n",
       "      <td>Irelia</td>\n",
       "      <td>[Fighter, Assassin]</td>\n",
       "      <td>4</td>\n",
       "      <td>2</td>\n",
       "      <td>10</td>\n",
       "      <td>7</td>\n",
       "      <td>Evelynn</td>\n",
       "      <td>[Assassin, Mage]</td>\n",
       "    </tr>\n",
       "  </tbody>\n",
       "</table>\n",
       "<p>5 rows × 80 columns</p>\n",
       "</div>"
      ],
      "text/plain": [
       "  champId_0 champId_1 champId_2 champId_3 champId_4 champId_5 champId_6  \\\n",
       "0        28        54        53       429         8       157        67   \n",
       "1        81        89       105       254       120        67       107   \n",
       "2       412         4        51       107        57        25       421   \n",
       "3        13        79        22       150       412        43        51   \n",
       "4        69        15        64         8        25       429       105   \n",
       "\n",
       "  champId_7 champId_8 champId_9         ...           difficulty_8  magic_8  \\\n",
       "0        76        12       268         ...                      7        5   \n",
       "1        69       150         9         ...                      8        5   \n",
       "2        39        22       105         ...                      4        2   \n",
       "3       105        36       121         ...                      5        6   \n",
       "4        12        39        28         ...                      5        5   \n",
       "\n",
       "    name_8               tags_8  attack_9  defense_9  difficulty_9  magic_9  \\\n",
       "0  Alistar      [Tank, Support]         6          3             9        8   \n",
       "1     Gnar      [Fighter, Tank]         2          3             9        9   \n",
       "2     Ashe  [Marksman, Support]         6          4             6        7   \n",
       "3  DrMundo      [Fighter, Tank]         9          4             6        3   \n",
       "4   Irelia  [Fighter, Assassin]         4          2            10        7   \n",
       "\n",
       "         name_9               tags_9  \n",
       "0          Azir     [Mage, Marksman]  \n",
       "1  FiddleSticks      [Mage, Support]  \n",
       "2          Fizz  [Assassin, Fighter]  \n",
       "3        Khazix  [Assassin, Fighter]  \n",
       "4       Evelynn     [Assassin, Mage]  \n",
       "\n",
       "[5 rows x 80 columns]"
      ]
     },
     "execution_count": 39,
     "metadata": {},
     "output_type": "execute_result"
    }
   ],
   "source": [
    "sub_df.head()"
   ]
  },
  {
   "cell_type": "code",
   "execution_count": 49,
   "metadata": {},
   "outputs": [
    {
     "data": {
      "text/plain": [
       "Index(['champId_0', 'champId_1', 'champId_2', 'champId_3', 'champId_4',\n",
       "       'champId_5', 'champId_6', 'champId_7', 'champId_8', 'champId_9',\n",
       "       'player_0', 'player_1', 'player_2', 'player_3', 'player_4', 'player_5',\n",
       "       'player_6', 'player_7', 'player_8', 'player_9', 'target', 'attack_0',\n",
       "       'defense_0', 'difficulty_0', 'magic_0', 'name_0', 'tags_0', 'attack_1',\n",
       "       'defense_1', 'difficulty_1', 'magic_1', 'name_1', 'tags_1', 'attack_2',\n",
       "       'defense_2', 'difficulty_2', 'magic_2', 'name_2', 'tags_2', 'attack_3',\n",
       "       'defense_3', 'difficulty_3', 'magic_3', 'name_3', 'tags_3', 'attack_4',\n",
       "       'defense_4', 'difficulty_4', 'magic_4', 'name_4', 'tags_4', 'attack_5',\n",
       "       'defense_5', 'difficulty_5', 'magic_5', 'name_5', 'tags_5', 'attack_6',\n",
       "       'defense_6', 'difficulty_6', 'magic_6', 'name_6', 'tags_6', 'attack_7',\n",
       "       'defense_7', 'difficulty_7', 'magic_7', 'name_7', 'tags_7', 'attack_8',\n",
       "       'defense_8', 'difficulty_8', 'magic_8', 'name_8', 'tags_8', 'attack_9',\n",
       "       'defense_9', 'difficulty_9', 'magic_9', 'name_9', 'tags_9'],\n",
       "      dtype='object')"
      ]
     },
     "execution_count": 49,
     "metadata": {},
     "output_type": "execute_result"
    }
   ],
   "source": [
    "train_df.columns"
   ]
  },
  {
   "cell_type": "markdown",
   "metadata": {},
   "source": [
    "#### champion combination"
   ]
  },
  {
   "cell_type": "code",
   "execution_count": 59,
   "metadata": {},
   "outputs": [],
   "source": [
    "# train \n",
    "row = []\n",
    "champ_lst_str = []\n",
    "for i in range(len(train_df)):\n",
    "    for j in range(10):\n",
    "        row.append(str(train_df['champId_'+str(j)][i]))\n",
    "    champ_lst_str.append(str(', '.join(sorted(row))))\n",
    "    row= []\n",
    "    \n",
    "    \n",
    "# test\n",
    "row = []\n",
    "test_champ_lst_str = []\n",
    "for i in range(len(test_df)):\n",
    "    for j in range(10):\n",
    "        row.append(str(test_df['champId_'+str(j)][i]))\n",
    "    test_champ_lst_str.append(str(', '.join(sorted(row))))\n",
    "    row= []\n",
    "    \n",
    "# sub\n",
    "row = []\n",
    "sub_champ_lst_str = []\n",
    "for i in range(len(sub_df)):\n",
    "    for j in range(10):\n",
    "        row.append(str(sub_df['champId_'+str(j)][i]))\n",
    "    sub_champ_lst_str.append(str(', '.join(sorted(row))))\n",
    "    row= []"
   ]
  },
  {
   "cell_type": "code",
   "execution_count": 61,
   "metadata": {},
   "outputs": [],
   "source": [
    "# concat \n",
    "train_df['champ_combi'] = champ_lst_str\n",
    "test_df['champ_combi'] = test_champ_lst_str\n",
    "sub_df['champ_combi'] = sub_champ_lst_str"
   ]
  },
  {
   "cell_type": "code",
   "execution_count": 64,
   "metadata": {},
   "outputs": [
    {
     "data": {
      "text/plain": [
       "0    103, 117, 150, 20, 22, 236, 238, 412, 421, 63\n",
       "1      12, 222, 236, 245, 268, 412, 421, 64, 76, 8\n",
       "2          104, 111, 15, 39, 40, 57, 64, 69, 8, 90\n",
       "3     107, 113, 12, 222, 236, 245, 25, 268, 64, 96\n",
       "4     101, 102, 103, 222, 236, 39, 412, 76, 89, 92\n",
       "Name: champ_combi, dtype: object"
      ]
     },
     "execution_count": 64,
     "metadata": {},
     "output_type": "execute_result"
    }
   ],
   "source": [
    "train_df['champ_combi'].head()"
   ]
  },
  {
   "cell_type": "code",
   "execution_count": 65,
   "metadata": {},
   "outputs": [
    {
     "data": {
      "text/plain": [
       "0    111, 120, 13, 201, 222, 236, 254, 28, 69, 8\n",
       "1       157, 22, 236, 40, 412, 54, 59, 64, 8, 98\n",
       "2    10, 110, 111, 236, 245, 254, 40, 67, 81, 98\n",
       "3    103, 117, 150, 222, 25, 40, 421, 51, 79, 96\n",
       "4       122, 15, 161, 20, 25, 412, 54, 69, 7, 81\n",
       "Name: champ_combi, dtype: object"
      ]
     },
     "execution_count": 65,
     "metadata": {},
     "output_type": "execute_result"
    }
   ],
   "source": [
    "test_df['champ_combi'].head()"
   ]
  },
  {
   "cell_type": "code",
   "execution_count": 66,
   "metadata": {},
   "outputs": [
    {
     "data": {
      "text/plain": [
       "0      12, 157, 268, 28, 429, 53, 54, 67, 76, 8\n",
       "1    105, 107, 120, 150, 254, 67, 69, 81, 89, 9\n",
       "2     105, 107, 22, 25, 39, 4, 412, 421, 51, 57\n",
       "3    105, 121, 13, 150, 22, 36, 412, 43, 51, 79\n",
       "4       105, 12, 15, 25, 28, 39, 429, 64, 69, 8\n",
       "Name: champ_combi, dtype: object"
      ]
     },
     "execution_count": 66,
     "metadata": {},
     "output_type": "execute_result"
    }
   ],
   "source": [
    "sub_df['champ_combi'].head()"
   ]
  },
  {
   "cell_type": "markdown",
   "metadata": {},
   "source": [
    "##### Distribution of high frequent champcombi "
   ]
  },
  {
   "cell_type": "code",
   "execution_count": 70,
   "metadata": {},
   "outputs": [],
   "source": [
    "champcombi_gb = train_df.groupby('champ_combi').size()"
   ]
  },
  {
   "cell_type": "code",
   "execution_count": 73,
   "metadata": {},
   "outputs": [
    {
     "data": {
      "text/plain": [
       "10"
      ]
     },
     "execution_count": 73,
     "metadata": {},
     "output_type": "execute_result"
    }
   ],
   "source": [
    "champcombi_gb.max()"
   ]
  },
  {
   "cell_type": "markdown",
   "metadata": {},
   "source": [
    "-> 같은 챔피언 조합(1, 2팀)의 최대 빈도는 10이다\n"
   ]
  },
  {
   "cell_type": "code",
   "execution_count": 84,
   "metadata": {},
   "outputs": [],
   "source": [
    "# merge traindf, champ bin(해당 챔피언조합의 빈도) \n",
    "train_df = pd.merge(train_df, pd.DataFrame(champcombi_gb,columns=['champ_bin']).reset_index(), \n",
    "                    on='champ_combi', how='left')"
   ]
  },
  {
   "cell_type": "code",
   "execution_count": 87,
   "metadata": {},
   "outputs": [
    {
     "data": {
      "text/html": [
       "<div>\n",
       "<style>\n",
       "    .dataframe thead tr:only-child th {\n",
       "        text-align: right;\n",
       "    }\n",
       "\n",
       "    .dataframe thead th {\n",
       "        text-align: left;\n",
       "    }\n",
       "\n",
       "    .dataframe tbody tr th {\n",
       "        vertical-align: top;\n",
       "    }\n",
       "</style>\n",
       "<table border=\"1\" class=\"dataframe\">\n",
       "  <thead>\n",
       "    <tr style=\"text-align: right;\">\n",
       "      <th></th>\n",
       "      <th>champ_combi</th>\n",
       "      <th>champ_bin</th>\n",
       "    </tr>\n",
       "  </thead>\n",
       "  <tbody>\n",
       "    <tr>\n",
       "      <th>0</th>\n",
       "      <td>103, 117, 150, 20, 22, 236, 238, 412, 421, 63</td>\n",
       "      <td>1</td>\n",
       "    </tr>\n",
       "    <tr>\n",
       "      <th>1</th>\n",
       "      <td>12, 222, 236, 245, 268, 412, 421, 64, 76, 8</td>\n",
       "      <td>1</td>\n",
       "    </tr>\n",
       "    <tr>\n",
       "      <th>2</th>\n",
       "      <td>104, 111, 15, 39, 40, 57, 64, 69, 8, 90</td>\n",
       "      <td>1</td>\n",
       "    </tr>\n",
       "    <tr>\n",
       "      <th>3</th>\n",
       "      <td>107, 113, 12, 222, 236, 245, 25, 268, 64, 96</td>\n",
       "      <td>2</td>\n",
       "    </tr>\n",
       "    <tr>\n",
       "      <th>4</th>\n",
       "      <td>101, 102, 103, 222, 236, 39, 412, 76, 89, 92</td>\n",
       "      <td>1</td>\n",
       "    </tr>\n",
       "  </tbody>\n",
       "</table>\n",
       "</div>"
      ],
      "text/plain": [
       "                                     champ_combi  champ_bin\n",
       "0  103, 117, 150, 20, 22, 236, 238, 412, 421, 63          1\n",
       "1    12, 222, 236, 245, 268, 412, 421, 64, 76, 8          1\n",
       "2        104, 111, 15, 39, 40, 57, 64, 69, 8, 90          1\n",
       "3   107, 113, 12, 222, 236, 245, 25, 268, 64, 96          2\n",
       "4   101, 102, 103, 222, 236, 39, 412, 76, 89, 92          1"
      ]
     },
     "execution_count": 87,
     "metadata": {},
     "output_type": "execute_result"
    }
   ],
   "source": [
    "train_df[['champ_combi','champ_bin']].head()"
   ]
  },
  {
   "cell_type": "code",
   "execution_count": 94,
   "metadata": {},
   "outputs": [
    {
     "data": {
      "image/png": "[encoded data removed]",
      "text/plain": [
       "<matplotlib.figure.Figure at 0x145f54b70>"
      ]
     },
     "metadata": {},
     "output_type": "display_data"
    }
   ],
   "source": [
    "# 10번 이상 나타난 챔피언 조합의 분포\n",
    "temp_df = train_df[['champ_combi','target']][train_df['champ_bin']>=10]\n",
    "\n",
    "sns.countplot(data=temp_df, y='champ_combi', hue='target')\n",
    "plt.show()"
   ]
  },
  {
   "cell_type": "markdown",
   "metadata": {},
   "source": [
    "-> 두 팀의 특정 챔피언 조합은 100% 승률을 보인다. (비록, 10경기 뿐이지만 통계적으로 유의미하다고 판단)"
   ]
  },
  {
   "cell_type": "code",
   "execution_count": 96,
   "metadata": {},
   "outputs": [
    {
     "data": {
      "image/png": "[encoded data removed]",
      "text/plain": [
       "<matplotlib.figure.Figure at 0x12df07f60>"
      ]
     },
     "metadata": {},
     "output_type": "display_data"
    }
   ],
   "source": [
    "# 9번 이상 나타난 챔피언 조합의 분포\n",
    "temp_df = train_df[['champ_combi','target']][train_df['champ_bin']==9]\n",
    "\n",
    "plt.figure(figsize=[20,20])\n",
    "sns.countplot(data=temp_df, y='champ_combi', hue='target')\n",
    "plt.show()"
   ]
  },
  {
   "cell_type": "markdown",
   "metadata": {},
   "source": [
    "-> 9번의 빈도를 보인 챔피언 조합 또한 거의 100%의 승/패 확률을 갖는 것을 볼 수 있다."
   ]
  },
  {
   "cell_type": "markdown",
   "metadata": {},
   "source": [
    "### modeling with adding champoin combi"
   ]
  },
  {
   "cell_type": "code",
   "execution_count": 102,
   "metadata": {},
   "outputs": [],
   "source": [
    "# label encoding\n",
    "from sklearn.preprocessing import LabelEncoder\n",
    "\n",
    "champcombi_lst = pd.concat([train_df['champ_combi'],test_df['champ_combi'],sub_df['champ_combi']])\n",
    "\n",
    "le = LabelEncoder()\n",
    "le.fit(champcombi_lst)\n",
    "\n",
    "test_df['champ_combi'] = le.transform(test_df['champ_combi'])\n",
    "sub_df['champ_combi'] = le.transform(sub_df['champ_combi'])\n",
    "train_df['champ_combi'] = le.transform(train_df['champ_combi'])"
   ]
  },
  {
   "cell_type": "code",
   "execution_count": 117,
   "metadata": {},
   "outputs": [
    {
     "name": "stderr",
     "output_type": "stream",
     "text": [
      "Exception ignored in: <bound method DMatrix.__del__ of <xgboost.core.DMatrix object at 0x152722b70>>\n",
      "Traceback (most recent call last):\n",
      "  File \"/Users/yoo/anaconda/lib/python3.6/site-packages/xgboost/core.py\", line 324, in __del__\n",
      "    _check_call(_LIB.XGDMatrixFree(self.handle))\n",
      "AttributeError: 'DMatrix' object has no attribute 'handle'\n"
     ]
    }
   ],
   "source": [
    "# string to int \n",
    "\n",
    "# train \n",
    "for i,val in enumerate(train_df.columns):\n",
    "    if val == 'target' or 'name' in val  or 'tag' in val:\n",
    "        pass\n",
    "    else:\n",
    "        \n",
    "        train_df[val] = train_df[val].map(int)\n",
    "\n",
    "# test \n",
    "for i,val in enumerate(test_df.columns):\n",
    "    if val == 'target' or 'name' in val  or 'tag' in val:\n",
    "        pass\n",
    "    else:\n",
    "        \n",
    "        test_df[val] = test_df[val].map(int)\n",
    "\n",
    "# sub \n",
    "for i,val in enumerate(sub_df.columns):\n",
    "    if val == 'target' or 'name' in val  or 'tag' in val:\n",
    "        pass\n",
    "    else:\n",
    "        \n",
    "        sub_df[val] = sub_df[val].map(int)"
   ]
  },
  {
   "cell_type": "code",
   "execution_count": 118,
   "metadata": {
    "collapsed": true
   },
   "outputs": [],
   "source": [
    "# features selected\n",
    "col = ['champId_0', 'champId_1', 'champId_2', 'champId_3', 'champId_4',\n",
    "       'champId_5', 'champId_6', 'champId_7', 'champId_8', 'champId_9',\n",
    "       'player_0', 'player_1', 'player_2', 'player_3', 'player_4', 'player_5',\n",
    "       'player_6', 'player_7', 'player_8', 'player_9', 'champ_combi']\n",
    "\n",
    "X = train_df[col]\n",
    "y = train_df['target']\n",
    "\n",
    "test_X = test_df[col]\n",
    "test_y = test_df['target']"
   ]
  },
  {
   "cell_type": "markdown",
   "metadata": {},
   "source": [
    "##### with random forest"
   ]
  },
  {
   "cell_type": "code",
   "execution_count": 119,
   "metadata": {},
   "outputs": [
    {
     "data": {
      "text/plain": [
       "0.84399999999999997"
      ]
     },
     "execution_count": 119,
     "metadata": {},
     "output_type": "execute_result"
    }
   ],
   "source": [
    "# fitting\n",
    "model = ExtraTreesClassifier(n_estimators=100).fit(X,y)\n",
    "\n",
    "# predict test data\n",
    "y_pred = model.predict(test_X)\n",
    "\n",
    "# accuracy\n",
    "accuracy_score(test_y, y_pred)"
   ]
  },
  {
   "cell_type": "markdown",
   "metadata": {},
   "source": [
    "##### with xgboost"
   ]
  },
  {
   "cell_type": "code",
   "execution_count": 120,
   "metadata": {},
   "outputs": [
    {
     "data": {
      "text/plain": [
       "0.86750000000000005"
      ]
     },
     "execution_count": 120,
     "metadata": {},
     "output_type": "execute_result"
    }
   ],
   "source": [
    "# fitting\n",
    "model = xgboost.XGBClassifier(n_estimators=100, max_depth=20).fit(X,y)\n",
    "\n",
    "# predict test data\n",
    "y_pred = model.predict(test_X)\n",
    "\n",
    "# accuracy\n",
    "accuracy_score(test_y, y_pred)"
   ]
  },
  {
   "cell_type": "markdown",
   "metadata": {},
   "source": [
    "##### cross validation"
   ]
  },
  {
   "cell_type": "code",
   "execution_count": 121,
   "metadata": {},
   "outputs": [
    {
     "name": "stdout",
     "output_type": "stream",
     "text": [
      "[ 0.83505688  0.84203723  0.84436401  0.83919338  0.82032058  0.84488108\n",
      "  0.83996898  0.84332989  0.83996898  0.84716835]\n",
      "0.839628934032\n",
      "0.00721444996037\n"
     ]
    }
   ],
   "source": [
    "X = train_df[col]\n",
    "y = train_df['target']\n",
    "\n",
    "cv = KFold(10)\n",
    "\n",
    "#model = xgboost.XGBClassifier(n_estimators=200, max_depth=20, learning_rate=0.01)\n",
    "model = xgboost.XGBClassifier(n_estimators=100, max_depth=20)\n",
    "score = cross_val_score(model, X, y, scoring=\"accuracy\", cv=cv)\n",
    "\n",
    "print(score)\n",
    "print(score.mean())\n",
    "print(score.std())"
   ]
  }
 ],
 "metadata": {
  "kernelspec": {
   "display_name": "Python 3",
   "language": "python",
   "name": "python3"
  },
  "language_info": {
   "codemirror_mode": {
    "name": "ipython",
    "version": 3
   },
   "file_extension": ".py",
   "mimetype": "text/x-python",
   "name": "python",
   "nbconvert_exporter": "python",
   "pygments_lexer": "ipython3",
   "version": "3.6.1"
  }
 },
 "nbformat": 4,
 "nbformat_minor": 2
}
