{
 "cells": [
  {
   "cell_type": "markdown",
   "metadata": {},
   "source": [
    "# 롤 승패 예측\n",
    "* Preporcessing train / test / submission data"
   ]
  },
  {
   "cell_type": "code",
   "execution_count": 1,
   "metadata": {},
   "outputs": [
    {
     "name": "stdout",
     "output_type": "stream",
     "text": [
      "Requirement already satisfied: xgboost in /Users/yoo/anaconda/lib/python3.6/site-packages\r\n",
      "Requirement already satisfied: numpy in /Users/yoo/anaconda/lib/python3.6/site-packages (from xgboost)\r\n",
      "Requirement already satisfied: scipy in /Users/yoo/anaconda/lib/python3.6/site-packages (from xgboost)\r\n",
      "Requirement already satisfied: scikit-learn in /Users/yoo/anaconda/lib/python3.6/site-packages (from xgboost)\r\n"
     ]
    }
   ],
   "source": [
    "!pip install xgboost"
   ]
  },
  {
   "cell_type": "code",
   "execution_count": 2,
   "metadata": {},
   "outputs": [
    {
     "name": "stderr",
     "output_type": "stream",
     "text": [
      "/Users/yoo/anaconda/lib/python3.6/site-packages/statsmodels/compat/pandas.py:56: FutureWarning: The pandas.core.datetools module is deprecated and will be removed in a future version. Please use the pandas.tseries module instead.\n",
      "  from pandas.core import datetools\n",
      "/Users/yoo/anaconda/lib/python3.6/site-packages/sklearn/cross_validation.py:44: DeprecationWarning: This module was deprecated in version 0.18 in favor of the model_selection module into which all the refactored classes and functions are moved. Also note that the interface of the new CV iterators are different from that of this module. This module will be removed in 0.20.\n",
      "  \"This module will be removed in 0.20.\", DeprecationWarning)\n"
     ]
    }
   ],
   "source": [
    "import json\n",
    "import pandas as pd\n",
    "import scipy as sp\n",
    "import matplotlib.pyplot as plt\n",
    "from matplotlib import style\n",
    "import seaborn as sns\n",
    "import numpy as np\n",
    "import statsmodels.api as sm\n",
    "from patsy import dmatrix\n",
    "import statsmodels.stats.api as sms\n",
    "\n",
    "import xgboost\n",
    "from sklearn.linear_model import SGDClassifier\n",
    "from sklearn.ensemble import ExtraTreesClassifier\n",
    "from sklearn.linear_model import LogisticRegression\n",
    "from sklearn.linear_model import LinearRegression\n",
    "from sklearn.svm import SVC\n",
    "\n",
    "from sklearn.metrics import log_loss,accuracy_score\n",
    "from sklearn.model_selection import KFold\n",
    "from sklearn.model_selection import cross_val_score"
   ]
  },
  {
   "cell_type": "code",
   "execution_count": 4,
   "metadata": {
    "collapsed": true
   },
   "outputs": [],
   "source": [
    "# read train data\n",
    "with open('./data/train_data.json') as fp:\n",
    "    json_str = fp.read()\n",
    "    json_train = json.loads(json_str)\n",
    "    \n",
    "with open('./data/test.input.json') as fp:\n",
    "    json_str = fp.read()\n",
    "    json_test = json.loads(json_str)\n",
    "    \n",
    "with open('./data/test.output') as fp:\n",
    "    test_out = fp.read()\n",
    "    test_out = test_out.splitlines()\n",
    "#     json_testout = json.loads(json_str)   \n",
    "\n",
    "with open('./data/grading.input.json') as fp:\n",
    "    sub_in = fp.read()\n",
    "#    sub_out = sub_in.splitlines()\n",
    "    sub_in = json.loads(sub_in)   "
   ]
  },
  {
   "cell_type": "code",
   "execution_count": 5,
   "metadata": {
    "collapsed": true
   },
   "outputs": [],
   "source": [
    "# preprocessing train data\n",
    "\n",
    "train_lst = []\n",
    "train_row = {}\n",
    "for i in range(len(json_train)):\n",
    "    for j, player in enumerate(json_train[i]['participants']): # 그 경기 내에 참여자들\n",
    "        train_row['champId_'+str(j)] = player['championId'] # 참여자의 champid\n",
    "        train_row['player_'+str(j)] = player['summonerId'] # 참여자의 smid \n",
    "        \n",
    "    train_row['target'] = json_train[i]['teams'][0]['winner'] # 그 경기에서 100번팀의 승리 여부\n",
    "    \n",
    "                  \n",
    "    train_lst.append(train_row) # 한 경기 참여자들을 모두 lst의 row로\n",
    "    train_row = {}\n",
    "    \n",
    "train_df = pd.DataFrame(train_lst)"
   ]
  },
  {
   "cell_type": "code",
   "execution_count": 6,
   "metadata": {},
   "outputs": [
    {
     "data": {
      "text/html": [
       "<div>\n",
       "<style>\n",
       "    .dataframe thead tr:only-child th {\n",
       "        text-align: right;\n",
       "    }\n",
       "\n",
       "    .dataframe thead th {\n",
       "        text-align: left;\n",
       "    }\n",
       "\n",
       "    .dataframe tbody tr th {\n",
       "        vertical-align: top;\n",
       "    }\n",
       "</style>\n",
       "<table border=\"1\" class=\"dataframe\">\n",
       "  <thead>\n",
       "    <tr style=\"text-align: right;\">\n",
       "      <th></th>\n",
       "      <th>champId_0</th>\n",
       "      <th>champId_1</th>\n",
       "      <th>champId_2</th>\n",
       "      <th>champId_3</th>\n",
       "      <th>champId_4</th>\n",
       "      <th>champId_5</th>\n",
       "      <th>champId_6</th>\n",
       "      <th>champId_7</th>\n",
       "      <th>champId_8</th>\n",
       "      <th>champId_9</th>\n",
       "      <th>...</th>\n",
       "      <th>player_1</th>\n",
       "      <th>player_2</th>\n",
       "      <th>player_3</th>\n",
       "      <th>player_4</th>\n",
       "      <th>player_5</th>\n",
       "      <th>player_6</th>\n",
       "      <th>player_7</th>\n",
       "      <th>player_8</th>\n",
       "      <th>player_9</th>\n",
       "      <th>target</th>\n",
       "    </tr>\n",
       "  </thead>\n",
       "  <tbody>\n",
       "    <tr>\n",
       "      <th>0</th>\n",
       "      <td>238</td>\n",
       "      <td>412</td>\n",
       "      <td>236</td>\n",
       "      <td>117</td>\n",
       "      <td>20</td>\n",
       "      <td>421</td>\n",
       "      <td>22</td>\n",
       "      <td>103</td>\n",
       "      <td>63</td>\n",
       "      <td>150</td>\n",
       "      <td>...</td>\n",
       "      <td>178</td>\n",
       "      <td>724</td>\n",
       "      <td>553</td>\n",
       "      <td>1577</td>\n",
       "      <td>1406</td>\n",
       "      <td>1535</td>\n",
       "      <td>2448</td>\n",
       "      <td>1420</td>\n",
       "      <td>3440</td>\n",
       "      <td>False</td>\n",
       "    </tr>\n",
       "    <tr>\n",
       "      <th>1</th>\n",
       "      <td>64</td>\n",
       "      <td>412</td>\n",
       "      <td>236</td>\n",
       "      <td>76</td>\n",
       "      <td>8</td>\n",
       "      <td>222</td>\n",
       "      <td>268</td>\n",
       "      <td>245</td>\n",
       "      <td>421</td>\n",
       "      <td>12</td>\n",
       "      <td>...</td>\n",
       "      <td>6873</td>\n",
       "      <td>5159</td>\n",
       "      <td>6874</td>\n",
       "      <td>231</td>\n",
       "      <td>5352</td>\n",
       "      <td>1431</td>\n",
       "      <td>6842</td>\n",
       "      <td>3221</td>\n",
       "      <td>2240</td>\n",
       "      <td>False</td>\n",
       "    </tr>\n",
       "    <tr>\n",
       "      <th>2</th>\n",
       "      <td>69</td>\n",
       "      <td>64</td>\n",
       "      <td>57</td>\n",
       "      <td>104</td>\n",
       "      <td>40</td>\n",
       "      <td>111</td>\n",
       "      <td>39</td>\n",
       "      <td>15</td>\n",
       "      <td>8</td>\n",
       "      <td>90</td>\n",
       "      <td>...</td>\n",
       "      <td>874</td>\n",
       "      <td>2539</td>\n",
       "      <td>1107</td>\n",
       "      <td>1108</td>\n",
       "      <td>903</td>\n",
       "      <td>2981</td>\n",
       "      <td>2977</td>\n",
       "      <td>1182</td>\n",
       "      <td>626</td>\n",
       "      <td>True</td>\n",
       "    </tr>\n",
       "    <tr>\n",
       "      <th>3</th>\n",
       "      <td>107</td>\n",
       "      <td>96</td>\n",
       "      <td>25</td>\n",
       "      <td>222</td>\n",
       "      <td>113</td>\n",
       "      <td>268</td>\n",
       "      <td>245</td>\n",
       "      <td>12</td>\n",
       "      <td>64</td>\n",
       "      <td>236</td>\n",
       "      <td>...</td>\n",
       "      <td>883</td>\n",
       "      <td>225</td>\n",
       "      <td>1836</td>\n",
       "      <td>228</td>\n",
       "      <td>174</td>\n",
       "      <td>191</td>\n",
       "      <td>2331</td>\n",
       "      <td>250</td>\n",
       "      <td>226</td>\n",
       "      <td>True</td>\n",
       "    </tr>\n",
       "    <tr>\n",
       "      <th>4</th>\n",
       "      <td>236</td>\n",
       "      <td>76</td>\n",
       "      <td>103</td>\n",
       "      <td>92</td>\n",
       "      <td>89</td>\n",
       "      <td>102</td>\n",
       "      <td>412</td>\n",
       "      <td>101</td>\n",
       "      <td>39</td>\n",
       "      <td>222</td>\n",
       "      <td>...</td>\n",
       "      <td>465</td>\n",
       "      <td>2461</td>\n",
       "      <td>1339</td>\n",
       "      <td>2670</td>\n",
       "      <td>422</td>\n",
       "      <td>2684</td>\n",
       "      <td>1083</td>\n",
       "      <td>4272</td>\n",
       "      <td>2494</td>\n",
       "      <td>False</td>\n",
       "    </tr>\n",
       "  </tbody>\n",
       "</table>\n",
       "<p>5 rows × 21 columns</p>\n",
       "</div>"
      ],
      "text/plain": [
       "   champId_0  champId_1  champId_2  champId_3  champId_4  champId_5  \\\n",
       "0        238        412        236        117         20        421   \n",
       "1         64        412        236         76          8        222   \n",
       "2         69         64         57        104         40        111   \n",
       "3        107         96         25        222        113        268   \n",
       "4        236         76        103         92         89        102   \n",
       "\n",
       "   champId_6  champId_7  champId_8  champId_9   ...    player_1  player_2  \\\n",
       "0         22        103         63        150   ...         178       724   \n",
       "1        268        245        421         12   ...        6873      5159   \n",
       "2         39         15          8         90   ...         874      2539   \n",
       "3        245         12         64        236   ...         883       225   \n",
       "4        412        101         39        222   ...         465      2461   \n",
       "\n",
       "   player_3  player_4  player_5  player_6  player_7  player_8  player_9  \\\n",
       "0       553      1577      1406      1535      2448      1420      3440   \n",
       "1      6874       231      5352      1431      6842      3221      2240   \n",
       "2      1107      1108       903      2981      2977      1182       626   \n",
       "3      1836       228       174       191      2331       250       226   \n",
       "4      1339      2670       422      2684      1083      4272      2494   \n",
       "\n",
       "   target  \n",
       "0   False  \n",
       "1   False  \n",
       "2    True  \n",
       "3    True  \n",
       "4   False  \n",
       "\n",
       "[5 rows x 21 columns]"
      ]
     },
     "execution_count": 6,
     "metadata": {},
     "output_type": "execute_result"
    }
   ],
   "source": [
    "train_df.head()"
   ]
  },
  {
   "cell_type": "code",
   "execution_count": 10,
   "metadata": {},
   "outputs": [
    {
     "data": {
      "text/plain": [
       "38679"
      ]
     },
     "execution_count": 10,
     "metadata": {},
     "output_type": "execute_result"
    }
   ],
   "source": [
    "len(train_df)"
   ]
  },
  {
   "cell_type": "code",
   "execution_count": 7,
   "metadata": {
    "collapsed": true
   },
   "outputs": [],
   "source": [
    "# test data 전처리\n",
    "\n",
    "test_lst = []\n",
    "test_row = {}\n",
    "for i in range(len(json_test)):\n",
    "    for j, player in enumerate(json_test[i]['participants']): # 그 경기 내에 참여자들\n",
    "        test_row['champId_'+str(j)] = player['championId'] # 참여자의 champid\n",
    "        test_row['player_'+str(j)] = player['summonerId'] # 참여자의 smid \n",
    "        \n",
    "    #test_row['win_100'] = json_test[i]['teams'][0]['winner'] # 그 경기에서 100번팀의 승리 여부\n",
    "    \n",
    "                  \n",
    "    test_lst.append(test_row) # 한 경기 참여자들을 모두 lst의 row로\n",
    "    test_row = {}\n",
    "    \n",
    "test_df = pd.DataFrame(test_lst)\n",
    "test_df['target'] = test_out\n",
    "test_df['target'] = test_df['target'].map(lambda x: True if x == '100' else False)"
   ]
  },
  {
   "cell_type": "code",
   "execution_count": 8,
   "metadata": {},
   "outputs": [
    {
     "data": {
      "text/html": [
       "<div>\n",
       "<style>\n",
       "    .dataframe thead tr:only-child th {\n",
       "        text-align: right;\n",
       "    }\n",
       "\n",
       "    .dataframe thead th {\n",
       "        text-align: left;\n",
       "    }\n",
       "\n",
       "    .dataframe tbody tr th {\n",
       "        vertical-align: top;\n",
       "    }\n",
       "</style>\n",
       "<table border=\"1\" class=\"dataframe\">\n",
       "  <thead>\n",
       "    <tr style=\"text-align: right;\">\n",
       "      <th></th>\n",
       "      <th>champId_0</th>\n",
       "      <th>champId_1</th>\n",
       "      <th>champId_2</th>\n",
       "      <th>champId_3</th>\n",
       "      <th>champId_4</th>\n",
       "      <th>champId_5</th>\n",
       "      <th>champId_6</th>\n",
       "      <th>champId_7</th>\n",
       "      <th>champId_8</th>\n",
       "      <th>champId_9</th>\n",
       "      <th>...</th>\n",
       "      <th>player_1</th>\n",
       "      <th>player_2</th>\n",
       "      <th>player_3</th>\n",
       "      <th>player_4</th>\n",
       "      <th>player_5</th>\n",
       "      <th>player_6</th>\n",
       "      <th>player_7</th>\n",
       "      <th>player_8</th>\n",
       "      <th>player_9</th>\n",
       "      <th>target</th>\n",
       "    </tr>\n",
       "  </thead>\n",
       "  <tbody>\n",
       "    <tr>\n",
       "      <th>0</th>\n",
       "      <td>236</td>\n",
       "      <td>28</td>\n",
       "      <td>111</td>\n",
       "      <td>13</td>\n",
       "      <td>8</td>\n",
       "      <td>69</td>\n",
       "      <td>120</td>\n",
       "      <td>254</td>\n",
       "      <td>201</td>\n",
       "      <td>222</td>\n",
       "      <td>...</td>\n",
       "      <td>835</td>\n",
       "      <td>1607</td>\n",
       "      <td>650</td>\n",
       "      <td>1284</td>\n",
       "      <td>4748</td>\n",
       "      <td>913</td>\n",
       "      <td>250</td>\n",
       "      <td>286</td>\n",
       "      <td>1436</td>\n",
       "      <td>True</td>\n",
       "    </tr>\n",
       "    <tr>\n",
       "      <th>1</th>\n",
       "      <td>22</td>\n",
       "      <td>157</td>\n",
       "      <td>54</td>\n",
       "      <td>59</td>\n",
       "      <td>412</td>\n",
       "      <td>40</td>\n",
       "      <td>236</td>\n",
       "      <td>64</td>\n",
       "      <td>8</td>\n",
       "      <td>98</td>\n",
       "      <td>...</td>\n",
       "      <td>1641</td>\n",
       "      <td>4405</td>\n",
       "      <td>286</td>\n",
       "      <td>788</td>\n",
       "      <td>2440</td>\n",
       "      <td>2009</td>\n",
       "      <td>302</td>\n",
       "      <td>1115</td>\n",
       "      <td>10</td>\n",
       "      <td>False</td>\n",
       "    </tr>\n",
       "    <tr>\n",
       "      <th>2</th>\n",
       "      <td>111</td>\n",
       "      <td>81</td>\n",
       "      <td>236</td>\n",
       "      <td>254</td>\n",
       "      <td>98</td>\n",
       "      <td>10</td>\n",
       "      <td>245</td>\n",
       "      <td>110</td>\n",
       "      <td>40</td>\n",
       "      <td>67</td>\n",
       "      <td>...</td>\n",
       "      <td>184</td>\n",
       "      <td>1451</td>\n",
       "      <td>612</td>\n",
       "      <td>539</td>\n",
       "      <td>1249</td>\n",
       "      <td>451</td>\n",
       "      <td>871</td>\n",
       "      <td>277</td>\n",
       "      <td>1405</td>\n",
       "      <td>False</td>\n",
       "    </tr>\n",
       "    <tr>\n",
       "      <th>3</th>\n",
       "      <td>421</td>\n",
       "      <td>40</td>\n",
       "      <td>96</td>\n",
       "      <td>51</td>\n",
       "      <td>117</td>\n",
       "      <td>79</td>\n",
       "      <td>222</td>\n",
       "      <td>25</td>\n",
       "      <td>150</td>\n",
       "      <td>103</td>\n",
       "      <td>...</td>\n",
       "      <td>266</td>\n",
       "      <td>1072</td>\n",
       "      <td>2027</td>\n",
       "      <td>194</td>\n",
       "      <td>2257</td>\n",
       "      <td>2457</td>\n",
       "      <td>958</td>\n",
       "      <td>6294</td>\n",
       "      <td>3360</td>\n",
       "      <td>False</td>\n",
       "    </tr>\n",
       "    <tr>\n",
       "      <th>4</th>\n",
       "      <td>122</td>\n",
       "      <td>161</td>\n",
       "      <td>7</td>\n",
       "      <td>81</td>\n",
       "      <td>25</td>\n",
       "      <td>20</td>\n",
       "      <td>412</td>\n",
       "      <td>54</td>\n",
       "      <td>15</td>\n",
       "      <td>69</td>\n",
       "      <td>...</td>\n",
       "      <td>1757</td>\n",
       "      <td>466</td>\n",
       "      <td>1680</td>\n",
       "      <td>208</td>\n",
       "      <td>400</td>\n",
       "      <td>79</td>\n",
       "      <td>317</td>\n",
       "      <td>128</td>\n",
       "      <td>348</td>\n",
       "      <td>False</td>\n",
       "    </tr>\n",
       "  </tbody>\n",
       "</table>\n",
       "<p>5 rows × 21 columns</p>\n",
       "</div>"
      ],
      "text/plain": [
       "   champId_0  champId_1  champId_2  champId_3  champId_4  champId_5  \\\n",
       "0        236         28        111         13          8         69   \n",
       "1         22        157         54         59        412         40   \n",
       "2        111         81        236        254         98         10   \n",
       "3        421         40         96         51        117         79   \n",
       "4        122        161          7         81         25         20   \n",
       "\n",
       "   champId_6  champId_7  champId_8  champId_9   ...    player_1  player_2  \\\n",
       "0        120        254        201        222   ...         835      1607   \n",
       "1        236         64          8         98   ...        1641      4405   \n",
       "2        245        110         40         67   ...         184      1451   \n",
       "3        222         25        150        103   ...         266      1072   \n",
       "4        412         54         15         69   ...        1757       466   \n",
       "\n",
       "   player_3  player_4  player_5  player_6  player_7  player_8  player_9  \\\n",
       "0       650      1284      4748       913       250       286      1436   \n",
       "1       286       788      2440      2009       302      1115        10   \n",
       "2       612       539      1249       451       871       277      1405   \n",
       "3      2027       194      2257      2457       958      6294      3360   \n",
       "4      1680       208       400        79       317       128       348   \n",
       "\n",
       "   target  \n",
       "0    True  \n",
       "1   False  \n",
       "2   False  \n",
       "3   False  \n",
       "4   False  \n",
       "\n",
       "[5 rows x 21 columns]"
      ]
     },
     "execution_count": 8,
     "metadata": {},
     "output_type": "execute_result"
    }
   ],
   "source": [
    "test_df.head()"
   ]
  },
  {
   "cell_type": "code",
   "execution_count": 14,
   "metadata": {},
   "outputs": [
    {
     "data": {
      "text/plain": [
       "Index(['champId_0', 'champId_1', 'champId_2', 'champId_3', 'champId_4',\n",
       "       'champId_5', 'champId_6', 'champId_7', 'champId_8', 'champId_9',\n",
       "       'player_0', 'player_1', 'player_2', 'player_3', 'player_4', 'player_5',\n",
       "       'player_6', 'player_7', 'player_8', 'player_9', 'target'],\n",
       "      dtype='object')"
      ]
     },
     "execution_count": 14,
     "metadata": {},
     "output_type": "execute_result"
    }
   ],
   "source": [
    "train_df.columns"
   ]
  },
  {
   "cell_type": "code",
   "execution_count": 9,
   "metadata": {},
   "outputs": [
    {
     "data": {
      "text/plain": [
       "2000"
      ]
     },
     "execution_count": 9,
     "metadata": {},
     "output_type": "execute_result"
    }
   ],
   "source": [
    "len(test_df)"
   ]
  },
  {
   "cell_type": "code",
   "execution_count": 17,
   "metadata": {},
   "outputs": [
    {
     "data": {
      "text/plain": [
       "Index(['champId_0', 'champId_1', 'champId_2', 'champId_3', 'champId_4',\n",
       "       'champId_5', 'champId_6', 'champId_7', 'champId_8', 'champId_9',\n",
       "       'player_0', 'player_1', 'player_2', 'player_3', 'player_4', 'player_5',\n",
       "       'player_6', 'player_7', 'player_8', 'player_9', 'target'],\n",
       "      dtype='object')"
      ]
     },
     "execution_count": 17,
     "metadata": {},
     "output_type": "execute_result"
    }
   ],
   "source": [
    "test_df.columns"
   ]
  },
  {
   "cell_type": "code",
   "execution_count": 11,
   "metadata": {
    "collapsed": true
   },
   "outputs": [],
   "source": [
    "# sub data 전처리\n",
    "\n",
    "sub_lst = []\n",
    "sub_row = {}\n",
    "for i in range(len(sub_in)):\n",
    "    for j, player in enumerate(sub_in[i]['participants']): # 그 경기 내에 참여자들\n",
    "        sub_row['champId_'+str(j)] = player['championId'] # 참여자의 champid\n",
    "        sub_row['player_'+str(j)] = player['summonerId'] # 참여자의 smid \n",
    "        \n",
    "    #test_row['win_100'] = json_test[i]['teams'][0]['winner'] # 그 경기에서 100번팀의 승리 여부\n",
    "    \n",
    "                  \n",
    "    sub_lst.append(sub_row) # 한 경기 참여자들을 모두 lst의 row로\n",
    "    sub_row = {}\n",
    "    \n",
    "sub_df = pd.DataFrame(sub_lst)"
   ]
  },
  {
   "cell_type": "code",
   "execution_count": 12,
   "metadata": {},
   "outputs": [
    {
     "data": {
      "text/html": [
       "<div>\n",
       "<style>\n",
       "    .dataframe thead tr:only-child th {\n",
       "        text-align: right;\n",
       "    }\n",
       "\n",
       "    .dataframe thead th {\n",
       "        text-align: left;\n",
       "    }\n",
       "\n",
       "    .dataframe tbody tr th {\n",
       "        vertical-align: top;\n",
       "    }\n",
       "</style>\n",
       "<table border=\"1\" class=\"dataframe\">\n",
       "  <thead>\n",
       "    <tr style=\"text-align: right;\">\n",
       "      <th></th>\n",
       "      <th>champId_0</th>\n",
       "      <th>champId_1</th>\n",
       "      <th>champId_2</th>\n",
       "      <th>champId_3</th>\n",
       "      <th>champId_4</th>\n",
       "      <th>champId_5</th>\n",
       "      <th>champId_6</th>\n",
       "      <th>champId_7</th>\n",
       "      <th>champId_8</th>\n",
       "      <th>champId_9</th>\n",
       "      <th>player_0</th>\n",
       "      <th>player_1</th>\n",
       "      <th>player_2</th>\n",
       "      <th>player_3</th>\n",
       "      <th>player_4</th>\n",
       "      <th>player_5</th>\n",
       "      <th>player_6</th>\n",
       "      <th>player_7</th>\n",
       "      <th>player_8</th>\n",
       "      <th>player_9</th>\n",
       "    </tr>\n",
       "  </thead>\n",
       "  <tbody>\n",
       "    <tr>\n",
       "      <th>0</th>\n",
       "      <td>28</td>\n",
       "      <td>54</td>\n",
       "      <td>53</td>\n",
       "      <td>429</td>\n",
       "      <td>8</td>\n",
       "      <td>157</td>\n",
       "      <td>67</td>\n",
       "      <td>76</td>\n",
       "      <td>12</td>\n",
       "      <td>268</td>\n",
       "      <td>1120</td>\n",
       "      <td>158</td>\n",
       "      <td>251</td>\n",
       "      <td>1544</td>\n",
       "      <td>764</td>\n",
       "      <td>599</td>\n",
       "      <td>81</td>\n",
       "      <td>537</td>\n",
       "      <td>713</td>\n",
       "      <td>1239</td>\n",
       "    </tr>\n",
       "    <tr>\n",
       "      <th>1</th>\n",
       "      <td>81</td>\n",
       "      <td>89</td>\n",
       "      <td>105</td>\n",
       "      <td>254</td>\n",
       "      <td>120</td>\n",
       "      <td>67</td>\n",
       "      <td>107</td>\n",
       "      <td>69</td>\n",
       "      <td>150</td>\n",
       "      <td>9</td>\n",
       "      <td>488</td>\n",
       "      <td>2121</td>\n",
       "      <td>723</td>\n",
       "      <td>432</td>\n",
       "      <td>1019</td>\n",
       "      <td>1451</td>\n",
       "      <td>491</td>\n",
       "      <td>1264</td>\n",
       "      <td>2157</td>\n",
       "      <td>170</td>\n",
       "    </tr>\n",
       "    <tr>\n",
       "      <th>2</th>\n",
       "      <td>412</td>\n",
       "      <td>4</td>\n",
       "      <td>51</td>\n",
       "      <td>107</td>\n",
       "      <td>57</td>\n",
       "      <td>25</td>\n",
       "      <td>421</td>\n",
       "      <td>39</td>\n",
       "      <td>22</td>\n",
       "      <td>105</td>\n",
       "      <td>996</td>\n",
       "      <td>850</td>\n",
       "      <td>1621</td>\n",
       "      <td>1404</td>\n",
       "      <td>1622</td>\n",
       "      <td>224</td>\n",
       "      <td>1406</td>\n",
       "      <td>1623</td>\n",
       "      <td>291</td>\n",
       "      <td>179</td>\n",
       "    </tr>\n",
       "    <tr>\n",
       "      <th>3</th>\n",
       "      <td>13</td>\n",
       "      <td>79</td>\n",
       "      <td>22</td>\n",
       "      <td>150</td>\n",
       "      <td>412</td>\n",
       "      <td>43</td>\n",
       "      <td>51</td>\n",
       "      <td>105</td>\n",
       "      <td>36</td>\n",
       "      <td>121</td>\n",
       "      <td>626</td>\n",
       "      <td>1142</td>\n",
       "      <td>953</td>\n",
       "      <td>1246</td>\n",
       "      <td>944</td>\n",
       "      <td>702</td>\n",
       "      <td>864</td>\n",
       "      <td>665</td>\n",
       "      <td>860</td>\n",
       "      <td>218</td>\n",
       "    </tr>\n",
       "    <tr>\n",
       "      <th>4</th>\n",
       "      <td>69</td>\n",
       "      <td>15</td>\n",
       "      <td>64</td>\n",
       "      <td>8</td>\n",
       "      <td>25</td>\n",
       "      <td>429</td>\n",
       "      <td>105</td>\n",
       "      <td>12</td>\n",
       "      <td>39</td>\n",
       "      <td>28</td>\n",
       "      <td>442</td>\n",
       "      <td>260</td>\n",
       "      <td>1476</td>\n",
       "      <td>1063</td>\n",
       "      <td>315</td>\n",
       "      <td>608</td>\n",
       "      <td>111</td>\n",
       "      <td>609</td>\n",
       "      <td>639</td>\n",
       "      <td>2243</td>\n",
       "    </tr>\n",
       "  </tbody>\n",
       "</table>\n",
       "</div>"
      ],
      "text/plain": [
       "   champId_0  champId_1  champId_2  champId_3  champId_4  champId_5  \\\n",
       "0         28         54         53        429          8        157   \n",
       "1         81         89        105        254        120         67   \n",
       "2        412          4         51        107         57         25   \n",
       "3         13         79         22        150        412         43   \n",
       "4         69         15         64          8         25        429   \n",
       "\n",
       "   champId_6  champId_7  champId_8  champId_9  player_0  player_1  player_2  \\\n",
       "0         67         76         12        268      1120       158       251   \n",
       "1        107         69        150          9       488      2121       723   \n",
       "2        421         39         22        105       996       850      1621   \n",
       "3         51        105         36        121       626      1142       953   \n",
       "4        105         12         39         28       442       260      1476   \n",
       "\n",
       "   player_3  player_4  player_5  player_6  player_7  player_8  player_9  \n",
       "0      1544       764       599        81       537       713      1239  \n",
       "1       432      1019      1451       491      1264      2157       170  \n",
       "2      1404      1622       224      1406      1623       291       179  \n",
       "3      1246       944       702       864       665       860       218  \n",
       "4      1063       315       608       111       609       639      2243  "
      ]
     },
     "execution_count": 12,
     "metadata": {},
     "output_type": "execute_result"
    }
   ],
   "source": [
    "sub_df.head()"
   ]
  },
  {
   "cell_type": "code",
   "execution_count": 16,
   "metadata": {},
   "outputs": [
    {
     "data": {
      "text/plain": [
       "Index(['champId_0', 'champId_1', 'champId_2', 'champId_3', 'champId_4',\n",
       "       'champId_5', 'champId_6', 'champId_7', 'champId_8', 'champId_9',\n",
       "       'player_0', 'player_1', 'player_2', 'player_3', 'player_4', 'player_5',\n",
       "       'player_6', 'player_7', 'player_8', 'player_9'],\n",
       "      dtype='object')"
      ]
     },
     "execution_count": 16,
     "metadata": {},
     "output_type": "execute_result"
    }
   ],
   "source": [
    "sub_df.columns"
   ]
  },
  {
   "cell_type": "code",
   "execution_count": 13,
   "metadata": {},
   "outputs": [
    {
     "data": {
      "text/plain": [
       "2000"
      ]
     },
     "execution_count": 13,
     "metadata": {},
     "output_type": "execute_result"
    }
   ],
   "source": [
    "len(test_df)"
   ]
  },
  {
   "cell_type": "markdown",
   "metadata": {},
   "source": [
    "### Model 1 "
   ]
  },
  {
   "cell_type": "code",
   "execution_count": 19,
   "metadata": {},
   "outputs": [
    {
     "data": {
      "text/plain": [
       "Index(['champId_0', 'champId_1', 'champId_2', 'champId_3', 'champId_4',\n",
       "       'champId_5', 'champId_6', 'champId_7', 'champId_8', 'champId_9',\n",
       "       'player_0', 'player_1', 'player_2', 'player_3', 'player_4', 'player_5',\n",
       "       'player_6', 'player_7', 'player_8', 'player_9', 'target'],\n",
       "      dtype='object')"
      ]
     },
     "execution_count": 19,
     "metadata": {},
     "output_type": "execute_result"
    }
   ],
   "source": [
    "train_df.columns"
   ]
  },
  {
   "cell_type": "code",
   "execution_count": 20,
   "metadata": {
    "collapsed": true
   },
   "outputs": [],
   "source": [
    "# features selected\n",
    "col = ['champId_0', 'champId_1', 'champId_2', 'champId_3', 'champId_4',\n",
    "       'champId_5', 'champId_6', 'champId_7', 'champId_8', 'champId_9',\n",
    "       'player_0', 'player_1', 'player_2', 'player_3', 'player_4', 'player_5',\n",
    "       'player_6', 'player_7', 'player_8', 'player_9']\n",
    "\n",
    "X = train_df[col]\n",
    "y = train_df['target']\n",
    "\n",
    "test_X = test_df[col]\n",
    "test_y = test_df['target']"
   ]
  },
  {
   "cell_type": "code",
   "execution_count": 24,
   "metadata": {},
   "outputs": [
    {
     "data": {
      "text/plain": [
       "0.84450000000000003"
      ]
     },
     "execution_count": 24,
     "metadata": {},
     "output_type": "execute_result"
    }
   ],
   "source": [
    "# fitting\n",
    "model = ExtraTreesClassifier(n_estimators=100,random_state=1).fit(X,y)\n",
    "\n",
    "# predict test data\n",
    "y_pred = model.predict(test_X)\n",
    "\n",
    "# accuracy\n",
    "accuracy_score(test_y, y_pred) # 0.85299 w=7, w=9 0.851, w=2"
   ]
  }
 ],
 "metadata": {
  "kernelspec": {
   "display_name": "Python 3",
   "language": "python",
   "name": "python3"
  },
  "language_info": {
   "codemirror_mode": {
    "name": "ipython",
    "version": 3
   },
   "file_extension": ".py",
   "mimetype": "text/x-python",
   "name": "python",
   "nbconvert_exporter": "python",
   "pygments_lexer": "ipython3",
   "version": "3.6.1"
  }
 },
 "nbformat": 4,
 "nbformat_minor": 2
}
