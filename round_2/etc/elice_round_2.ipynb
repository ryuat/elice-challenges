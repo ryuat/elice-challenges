{
 "cells": [
  {
   "cell_type": "code",
   "execution_count": 25,
   "metadata": {},
   "outputs": [
    {
     "ename": "ModuleNotFoundError",
     "evalue": "No module named 'xgboost'",
     "output_type": "error",
     "traceback": [
      "\u001b[0;31m---------------------------------------------------------------------------\u001b[0m",
      "\u001b[0;31mModuleNotFoundError\u001b[0m                       Traceback (most recent call last)",
      "\u001b[0;32m<ipython-input-25-afdaff4619ce>\u001b[0m in \u001b[0;36m<module>\u001b[0;34m()\u001b[0m\n\u001b[0;32m----> 1\u001b[0;31m \u001b[0;32mimport\u001b[0m \u001b[0mxgboost\u001b[0m\u001b[0;34m\u001b[0m\u001b[0m\n\u001b[0m",
      "\u001b[0;31mModuleNotFoundError\u001b[0m: No module named 'xgboost'"
     ]
    }
   ],
   "source": [
    "import xgboost"
   ]
  },
  {
   "cell_type": "code",
   "execution_count": 290,
   "metadata": {
    "collapsed": true
   },
   "outputs": [],
   "source": [
    "from sklearn.naive_bayes import MultinomialNB , GaussianNB\n",
    "from sklearn.svm import LinearSVC"
   ]
  },
  {
   "cell_type": "code",
   "execution_count": 201,
   "metadata": {
    "collapsed": true
   },
   "outputs": [],
   "source": [
    "from sklearn.ensemble import ExtraTreesClassifier,RandomForestClassifier\n",
    "from sklearn.metrics import log_loss,accuracy_score\n",
    "from sklearn.model_selection import KFold\n",
    "from sklearn.model_selection import cross_val_score\n"
   ]
  },
  {
   "cell_type": "code",
   "execution_count": 1,
   "metadata": {},
   "outputs": [],
   "source": [
    "import json\n",
    "import pandas as pd\n",
    "from sklearn.linear_model import LogisticRegression\n",
    "from sklearn.svm import SVC\n",
    "import pandas as pd\n",
    "import matplotlib.pyplot as plt\n",
    "from matplotlib import style\n",
    "import seaborn as sns\n",
    "import numpy as np\n",
    "from sklearn.linear_model import LinearRegression\n",
    "\n",
    "import numpy as np\n",
    "\n",
    "\n",
    "\n",
    "# read train data\n",
    "with open('./data/train_data.json') as fp:\n",
    "    json_str = fp.read()\n",
    "    json_train = json.loads(json_str)\n",
    "    \n",
    "with open('./data/test.input.json') as fp:\n",
    "    json_str = fp.read()\n",
    "    json_test = json.loads(json_str)\n",
    "    \n",
    "with open('./data/test.output') as fp:\n",
    "    test_out = fp.read()\n",
    "    test_out = test_out.splitlines()\n",
    "#     json_testout = json.loads(json_str)    "
   ]
  },
  {
   "cell_type": "code",
   "execution_count": 16,
   "metadata": {},
   "outputs": [],
   "source": [
    "# train data 전처리\n",
    "\n",
    "train_lst = []\n",
    "train_row = {}\n",
    "for i in range(len(json_train)):\n",
    "    for j, player in enumerate(json_train[i]['participants']): # 그 경기 내에 참여자들\n",
    "        train_row['champId_'+str(j)] = player['championId'] # 참여자의 champid\n",
    "        train_row['player_'+str(j)] = player['summonerId'] # 참여자의 smid \n",
    "        \n",
    "    train_row['target'] = json_train[i]['teams'][0]['winner'] # 그 경기에서 100번팀의 승리 여부\n",
    "    \n",
    "                  \n",
    "    train_lst.append(train_row) # 한 경기 참여자들을 모두 lst의 row로\n",
    "    train_row = {}\n",
    "    \n",
    "train_df = pd.DataFrame(train_lst)"
   ]
  },
  {
   "cell_type": "code",
   "execution_count": 2,
   "metadata": {},
   "outputs": [],
   "source": [
    "# test data 전처리\n",
    "\n",
    "test_lst = []\n",
    "test_row = {}\n",
    "for i in range(len(json_test)):\n",
    "    for j, player in enumerate(json_test[i]['participants']): # 그 경기 내에 참여자들\n",
    "        test_row['champId_'+str(j)] = player['championId'] # 참여자의 champid\n",
    "        test_row['player_'+str(j)] = player['summonerId'] # 참여자의 smid \n",
    "        \n",
    "    #test_row['win_100'] = json_test[i]['teams'][0]['winner'] # 그 경기에서 100번팀의 승리 여부\n",
    "    \n",
    "                  \n",
    "    test_lst.append(test_row) # 한 경기 참여자들을 모두 lst의 row로\n",
    "    test_row = {}\n",
    "    \n",
    "test_df = pd.DataFrame(test_lst)\n",
    "test_df['target'] = test_out\n",
    "test_df['target'] = test_df['target'].map(lambda x: True if x == '100' else False)"
   ]
  },
  {
   "cell_type": "code",
   "execution_count": 17,
   "metadata": {},
   "outputs": [
    {
     "data": {
      "text/plain": [
       "Index(['champId_0', 'champId_1', 'champId_2', 'champId_3', 'champId_4',\n",
       "       'champId_5', 'champId_6', 'champId_7', 'champId_8', 'champId_9',\n",
       "       'player_0', 'player_1', 'player_2', 'player_3', 'player_4', 'player_5',\n",
       "       'player_6', 'player_7', 'player_8', 'player_9', 'target'],\n",
       "      dtype='object')"
      ]
     },
     "execution_count": 17,
     "metadata": {},
     "output_type": "execute_result"
    }
   ],
   "source": [
    "train_df.columns"
   ]
  },
  {
   "cell_type": "code",
   "execution_count": 11,
   "metadata": {},
   "outputs": [
    {
     "data": {
      "text/plain": [
       "Index(['champId_0', 'champId_1', 'champId_2', 'champId_3', 'champId_4',\n",
       "       'champId_5', 'champId_6', 'champId_7', 'champId_8', 'champId_9',\n",
       "       'player_0', 'player_1', 'player_2', 'player_3', 'player_4', 'player_5',\n",
       "       'player_6', 'player_7', 'player_8', 'player_9', 'target'],\n",
       "      dtype='object')"
      ]
     },
     "execution_count": 11,
     "metadata": {},
     "output_type": "execute_result"
    }
   ],
   "source": [
    "test_df.columns"
   ]
  },
  {
   "cell_type": "code",
   "execution_count": 18,
   "metadata": {},
   "outputs": [
    {
     "data": {
      "text/plain": [
       "((38679, 21), (2000, 21))"
      ]
     },
     "execution_count": 18,
     "metadata": {},
     "output_type": "execute_result"
    }
   ],
   "source": [
    "train_df.shape ,test_df.shape"
   ]
  },
  {
   "cell_type": "code",
   "execution_count": 14,
   "metadata": {
    "collapsed": true
   },
   "outputs": [],
   "source": [
    "# 모델링"
   ]
  },
  {
   "cell_type": "code",
   "execution_count": 33,
   "metadata": {
    "collapsed": true
   },
   "outputs": [
    {
     "data": {
      "text/plain": [
       "0        True\n",
       "1       False\n",
       "2       False\n",
       "3       False\n",
       "4       False\n",
       "5       False\n",
       "6        True\n",
       "7       False\n",
       "8        True\n",
       "9       False\n",
       "10       True\n",
       "11       True\n",
       "12       True\n",
       "13       True\n",
       "14       True\n",
       "15       True\n",
       "16      False\n",
       "17      False\n",
       "18      False\n",
       "19      False\n",
       "20       True\n",
       "21      False\n",
       "22      False\n",
       "23       True\n",
       "24       True\n",
       "25      False\n",
       "26      False\n",
       "27      False\n",
       "28      False\n",
       "29       True\n",
       "        ...  \n",
       "1970     True\n",
       "1971    False\n",
       "1972     True\n",
       "1973     True\n",
       "1974     True\n",
       "1975     True\n",
       "1976     True\n",
       "1977     True\n",
       "1978     True\n",
       "1979     True\n",
       "1980     True\n",
       "1981     True\n",
       "1982     True\n",
       "1983     True\n",
       "1984     True\n",
       "1985    False\n",
       "1986    False\n",
       "1987     True\n",
       "1988     True\n",
       "1989     True\n",
       "1990    False\n",
       "1991    False\n",
       "1992     True\n",
       "1993    False\n",
       "1994     True\n",
       "1995    False\n",
       "1996    False\n",
       "1997     True\n",
       "1998    False\n",
       "1999     True\n",
       "Name: target, Length: 2000, dtype: bool"
      ]
     },
     "execution_count": 33,
     "metadata": {},
     "output_type": "execute_result"
    }
   ],
   "source": [
    "test_df['target']"
   ]
  },
  {
   "cell_type": "code",
   "execution_count": 244,
   "metadata": {
    "collapsed": true
   },
   "outputs": [],
   "source": []
  },
  {
   "cell_type": "code",
   "execution_count": 245,
   "metadata": {
    "collapsed": true
   },
   "outputs": [],
   "source": [
    "# submission data 전처리\n",
    "with open('./data/grading.input.json') as fp:\n",
    "    json_str = fp.read()\n",
    "    json_sub = json.loads(json_str)\n",
    "    \n",
    "    \n",
    "sub_lst = []\n",
    "sub_row = {}\n",
    "for i in range(len(json_sub)):\n",
    "    for j, player in enumerate(json_sub[i]['participants']): # 그 경기 내에 참여자들\n",
    "        test_row['champId_'+str(j)] = player['championId'] # 참여자의 champid\n",
    "        test_row['player_'+str(j)] = player['summonerId'] # 참여자의 smid \n",
    "        \n",
    "    #test_row['win_100'] = json_test[i]['teams'][0]['winner'] # 그 경기에서 100번팀의 승리 여부\n",
    "    \n",
    "                  \n",
    "    sub_lst.append(sub_row) # 한 경기 참여자들을 모두 lst의 row로\n",
    "    sub_row = {}\n",
    "    \n",
    "sub_df = pd.DataFrame(test_lst)"
   ]
  },
  {
   "cell_type": "code",
   "execution_count": 240,
   "metadata": {
    "collapsed": true
   },
   "outputs": [],
   "source": [
    "forest = ExtraTreesClassifier(n_estimators=200).fit(X, y)"
   ]
  },
  {
   "cell_type": "code",
   "execution_count": 259,
   "metadata": {},
   "outputs": [],
   "source": [
    "# submission 제출 시 \n",
    "sub = forest.predict(sub_df[col])\n",
    "sub = pd.Series(sub)\n",
    "sub = sub.map(lambda x: '100' if x == True else '200')\n",
    "\n",
    "\n",
    "output_file = 'submission.txt'#sys.argv[2] # \n",
    "\n",
    "with open(output_file, 'w') as fp:\n",
    "    for _test_pred in sub:\n",
    "        fp.write(_test_pred)\n",
    "        fp.write('\\n')"
   ]
  },
  {
   "cell_type": "code",
   "execution_count": null,
   "metadata": {
    "collapsed": true
   },
   "outputs": [],
   "source": [
    "# 최고 xgb(0.01, 20)"
   ]
  },
  {
   "cell_type": "code",
   "execution_count": 335,
   "metadata": {},
   "outputs": [
    {
     "data": {
      "text/plain": [
       "0.86699999999999999"
      ]
     },
     "execution_count": 335,
     "metadata": {},
     "output_type": "execute_result"
    }
   ],
   "source": [
    "# test 검증\n",
    "#forest = ExtraTreesClassifier(n_estimators=1000,random_state=7777).fit(X, y)\n",
    "forest = xgboost.XGBClassifier(learning_rate=0.01,max_depth=20).fit(X,y)\n",
    "y_pred = forest.predict(test_df[col])\n",
    "test_y = test_df['target']\n",
    "accuracy_score(test_y,y_pred)"
   ]
  },
  {
   "cell_type": "code",
   "execution_count": 248,
   "metadata": {},
   "outputs": [
    {
     "data": {
      "text/plain": [
       "1.0"
      ]
     },
     "execution_count": 248,
     "metadata": {},
     "output_type": "execute_result"
    }
   ],
   "source": [
    "accuracy_score(y,y_pred)"
   ]
  },
  {
   "cell_type": "code",
   "execution_count": 337,
   "metadata": {},
   "outputs": [
    {
     "name": "stdout",
     "output_type": "stream",
     "text": [
      "[ 0.84126163  0.84281282  0.82368149  0.83867632  0.84281282  0.84953464\n",
      "  0.83453981  0.84281282  0.83298862  0.83712513  0.82833506  0.84332989\n",
      "  0.83660807  0.84488108  0.83040331  0.84126163  0.83350569  0.84488108\n",
      "  0.84539814  0.85307812]\n",
      "0.839396408431\n",
      "0.00709432807695\n"
     ]
    }
   ],
   "source": [
    "col = ['champId_0', 'champId_1', 'champId_2', 'champId_3', 'champId_4',\n",
    "       'champId_5', 'champId_6', 'champId_7', 'champId_8', 'champId_9',\n",
    "       'player_0', 'player_1', 'player_2', 'player_3', 'player_4', 'player_5',\n",
    "       'player_6', 'player_7', 'player_8', 'player_9']\n",
    "\n",
    "X = train_df[col]\n",
    "y = train_df['target']\n",
    "from sklearn.model_selection import cross_val_score\n",
    "\n",
    "cv = KFold(20)\n",
    "\n",
    "#forest = ExtraTreesClassifier(n_estimators=100, max_depth=300)\n",
    "forest = xgboost.XGBClassifier(learning_rate=0.01,max_depth=20)\n",
    "\n",
    "score = cross_val_score(forest, X, y, scoring=\"accuracy\", cv=cv)\n",
    "\n",
    "print(score)\n",
    "print(score.mean())\n",
    "print(score.std())"
   ]
  },
  {
   "cell_type": "code",
   "execution_count": 183,
   "metadata": {},
   "outputs": [
    {
     "name": "stdout",
     "output_type": "stream",
     "text": [
      "[ 0.54007239  0.53606515  0.5294726   0.52559462  0.53199741]\n",
      "0.532640434266\n",
      "0.00504092779271\n"
     ]
    }
   ],
   "source": [
    "col = ['champId_0', 'champId_1', 'champId_2', 'champId_3', 'champId_4',\n",
    "       'champId_5', 'champId_6', 'champId_7', 'champId_8', 'champId_9',\n",
    "       'player_0', 'player_1', 'player_2', 'player_3', 'player_4', 'player_5',\n",
    "       'player_6', 'player_7', 'player_8', 'player_9']\n",
    "\n",
    "X = train_df[col]\n",
    "y = train_df['target']\n",
    "from sklearn.model_selection import cross_val_score\n",
    "\n",
    "cv = KFold(5)\n",
    "\n",
    "forest = ExtraTreesClassifier(n_estimators=100, max_depth=300)\n",
    "#forest = xgboost.XGBClassifier(n_estimators=100, max_depth=2)\n",
    "from sklearn.linear_model import LogisticRegression\n",
    "\n",
    "score = cross_val_score(lg, X, y, scoring=\"accuracy\", cv=cv)\n",
    "\n",
    "print(score)\n",
    "print(score.mean())\n",
    "print(score.std())"
   ]
  },
  {
   "cell_type": "code",
   "execution_count": 209,
   "metadata": {},
   "outputs": [
    {
     "name": "stdout",
     "output_type": "stream",
     "text": [
      "[ 0.8319545   0.82730093  0.82574974  0.82859359  0.83826761]\n",
      "0.830373274757\n",
      "0.00444532369035\n"
     ]
    }
   ],
   "source": [
    "X = train_df[col]\n",
    "y = train_df['target']\n",
    "\n",
    "cv = KFold(5)\n",
    "\n",
    "#xgb = xgboost.XGBClassifier(n_estimators=100,learning_rate=0.01)\n",
    "forest = RandomForestClassifier(n_estimators=200)\n",
    "\n",
    "#forest = ExtraTreesClassifier(n_estimators=100)\n",
    "score = cross_val_score(forest, X, y, scoring=\"accuracy\", cv=cv)\n",
    "\n",
    "print(score)\n",
    "print(score.mean())\n",
    "print(score.std())"
   ]
  },
  {
   "cell_type": "code",
   "execution_count": 208,
   "metadata": {},
   "outputs": [
    {
     "name": "stdout",
     "output_type": "stream",
     "text": [
      "[ 0.83298862  0.83143744  0.82755946  0.82872285  0.83516484]\n",
      "0.831174642317\n",
      "0.00276991057007\n"
     ]
    }
   ],
   "source": [
    "X = train_df[col]\n",
    "y = train_df['target']\n",
    "\n",
    "cv = KFold(5)\n",
    "\n",
    "#xgb = xgboost.XGBClassifier(n_estimators=100,learning_rate=0.01)\n",
    "#forest = RandomForestClassifier(n_estimators=200)\n",
    "forest = ExtraTreesClassifier(n_estimators=100)\n",
    "score = cross_val_score(forest, X, y, scoring=\"accuracy\", cv=cv)\n",
    "\n",
    "print(score)\n",
    "print(score.mean())\n",
    "#print(score.std())"
   ]
  },
  {
   "cell_type": "code",
   "execution_count": 141,
   "metadata": {
    "collapsed": true
   },
   "outputs": [],
   "source": [
    "# gridsearch"
   ]
  },
  {
   "cell_type": "code",
   "execution_count": 281,
   "metadata": {},
   "outputs": [
    {
     "name": "stdout",
     "output_type": "stream",
     "text": [
      "CPU times: user 11 s, sys: 776 ms, total: 11.8 s\n",
      "Wall time: 11min 39s\n",
      "{'n_estimators': 200}\n"
     ]
    }
   ],
   "source": [
    "# 실행 중\n",
    "from sklearn.model_selection import GridSearchCV\n",
    "cv = KFold(20)\n",
    "\n",
    "est_range = [10, 100, 200, 700]\n",
    "\n",
    "\n",
    "param_grid = [{'n_estimators': est_range}]\n",
    "\n",
    "gs = GridSearchCV(estimator=ExtraTreesClassifier(), param_grid=param_grid, scoring='accuracy', cv=cv, n_jobs=-1)\n",
    "\n",
    "%time gs = gs.fit(X, y)\n",
    "\n",
    "print(gs.best_params_)"
   ]
  },
  {
   "cell_type": "code",
   "execution_count": 287,
   "metadata": {},
   "outputs": [
    {
     "data": {
      "text/plain": [
       "{'mean_fit_time': array([  1.00397736,  11.25377182,  21.85159556,  73.54405937]),\n",
       " 'mean_score_time': array([ 0.02120402,  0.20094774,  0.4534251 ,  3.81370357]),\n",
       " 'mean_test_score': array([ 0.84146436,  0.84570439,  0.84867758,  0.84673854]),\n",
       " 'mean_train_score': array([ 1.,  1.,  1.,  1.]),\n",
       " 'param_n_estimators': masked_array(data = [10 100 200 700],\n",
       "              mask = [False False False False],\n",
       "        fill_value = ?),\n",
       " 'params': ({'n_estimators': 10},\n",
       "  {'n_estimators': 100},\n",
       "  {'n_estimators': 200},\n",
       "  {'n_estimators': 700}),\n",
       " 'rank_test_score': array([4, 3, 1, 2], dtype=int32),\n",
       " 'split0_test_score': array([ 0.82523268,  0.84126163,  0.82833506,  0.8319545 ]),\n",
       " 'split0_train_score': array([ 1.,  1.,  1.,  1.]),\n",
       " 'split10_test_score': array([ 0.82988625,  0.84384695,  0.836091  ,  0.84746639]),\n",
       " 'split10_train_score': array([ 1.,  1.,  1.,  1.]),\n",
       " 'split11_test_score': array([ 0.83919338,  0.85625646,  0.85677353,  0.8516029 ]),\n",
       " 'split11_train_score': array([ 1.,  1.,  1.,  1.]),\n",
       " 'split12_test_score': array([ 0.84694933,  0.83660807,  0.84488108,  0.84074457]),\n",
       " 'split12_train_score': array([ 1.,  1.,  1.,  1.]),\n",
       " 'split13_test_score': array([ 0.84229576,  0.84746639,  0.84901758,  0.85315408]),\n",
       " 'split13_train_score': array([ 1.,  1.,  1.,  1.]),\n",
       " 'split14_test_score': array([ 0.82316443,  0.84539814,  0.84022751,  0.83453981]),\n",
       " 'split14_train_score': array([ 1.,  1.,  1.,  1.]),\n",
       " 'split15_test_score': array([ 0.836091  ,  0.83815926,  0.85418821,  0.84281282]),\n",
       " 'split15_train_score': array([ 1.,  1.,  1.,  1.]),\n",
       " 'split16_test_score': array([ 0.84643226,  0.84488108,  0.85056877,  0.84746639]),\n",
       " 'split16_train_score': array([ 1.,  1.,  1.,  1.]),\n",
       " 'split17_test_score': array([ 0.84953464,  0.84798345,  0.84332989,  0.85108583]),\n",
       " 'split17_train_score': array([ 1.,  1.,  1.,  1.]),\n",
       " 'split18_test_score': array([ 0.84022751,  0.84746639,  0.84643226,  0.84384695]),\n",
       " 'split18_train_score': array([ 1.,  1.,  1.,  1.]),\n",
       " 'split19_test_score': array([ 0.8629074 ,  0.86239007,  0.8696327 ,  0.86704604]),\n",
       " 'split19_train_score': array([ 1.,  1.,  1.,  1.]),\n",
       " 'split1_test_score': array([ 0.8459152 ,  0.84384695,  0.85211996,  0.85005171]),\n",
       " 'split1_train_score': array([ 1.,  1.,  1.,  1.]),\n",
       " 'split2_test_score': array([ 0.83505688,  0.83919338,  0.84798345,  0.83971044]),\n",
       " 'split2_train_score': array([ 1.,  1.,  1.,  1.]),\n",
       " 'split3_test_score': array([ 0.84281282,  0.84281282,  0.86711479,  0.85418821]),\n",
       " 'split3_train_score': array([ 1.,  1.,  1.,  1.]),\n",
       " 'split4_test_score': array([ 0.85367115,  0.84850052,  0.85884178,  0.85780765]),\n",
       " 'split4_train_score': array([ 1.,  1.,  1.,  1.]),\n",
       " 'split5_test_score': array([ 0.84436401,  0.84436401,  0.84746639,  0.8516029 ]),\n",
       " 'split5_train_score': array([ 1.,  1.,  1.,  1.]),\n",
       " 'split6_test_score': array([ 0.85211996,  0.84384695,  0.84436401,  0.84281282]),\n",
       " 'split6_train_score': array([ 1.,  1.,  1.,  1.]),\n",
       " 'split7_test_score': array([ 0.84384695,  0.85418821,  0.84953464,  0.85418821]),\n",
       " 'split7_train_score': array([ 1.,  1.,  1.,  1.]),\n",
       " 'split8_test_score': array([ 0.836091  ,  0.84074457,  0.83764219,  0.82678387]),\n",
       " 'split8_train_score': array([ 1.,  1.,  1.,  1.]),\n",
       " 'split9_test_score': array([ 0.83350569,  0.84488108,  0.84901758,  0.8459152 ]),\n",
       " 'split9_train_score': array([ 1.,  1.,  1.,  1.]),\n",
       " 'std_fit_time': array([ 0.04570438,  0.64090488,  2.25353193,  2.36209653]),\n",
       " 'std_score_time': array([ 0.00384023,  0.03453227,  0.09934501,  1.53883109]),\n",
       " 'std_test_score': array([ 0.00943317,  0.00603817,  0.00956168,  0.00909921]),\n",
       " 'std_train_score': array([ 0.,  0.,  0.,  0.])}"
      ]
     },
     "execution_count": 287,
     "metadata": {},
     "output_type": "execute_result"
    }
   ],
   "source": [
    "gs.cv_results_"
   ]
  },
  {
   "cell_type": "code",
   "execution_count": null,
   "metadata": {},
   "outputs": [
    {
     "name": "stdout",
     "output_type": "stream",
     "text": [
      "Fitting 20 folds for each of 4 candidates, totalling 80 fits\n"
     ]
    }
   ],
   "source": [
    "# 실행 중\n",
    "from sklearn.model_selection import GridSearchCV\n",
    "cv = KFold(20)\n",
    "\n",
    "#max_depth = [17, 20, 22, 24]\n",
    "learning_rate = [0.1, 0.08]\n",
    "\n",
    "param_grid = [{'learning_rate': est_range}]\n",
    "\n",
    "gs = GridSearchCV(estimator=xgboost.XGBClassifier(max_depth=20), param_grid=param_grid, scoring='accuracy', cv=cv, n_jobs=-1,verbose=1)\n",
    "\n",
    "%time gs = gs.fit(X, y)\n",
    "\n",
    "print(gs.best_params_)"
   ]
  }
 ],
 "metadata": {
  "kernelspec": {
   "display_name": "Python 3",
   "language": "python",
   "name": "python3"
  },
  "language_info": {
   "codemirror_mode": {
    "name": "ipython",
    "version": 3
   },
   "file_extension": ".py",
   "mimetype": "text/x-python",
   "name": "python",
   "nbconvert_exporter": "python",
   "pygments_lexer": "ipython3",
   "version": "3.6.1"
  }
 },
 "nbformat": 4,
 "nbformat_minor": 2
}
