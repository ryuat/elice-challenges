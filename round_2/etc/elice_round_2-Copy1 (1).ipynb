{
 "cells": [
  {
   "cell_type": "code",
   "execution_count": 1,
   "metadata": {},
   "outputs": [
    {
     "name": "stderr",
     "output_type": "stream",
     "text": [
      "/Users/yoo/anaconda/lib/python3.6/site-packages/sklearn/cross_validation.py:44: DeprecationWarning: This module was deprecated in version 0.18 in favor of the model_selection module into which all the refactored classes and functions are moved. Also note that the interface of the new CV iterators are different from that of this module. This module will be removed in 0.20.\n",
      "  \"This module will be removed in 0.20.\", DeprecationWarning)\n"
     ]
    }
   ],
   "source": [
    "import xgboost\n",
    "#forest = xgboost.XGBClassifier(n_estimators=100, max_depth=2)\n",
    "from sklearn.linear_model import SGDClassifier"
   ]
  },
  {
   "cell_type": "code",
   "execution_count": 2,
   "metadata": {
    "collapsed": true
   },
   "outputs": [],
   "source": [
    "from sklearn.ensemble import ExtraTreesClassifier\n",
    "from sklearn.metrics import log_loss,accuracy_score\n",
    "from sklearn.model_selection import KFold\n",
    "from sklearn.model_selection import cross_val_score"
   ]
  },
  {
   "cell_type": "code",
   "execution_count": 546,
   "metadata": {},
   "outputs": [],
   "source": [
    "import json\n",
    "import pandas as pd\n",
    "from sklearn.linear_model import LogisticRegression\n",
    "from sklearn.svm import SVC\n",
    "import pandas as pd\n",
    "import scipy as sp\n",
    "import matplotlib.pyplot as plt\n",
    "from matplotlib import style\n",
    "import seaborn as sns\n",
    "import numpy as np\n",
    "import statsmodels.api as sm\n",
    "from sklearn.datasets import make_regression\n",
    "from patsy import dmatrix\n",
    "from sklearn.linear_model import LinearRegression\n",
    "import statsmodels.stats.api as sms\n",
    "import numpy as np\n",
    "\n",
    "\n",
    "\n",
    "# read train data\n",
    "with open('./data/train_data.json') as fp:\n",
    "    json_str = fp.read()\n",
    "    json_train = json.loads(json_str)\n",
    "    \n",
    "with open('./data/test.input.json') as fp:\n",
    "    json_str = fp.read()\n",
    "    json_test = json.loads(json_str)\n",
    "    \n",
    "with open('./data/test.output') as fp:\n",
    "    test_out = fp.read()\n",
    "    test_out = test_out.splitlines()\n",
    "#     json_testout = json.loads(json_str)    "
   ]
  },
  {
   "cell_type": "code",
   "execution_count": 547,
   "metadata": {
    "collapsed": true
   },
   "outputs": [],
   "source": [
    "# train data 전처리\n",
    "\n",
    "train_lst = []\n",
    "train_row = {}\n",
    "for i in range(len(json_train)):\n",
    "    for j, player in enumerate(json_train[i]['participants']): # 그 경기 내에 참여자들\n",
    "        train_row['champId_'+str(j)] = player['championId'] # 참여자의 champid\n",
    "        train_row['player_'+str(j)] = player['summonerId'] # 참여자의 smid \n",
    "        \n",
    "    train_row['target'] = json_train[i]['teams'][0]['winner'] # 그 경기에서 100번팀의 승리 여부\n",
    "    \n",
    "                  \n",
    "    train_lst.append(train_row) # 한 경기 참여자들을 모두 lst의 row로\n",
    "    train_row = {}\n",
    "    \n",
    "train_df = pd.DataFrame(train_lst)"
   ]
  },
  {
   "cell_type": "code",
   "execution_count": 539,
   "metadata": {
    "collapsed": true
   },
   "outputs": [],
   "source": [
    "# test data 전처리\n",
    "\n",
    "test_lst = []\n",
    "test_row = {}\n",
    "for i in range(len(json_test)):\n",
    "    for j, player in enumerate(json_test[i]['participants']): # 그 경기 내에 참여자들\n",
    "        test_row['champId_'+str(j)] = player['championId'] # 참여자의 champid\n",
    "        test_row['player_'+str(j)] = player['summonerId'] # 참여자의 smid \n",
    "        \n",
    "    #test_row['win_100'] = json_test[i]['teams'][0]['winner'] # 그 경기에서 100번팀의 승리 여부\n",
    "    \n",
    "                  \n",
    "    test_lst.append(test_row) # 한 경기 참여자들을 모두 lst의 row로\n",
    "    test_row = {}\n",
    "    \n",
    "test_df = pd.DataFrame(test_lst)\n",
    "test_df['target'] = test_out\n",
    "test_df['target'] = test_df['target'].map(lambda x: True if x == '100' else False)"
   ]
  },
  {
   "cell_type": "code",
   "execution_count": 528,
   "metadata": {},
   "outputs": [
    {
     "data": {
      "text/plain": [
       "Index(['champId_0', 'champId_1', 'champId_2', 'champId_3', 'champId_4',\n",
       "       'champId_5', 'champId_6', 'champId_7', 'champId_8', 'champId_9',\n",
       "       'player_0', 'player_1', 'player_2', 'player_3', 'player_4', 'player_5',\n",
       "       'player_6', 'player_7', 'player_8', 'player_9', 'target'],\n",
       "      dtype='object')"
      ]
     },
     "execution_count": 528,
     "metadata": {},
     "output_type": "execute_result"
    }
   ],
   "source": [
    "train_df.columns"
   ]
  },
  {
   "cell_type": "code",
   "execution_count": 529,
   "metadata": {},
   "outputs": [
    {
     "data": {
      "text/plain": [
       "Index(['champId_0', 'champId_1', 'champId_2', 'champId_3', 'champId_4',\n",
       "       'champId_5', 'champId_6', 'champId_7', 'champId_8', 'champId_9',\n",
       "       'player_0', 'player_1', 'player_2', 'player_3', 'player_4', 'player_5',\n",
       "       'player_6', 'player_7', 'player_8', 'player_9', 'target'],\n",
       "      dtype='object')"
      ]
     },
     "execution_count": 529,
     "metadata": {},
     "output_type": "execute_result"
    }
   ],
   "source": [
    "test_df.columns"
   ]
  },
  {
   "cell_type": "code",
   "execution_count": 530,
   "metadata": {},
   "outputs": [
    {
     "data": {
      "text/plain": [
       "((38679, 21), (2000, 21))"
      ]
     },
     "execution_count": 530,
     "metadata": {},
     "output_type": "execute_result"
    }
   ],
   "source": [
    "train_df.shape ,test_df.shape"
   ]
  },
  {
   "cell_type": "code",
   "execution_count": null,
   "metadata": {
    "collapsed": true
   },
   "outputs": [],
   "source": [
    "# 모델링"
   ]
  },
  {
   "cell_type": "code",
   "execution_count": 19,
   "metadata": {},
   "outputs": [
    {
     "name": "stdout",
     "output_type": "stream",
     "text": [
      "[ 0.78185109  0.77687574]\n",
      "0.779363414575\n",
      "0.00248767125793\n"
     ]
    }
   ],
   "source": [
    "col = ['champId_0', 'champId_1', 'champId_2', 'champId_3', 'champId_4',\n",
    "       'champId_5', 'champId_6', 'champId_7', 'champId_8', 'champId_9',\n",
    "       'player_0', 'player_1', 'player_2', 'player_3', 'player_4', 'player_5',\n",
    "       'player_6', 'player_7', 'player_8', 'player_9']\n",
    "\n",
    "X = train_df[col]\n",
    "y = train_df['target']\n",
    "from sklearn.model_selection import cross_val_score\n",
    "\n",
    "cv = KFold(2)\n",
    "\n",
    "forest = ExtraTreesClassifier(n_estimators=100)\n",
    "#forest = xgboost.XGBClassifier(n_estimators=100, max_depth=2)\n",
    "\n",
    "score = cross_val_score(forest, X, y, scoring=\"accuracy\", cv=cv)\n",
    "\n",
    "print(score)\n",
    "print(score.mean())\n",
    "print(score.std())"
   ]
  },
  {
   "cell_type": "code",
   "execution_count": null,
   "metadata": {
    "collapsed": true
   },
   "outputs": [],
   "source": [
    "y_pred = forest.predict(test_df[col])\n",
    "\n",
    "test_y = test_df['target']\n",
    "\n",
    "accuracy_score(test_y,y_pred)"
   ]
  },
  {
   "cell_type": "code",
   "execution_count": null,
   "metadata": {
    "collapsed": true
   },
   "outputs": [],
   "source": [
    "import json\n",
    "import requests\n",
    "import urllib\n",
    "\n",
    "\n",
    "\n",
    "with urllib.request.urlopen('http://ddragon.leagueoflegends.com/cdn/6.24.1/data/en_US/champion.json') as response:\n",
    "   champion_info = json.loads(response.read())"
   ]
  },
  {
   "cell_type": "code",
   "execution_count": 20,
   "metadata": {
    "collapsed": true
   },
   "outputs": [],
   "source": [
    "#lst_1 은 1팀, 2는 2팀, lst 는 전부\n",
    "row = []\n",
    "lst = []\n",
    "lst_1 = []\n",
    "lst_2 = []\n",
    "\n",
    "for i in range(len(train_df)):\n",
    "    #print(i)\n",
    "    for j in range(5):\n",
    "        row.append(train_df['champId_'+str(j)][i])\n",
    "    #print('champId_'+str(i))\n",
    "    #row.append(train_df['target'][i])\n",
    "    lst_1.append(row)\n",
    "    row = []\n",
    "\n",
    "row = []\n",
    "lst = []\n",
    "for i in range(len(train_df)):\n",
    "    #print(i)\n",
    "    for j in range(5,10):\n",
    "        row.append(train_df['champId_'+str(j)][i])\n",
    "    #print('champId_'+str(i))\n",
    "    #row.append(train_df['target'][i])    \n",
    "    lst_2.append(row)\n",
    "    row= []\n",
    "   \n",
    "row = []\n",
    "lst = []\n",
    "for i in range(len(train_df)):\n",
    "    #print(i)\n",
    "    for j in range(10):\n",
    "        row.append(train_df['champId_'+str(j)][i])\n",
    "    #print('champId_'+str(i))\n",
    "    lst.append(row)\n",
    "    row= []"
   ]
  },
  {
   "cell_type": "code",
   "execution_count": 21,
   "metadata": {},
   "outputs": [
    {
     "data": {
      "text/plain": [
       "(38679, 38679, 38679)"
      ]
     },
     "execution_count": 21,
     "metadata": {},
     "output_type": "execute_result"
    }
   ],
   "source": [
    "len(lst_1), len(lst_2), len(lst)"
   ]
  },
  {
   "cell_type": "code",
   "execution_count": 22,
   "metadata": {
    "collapsed": true
   },
   "outputs": [],
   "source": [
    "for i in range(len(lst_1)):\n",
    "    lst_1[i] = sorted(lst_1[i])\n",
    "    \n",
    "for i in range(len(lst_2)):\n",
    "    lst_2[i] = sorted(lst_2[i])\n",
    "    \n",
    "# for i in range(len(lst)):\n",
    "#     lst[i] = set(lst[i])"
   ]
  },
  {
   "cell_type": "code",
   "execution_count": 23,
   "metadata": {},
   "outputs": [
    {
     "data": {
      "text/plain": [
       "(125, 125, 125)"
      ]
     },
     "execution_count": 23,
     "metadata": {},
     "output_type": "execute_result"
    }
   ],
   "source": [
    "len(np.unique(lst_1)),len(np.unique(lst_2)), len(np.unique(lst))"
   ]
  },
  {
   "cell_type": "code",
   "execution_count": 24,
   "metadata": {
    "collapsed": true
   },
   "outputs": [],
   "source": [
    "for i in range(len(train_df)):\n",
    "    #print(i)\n",
    "    lst_1[i].append(train_df['target'][i])\n",
    "    lst_2[i].append(train_df['target'][i])\n"
   ]
  },
  {
   "cell_type": "code",
   "execution_count": 25,
   "metadata": {
    "collapsed": true
   },
   "outputs": [],
   "source": [
    "te_1 = lst_1.copy()\n",
    "te_1.sort()\n",
    "te_2 = lst_2.copy()\n",
    "te_2.sort()"
   ]
  },
  {
   "cell_type": "code",
   "execution_count": 26,
   "metadata": {
    "collapsed": true
   },
   "outputs": [],
   "source": [
    "te_1_df = pd.DataFrame(te_1)"
   ]
  },
  {
   "cell_type": "code",
   "execution_count": 27,
   "metadata": {
    "collapsed": true
   },
   "outputs": [],
   "source": [
    "for i in range(len(te_1)):\n",
    "    te_1[i] = str(te_1[i][:5])"
   ]
  },
  {
   "cell_type": "code",
   "execution_count": 28,
   "metadata": {
    "collapsed": true
   },
   "outputs": [],
   "source": [
    "te_1_str_df = pd.DataFrame(te_1)"
   ]
  },
  {
   "cell_type": "code",
   "execution_count": 29,
   "metadata": {},
   "outputs": [
    {
     "data": {
      "text/html": [
       "<div>\n",
       "<style>\n",
       "    .dataframe thead tr:only-child th {\n",
       "        text-align: right;\n",
       "    }\n",
       "\n",
       "    .dataframe thead th {\n",
       "        text-align: left;\n",
       "    }\n",
       "\n",
       "    .dataframe tbody tr th {\n",
       "        vertical-align: top;\n",
       "    }\n",
       "</style>\n",
       "<table border=\"1\" class=\"dataframe\">\n",
       "  <thead>\n",
       "    <tr style=\"text-align: right;\">\n",
       "      <th></th>\n",
       "      <th>0</th>\n",
       "    </tr>\n",
       "  </thead>\n",
       "  <tbody>\n",
       "    <tr>\n",
       "      <th>0</th>\n",
       "      <td>[1, 2, 4, 22, 76]</td>\n",
       "    </tr>\n",
       "    <tr>\n",
       "      <th>1</th>\n",
       "      <td>[1, 2, 4, 22, 76]</td>\n",
       "    </tr>\n",
       "    <tr>\n",
       "      <th>2</th>\n",
       "      <td>[1, 2, 4, 22, 76]</td>\n",
       "    </tr>\n",
       "    <tr>\n",
       "      <th>3</th>\n",
       "      <td>[1, 2, 4, 22, 76]</td>\n",
       "    </tr>\n",
       "    <tr>\n",
       "      <th>4</th>\n",
       "      <td>[1, 2, 4, 22, 76]</td>\n",
       "    </tr>\n",
       "  </tbody>\n",
       "</table>\n",
       "</div>"
      ],
      "text/plain": [
       "                   0\n",
       "0  [1, 2, 4, 22, 76]\n",
       "1  [1, 2, 4, 22, 76]\n",
       "2  [1, 2, 4, 22, 76]\n",
       "3  [1, 2, 4, 22, 76]\n",
       "4  [1, 2, 4, 22, 76]"
      ]
     },
     "execution_count": 29,
     "metadata": {},
     "output_type": "execute_result"
    }
   ],
   "source": [
    "te_1_str_df.head()"
   ]
  },
  {
   "cell_type": "code",
   "execution_count": null,
   "metadata": {},
   "outputs": [],
   "source": [
    "print_full(te_1_df[te_1_df[5]==True])"
   ]
  },
  {
   "cell_type": "code",
   "execution_count": null,
   "metadata": {
    "collapsed": true
   },
   "outputs": [],
   "source": [
    "print_full(te_1_df)"
   ]
  },
  {
   "cell_type": "code",
   "execution_count": null,
   "metadata": {},
   "outputs": [],
   "source": [
    "def print_full(x):\n",
    "    pd.set_option('display.max_rows', len(x))\n",
    "    print(x)\n",
    "    pd.reset_option('display.max_rows')\n",
    "    \n",
    "    \n",
    "print_full(te_1_df)"
   ]
  },
  {
   "cell_type": "code",
   "execution_count": null,
   "metadata": {
    "collapsed": true
   },
   "outputs": [],
   "source": [
    "te_1_df['target'] = train_df['target']\n",
    "te_1_df.columns = ['champ_cb', 'target']"
   ]
  },
  {
   "cell_type": "code",
   "execution_count": null,
   "metadata": {},
   "outputs": [],
   "source": [
    "te_1_df.head()"
   ]
  },
  {
   "cell_type": "code",
   "execution_count": null,
   "metadata": {},
   "outputs": [],
   "source": [
    "import matplotlib.pyplot as plt\n",
    "import seaborn as sns\n",
    "sns.countplot(data=te_1_df, y=te_1_df.champ_cb)#, hue=te_1_df.target, data=te_1_df)\n",
    "plt.show()"
   ]
  },
  {
   "cell_type": "code",
   "execution_count": 30,
   "metadata": {
    "collapsed": true
   },
   "outputs": [],
   "source": [
    "# group 한 데이터가 얼마나 많이 나오는지 \n",
    "true_df = train_df[train_df['target']==True].copy()\n",
    "false_df = train_df[train_df['target']==False].copy()"
   ]
  },
  {
   "cell_type": "code",
   "execution_count": 33,
   "metadata": {},
   "outputs": [],
   "source": [
    "true_lst = []\n",
    "false_lst = []\n",
    "for i in range(len(true_df)):\n",
    "    true_lst.append(true_df['champId_'+str(j)].iloc[i])\n",
    "\n",
    "for i in range(len(false_df)):\n",
    "    false_lst.append(false_df['champId_'+str(j)].iloc[i])\n",
    "        "
   ]
  },
  {
   "cell_type": "code",
   "execution_count": 353,
   "metadata": {
    "collapsed": true
   },
   "outputs": [],
   "source": [
    "true_df = pd.DataFrame(true_lst, columns=['val'])\n",
    "false_df = pd.DataFrame(false_lst, columns=['val'])"
   ]
  },
  {
   "cell_type": "code",
   "execution_count": 458,
   "metadata": {},
   "outputs": [],
   "source": [
    "true_300 = true_df.groupby('val').size()[true_df.groupby('val').size() > 0]"
   ]
  },
  {
   "cell_type": "code",
   "execution_count": 457,
   "metadata": {},
   "outputs": [],
   "source": [
    "false_300 = false_df.groupby('val').size()[false_df.groupby('val').size() > 0]"
   ]
  },
  {
   "cell_type": "code",
   "execution_count": 459,
   "metadata": {},
   "outputs": [
    {
     "data": {
      "text/plain": [
       "125"
      ]
     },
     "execution_count": 459,
     "metadata": {},
     "output_type": "execute_result"
    }
   ],
   "source": [
    "len(true_300)"
   ]
  },
  {
   "cell_type": "code",
   "execution_count": 460,
   "metadata": {},
   "outputs": [
    {
     "data": {
      "text/plain": [
       "125"
      ]
     },
     "execution_count": 460,
     "metadata": {},
     "output_type": "execute_result"
    }
   ],
   "source": [
    "len(false_300)"
   ]
  },
  {
   "cell_type": "code",
   "execution_count": 494,
   "metadata": {},
   "outputs": [
    {
     "data": {
      "text/plain": [
       "571"
      ]
     },
     "execution_count": 494,
     "metadata": {},
     "output_type": "execute_result"
    }
   ],
   "source": [
    "true_300.loc[64]"
   ]
  },
  {
   "cell_type": "code",
   "execution_count": 495,
   "metadata": {},
   "outputs": [
    {
     "data": {
      "text/plain": [
       "574"
      ]
     },
     "execution_count": 495,
     "metadata": {},
     "output_type": "execute_result"
    }
   ],
   "source": [
    "false_300.loc[64]"
   ]
  },
  {
   "cell_type": "code",
   "execution_count": 491,
   "metadata": {},
   "outputs": [
    {
     "data": {
      "text/plain": [
       "186"
      ]
     },
     "execution_count": 491,
     "metadata": {},
     "output_type": "execute_result"
    }
   ],
   "source": [
    "(false_300-true_300)"
   ]
  },
  {
   "cell_type": "code",
   "execution_count": 479,
   "metadata": {},
   "outputs": [
    {
     "name": "stdout",
     "output_type": "stream",
     "text": [
      "0.00101964151551\n",
      "-0.000482988086294\n",
      "-0.000482988086294\n",
      "-0.000160996028765\n",
      "0.0\n",
      "-5.36653429215e-05\n",
      "-0.00300525920361\n",
      "-0.00134163357304\n",
      "-0.00171729097349\n",
      "-0.000751314800902\n",
      "0.000804980143823\n",
      "-0.000965976172588\n",
      "-0.00359557797574\n",
      "-0.00107330685843\n",
      "-0.00166362563057\n",
      "-0.000482988086294\n",
      "-0.00101964151551\n",
      "-0.00241494043147\n",
      "0.000160996028765\n",
      "-0.000268326714608\n",
      "-0.00069764945798\n",
      "-0.00160996028765\n",
      "-0.00166362563057\n",
      "-0.00134163357304\n",
      "0.00327358591821\n",
      "-0.000375657400451\n",
      "0.000912310829666\n",
      "0.00128796823012\n",
      "0.000590318772137\n",
      "0.0015026296018\n",
      "0.000965976172588\n",
      "-0.000429322743372\n",
      "-0.000643984115058\n",
      "0.000268326714608\n",
      "-0.000965976172588\n",
      "0.00134163357304\n",
      "0.000321992057529\n",
      "0.0012343028872\n",
      "-0.00558119566384\n",
      "-0.00740581732317\n",
      "0.000160996028765\n",
      "0.00418589674788\n",
      "-0.000429322743372\n",
      "-0.000482988086294\n",
      "0.000643984115058\n",
      "-0.000214661371686\n",
      "0.00171729097349\n",
      "0.00354191263282\n",
      "0.00257593646023\n",
      "0.00262960180316\n",
      "0.000965976172588\n",
      "-0.000321992057529\n",
      "0.00252227111731\n",
      "0.00166362563057\n",
      "-0.0022539444027\n",
      "0.000107330685843\n",
      "0.00338091660406\n",
      "-0.000912310829666\n",
      "-0.000912310829666\n",
      "-0.000160996028765\n",
      "0.00193195234518\n",
      "-0.00144896425888\n",
      "-0.00391757003327\n",
      "-0.00182462165933\n",
      "0.00139529891596\n",
      "-0.000321992057529\n",
      "-0.00332725126114\n",
      "-0.000160996028765\n",
      "-0.00128796823012\n",
      "-0.00305892454653\n",
      "-0.00182462165933\n",
      "-0.00139529891596\n",
      "-0.000321992057529\n",
      "0.000643984115058\n",
      "-0.000375657400451\n",
      "0.000751314800902\n",
      "0.000160996028765\n",
      "-0.000268326714608\n",
      "-0.000321992057529\n",
      "-0.000429322743372\n",
      "-0.00182462165933\n",
      "0.00069764945798\n",
      "0.000590318772137\n",
      "-0.000429322743372\n",
      "-0.00236127508855\n",
      "0.00069764945798\n",
      "-0.00209294837394\n",
      "-0.00128796823012\n",
      "-0.00069764945798\n",
      "0.00134163357304\n",
      "-0.00166362563057\n",
      "0.000107330685843\n",
      "0.0042395620908\n",
      "-0.00139529891596\n",
      "-0.00236127508855\n",
      "0.000375657400451\n",
      "-0.000321992057529\n",
      "0.000536653429215\n",
      "-0.00193195234518\n",
      "-0.00128796823012\n",
      "-0.000375657400451\n",
      "-0.000858645486745\n",
      "-0.00220027905978\n",
      "0.0015026296018\n",
      "-0.00107330685843\n",
      "-0.000912310829666\n",
      "-0.00107330685843\n",
      "-0.00220027905978\n",
      "-0.000965976172588\n",
      "-0.00139529891596\n",
      "-0.00241494043147\n",
      "5.36653429215e-05\n",
      "0.00193195234518\n",
      "-0.00246860577439\n",
      "-0.00982075775464\n",
      "-0.000160996028765\n",
      "-0.00252227111731\n",
      "0.00187828700225\n",
      "-0.00171729097349\n",
      "-0.00257593646023\n",
      "-0.002736932489\n",
      "-0.00998175378341\n",
      "-0.00134163357304\n",
      "-0.00139529891596\n",
      "-0.000321992057529\n"
     ]
    }
   ],
   "source": [
    "for i in false_300.index:\n",
    "    print(true_300.loc[i]/true_300.sum() - false_300.loc[i]/true_300.sum())"
   ]
  },
  {
   "cell_type": "code",
   "execution_count": 473,
   "metadata": {},
   "outputs": [
    {
     "data": {
      "text/plain": [
       "20045"
      ]
     },
     "execution_count": 473,
     "metadata": {},
     "output_type": "execute_result"
    }
   ],
   "source": [
    "false_300.sum()"
   ]
  },
  {
   "cell_type": "code",
   "execution_count": 472,
   "metadata": {},
   "outputs": [
    {
     "data": {
      "text/plain": [
       "369"
      ]
     },
     "execution_count": 472,
     "metadata": {},
     "output_type": "execute_result"
    }
   ],
   "source": [
    "false_300.loc[]"
   ]
  },
  {
   "cell_type": "code",
   "execution_count": 465,
   "metadata": {},
   "outputs": [
    {
     "data": {
      "text/plain": [
       "17"
      ]
     },
     "execution_count": 465,
     "metadata": {},
     "output_type": "execute_result"
    }
   ],
   "source": [
    "for i in false_300.loc[]"
   ]
  },
  {
   "cell_type": "code",
   "execution_count": 444,
   "metadata": {},
   "outputs": [
    {
     "data": {
      "text/plain": [
       "{8,\n",
       " 12,\n",
       " 15,\n",
       " 25,\n",
       " 39,\n",
       " 40,\n",
       " 42,\n",
       " 51,\n",
       " 57,\n",
       " 64,\n",
       " 67,\n",
       " 76,\n",
       " 81,\n",
       " 104,\n",
       " 111,\n",
       " 117,\n",
       " 150,\n",
       " 236,\n",
       " 412,\n",
       " 421,\n",
       " 432}"
      ]
     },
     "execution_count": 444,
     "metadata": {},
     "output_type": "execute_result"
    }
   ],
   "source": [
    "set(true_300.index)"
   ]
  },
  {
   "cell_type": "code",
   "execution_count": 445,
   "metadata": {},
   "outputs": [
    {
     "data": {
      "text/plain": [
       "{8,\n",
       " 12,\n",
       " 15,\n",
       " 22,\n",
       " 25,\n",
       " 39,\n",
       " 40,\n",
       " 57,\n",
       " 64,\n",
       " 67,\n",
       " 76,\n",
       " 81,\n",
       " 104,\n",
       " 111,\n",
       " 117,\n",
       " 150,\n",
       " 222,\n",
       " 236,\n",
       " 412,\n",
       " 421,\n",
       " 432}"
      ]
     },
     "execution_count": 445,
     "metadata": {},
     "output_type": "execute_result"
    }
   ],
   "source": [
    "set(false_300.index)"
   ]
  },
  {
   "cell_type": "code",
   "execution_count": 451,
   "metadata": {},
   "outputs": [
    {
     "data": {
      "image/png": "[encoded data removed]",
      "text/plain": [
       "<matplotlib.figure.Figure at 0x1168b2fd0>"
      ]
     },
     "metadata": {},
     "output_type": "display_data"
    },
    {
     "data": {
      "image/png": "[encoded data removed]",
      "text/plain": [
       "<matplotlib.figure.Figure at 0x1168b6f98>"
      ]
     },
     "metadata": {},
     "output_type": "display_data"
    }
   ],
   "source": [
    "plt.figure(0)\n",
    "plt.bar(true_300.index, true_300.values,width=1.5)\n",
    "plt.figure(1)\n",
    "plt.bar(false_300.index, false_300.values,width=1.5)\n",
    "plt.show()"
   ]
  },
  {
   "cell_type": "code",
   "execution_count": 449,
   "metadata": {},
   "outputs": [
    {
     "data": {
      "image/png": "[encoded data removed]",
      "text/plain": [
       "<matplotlib.figure.Figure at 0x1167b52b0>"
      ]
     },
     "metadata": {},
     "output_type": "display_data"
    }
   ],
   "source": [
    "\n",
    "plt.bar(true_300.index, true_300.values,width=1.5,color='r')\n",
    "plt.bar(false_300.index, false_300.values,width=1.5)\n",
    "plt.show()"
   ]
  },
  {
   "cell_type": "code",
   "execution_count": 450,
   "metadata": {},
   "outputs": [
    {
     "data": {
      "image/png": "[encoded data removed]",
      "text/plain": [
       "<matplotlib.figure.Figure at 0x121605eb8>"
      ]
     },
     "metadata": {},
     "output_type": "display_data"
    }
   ],
   "source": [
    "\n",
    "plt.bar(true_300.index, true_300.values,width=1.5)\n",
    "plt.bar(false_300.index, false_300.values,width=1.5,color='r')\n",
    "plt.show()"
   ]
  },
  {
   "cell_type": "code",
   "execution_count": 382,
   "metadata": {},
   "outputs": [
    {
     "ename": "SyntaxError",
     "evalue": "invalid syntax (<ipython-input-382-e400cf67c39d>, line 1)",
     "output_type": "error",
     "traceback": [
      "\u001b[0;36m  File \u001b[0;32m\"<ipython-input-382-e400cf67c39d>\"\u001b[0;36m, line \u001b[0;32m1\u001b[0m\n\u001b[0;31m    plt.scatter(true_300.index,true_300.0)\u001b[0m\n\u001b[0m                                        ^\u001b[0m\n\u001b[0;31mSyntaxError\u001b[0m\u001b[0;31m:\u001b[0m invalid syntax\n"
     ]
    }
   ],
   "source": [
    "plt.scatter(true_300.index,true_300.0)"
   ]
  },
  {
   "cell_type": "code",
   "execution_count": null,
   "metadata": {
    "collapsed": true
   },
   "outputs": [],
   "source": []
  },
  {
   "cell_type": "code",
   "execution_count": 92,
   "metadata": {
    "collapsed": true
   },
   "outputs": [],
   "source": [
    "freq_true = [12,40,64,111,412]"
   ]
  },
  {
   "cell_type": "code",
   "execution_count": 509,
   "metadata": {},
   "outputs": [
    {
     "name": "stdout",
     "output_type": "stream",
     "text": [
      "[[1, 2], [1, 3], [1, 4], [1, 5], [1, 6], [1, 7], [1, 8], [1, 9], [1, 10], [1, 11], [1, 12], [1, 13], [1, 14], [1, 15], [1, 16], [1, 17], [1, 18], [1, 19], [1, 20], [1, 21], [1, 22], [1, 23], [1, 24], [1, 25], [1, 26], [1, 27], [1, 28], [1, 29], [1, 30], [1, 31], [1, 32], [1, 33], [1, 34], [1, 35], [1, 36], [1, 37], [1, 38], [1, 39], [1, 40], [1, 41], [1, 42], [1, 43], [1, 44], [1, 45], [1, 48], [1, 50], [1, 51], [1, 53], [1, 54], [1, 55], [1, 56], [1, 57], [1, 58], [1, 59], [1, 60], [1, 61], [1, 62], [1, 63], [1, 64], [1, 67], [1, 68], [1, 69], [1, 72], [1, 74], [1, 75], [1, 76], [1, 77], [1, 78], [1, 79], [1, 80], [1, 81], [1, 82], [1, 83], [1, 84], [1, 85], [1, 86], [1, 89], [1, 90], [1, 91], [1, 92], [1, 96], [1, 98], [1, 99], [1, 101], [1, 102], [1, 103], [1, 104], [1, 105], [1, 106], [1, 107], [1, 110], [1, 111], [1, 112], [1, 113], [1, 114], [1, 115], [1, 117], [1, 119], [1, 120], [1, 121], [1, 122], [1, 126], [1, 127], [1, 131], [1, 133], [1, 134], [1, 143], [1, 150], [1, 154], [1, 157], [1, 161], [1, 201], [1, 222], [1, 236], [1, 238], [1, 245], [1, 254], [1, 266], [1, 267], [1, 268], [1, 412], [1, 421], [1, 429], [1, 432], [2, 3], [2, 4], [2, 5], [2, 6], [2, 7], [2, 8], [2, 9], [2, 10], [2, 11], [2, 12], [2, 13], [2, 14], [2, 15], [2, 16], [2, 17], [2, 18], [2, 19], [2, 20], [2, 21], [2, 22], [2, 23], [2, 24], [2, 25], [2, 26], [2, 27], [2, 28], [2, 29], [2, 30], [2, 31], [2, 32], [2, 33], [2, 34], [2, 35], [2, 36], [2, 37], [2, 38], [2, 39], [2, 40], [2, 41], [2, 42], [2, 43], [2, 44], [2, 45], [2, 48], [2, 50], [2, 51], [2, 53], [2, 54], [2, 55], [2, 56], [2, 57], [2, 58], [2, 59], [2, 60], [2, 61], [2, 62], [2, 63], [2, 64], [2, 67], [2, 68], [2, 69], [2, 72], [2, 74], [2, 75], [2, 76], [2, 77], [2, 78], [2, 79], [2, 80], [2, 81], [2, 82], [2, 83], [2, 84], [2, 85], [2, 86], [2, 89], [2, 90], [2, 91], [2, 92], [2, 96], [2, 98], [2, 99], [2, 101], [2, 102], [2, 103], [2, 104], [2, 105], [2, 106], [2, 107], [2, 110], [2, 111], [2, 112], [2, 113], [2, 114], [2, 115], [2, 117], [2, 119], [2, 120], [2, 121], [2, 122], [2, 126], [2, 127], [2, 131], [2, 133], [2, 134], [2, 143], [2, 150], [2, 154], [2, 157], [2, 161], [2, 201], [2, 222], [2, 236], [2, 238], [2, 245], [2, 254], [2, 266], [2, 267], [2, 268], [2, 412], [2, 421], [2, 429], [2, 432], [3, 4], [3, 5], [3, 6], [3, 7], [3, 8], [3, 9], [3, 10], [3, 11], [3, 12], [3, 13], [3, 14], [3, 15], [3, 16], [3, 17], [3, 18], [3, 19], [3, 20], [3, 21], [3, 22], [3, 23], [3, 24], [3, 25], [3, 26], [3, 27], [3, 28], [3, 29], [3, 30], [3, 31], [3, 32], [3, 33], [3, 34], [3, 35], [3, 36], [3, 37], [3, 38], [3, 39], [3, 40], [3, 41], [3, 42], [3, 43], [3, 44], [3, 45], [3, 48], [3, 50], [3, 51], [3, 53], [3, 54], [3, 55], [3, 56], [3, 57], [3, 58], [3, 59], [3, 60], [3, 61], [3, 62], [3, 63], [3, 64], [3, 67], [3, 68], [3, 69], [3, 72], [3, 74], [3, 75], [3, 76], [3, 77], [3, 78], [3, 79], [3, 80], [3, 81], [3, 82], [3, 83], [3, 84], [3, 85], [3, 86], [3, 89], [3, 90], [3, 91], [3, 92], [3, 96], [3, 98], [3, 99], [3, 101], [3, 102], [3, 103], [3, 104], [3, 105], [3, 106], [3, 107], [3, 110], [3, 111], [3, 112], [3, 113], [3, 114], [3, 115], [3, 117], [3, 119], [3, 120], [3, 121], [3, 122], [3, 126], [3, 127], [3, 131], [3, 133], [3, 134], [3, 143], [3, 150], [3, 154], [3, 157], [3, 161], [3, 201], [3, 222], [3, 236], [3, 238], [3, 245], [3, 254], [3, 266], [3, 267], [3, 268], [3, 412], [3, 421], [3, 429], [3, 432], [4, 5], [4, 6], [4, 7], [4, 8], [4, 9], [4, 10], [4, 11], [4, 12], [4, 13], [4, 14], [4, 15], [4, 16], [4, 17], [4, 18], [4, 19], [4, 20], [4, 21], [4, 22], [4, 23], [4, 24], [4, 25], [4, 26], [4, 27], [4, 28], [4, 29], [4, 30], [4, 31], [4, 32], [4, 33], [4, 34], [4, 35], [4, 36], [4, 37], [4, 38], [4, 39], [4, 40], [4, 41], [4, 42], [4, 43], [4, 44], [4, 45], [4, 48], [4, 50], [4, 51], [4, 53], [4, 54], [4, 55], [4, 56], [4, 57], [4, 58], [4, 59], [4, 60], [4, 61], [4, 62], [4, 63], [4, 64], [4, 67], [4, 68], [4, 69], [4, 72], [4, 74], [4, 75], [4, 76], [4, 77], [4, 78], [4, 79], [4, 80], [4, 81], [4, 82], [4, 83], [4, 84], [4, 85], [4, 86], [4, 89], [4, 90], [4, 91], [4, 92], [4, 96], [4, 98], [4, 99], [4, 101], [4, 102], [4, 103], [4, 104], [4, 105], [4, 106], [4, 107], [4, 110], [4, 111], [4, 112], [4, 113], [4, 114], [4, 115], [4, 117], [4, 119], [4, 120], [4, 121], [4, 122], [4, 126], [4, 127], [4, 131], [4, 133], [4, 134], [4, 143], [4, 150], [4, 154], [4, 157], [4, 161], [4, 201], [4, 222], [4, 236], [4, 238], [4, 245], [4, 254], [4, 266], [4, 267], [4, 268], [4, 412], [4, 421], [4, 429], [4, 432], [5, 6], [5, 7], [5, 8], [5, 9], [5, 10], [5, 11], [5, 12], [5, 13], [5, 14], [5, 15], [5, 16], [5, 17], [5, 18], [5, 19], [5, 20], [5, 21], [5, 22], [5, 23], [5, 24], [5, 25], [5, 26], [5, 27], [5, 28], [5, 29], [5, 30], [5, 31], [5, 32], [5, 33], [5, 34], [5, 35], [5, 36], [5, 37], [5, 38], [5, 39], [5, 40], [5, 41], [5, 42], [5, 43], [5, 44], [5, 45], [5, 48], [5, 50], [5, 51], [5, 53], [5, 54], [5, 55], [5, 56], [5, 57], [5, 58], [5, 59], [5, 60], [5, 61], [5, 62], [5, 63], [5, 64], [5, 67], [5, 68], [5, 69], [5, 72], [5, 74], [5, 75], [5, 76], [5, 77], [5, 78], [5, 79], [5, 80], [5, 81], [5, 82], [5, 83], [5, 84], [5, 85], [5, 86], [5, 89], [5, 90], [5, 91], [5, 92], [5, 96], [5, 98], [5, 99], [5, 101], [5, 102], [5, 103], [5, 104], [5, 105], [5, 106], [5, 107], [5, 110], [5, 111], [5, 112], [5, 113], [5, 114], [5, 115], [5, 117], [5, 119], [5, 120], [5, 121], [5, 122], [5, 126], [5, 127], [5, 131], [5, 133], [5, 134], [5, 143], [5, 150], [5, 154], [5, 157], [5, 161], [5, 201], [5, 222], [5, 236], [5, 238], [5, 245], [5, 254], [5, 266], [5, 267], [5, 268], [5, 412], [5, 421], [5, 429], [5, 432], [6, 7], [6, 8], [6, 9], [6, 10], [6, 11], [6, 12], [6, 13], [6, 14], [6, 15], [6, 16], [6, 17], [6, 18], [6, 19], [6, 20], [6, 21], [6, 22], [6, 23], [6, 24], [6, 25], [6, 26], [6, 27], [6, 28], [6, 29], [6, 30], [6, 31], [6, 32], [6, 33], [6, 34], [6, 35], [6, 36], [6, 37], [6, 38], [6, 39], [6, 40], [6, 41], [6, 42], [6, 43], [6, 44], [6, 45], [6, 48], [6, 50], [6, 51], [6, 53], [6, 54], [6, 55], [6, 56], [6, 57], [6, 58], [6, 59], [6, 60], [6, 61], [6, 62], [6, 63], [6, 64], [6, 67], [6, 68], [6, 69], [6, 72], [6, 74], [6, 75], [6, 76], [6, 77], [6, 78], [6, 79], [6, 80], [6, 81], [6, 82], [6, 83], [6, 84], [6, 85], [6, 86], [6, 89], [6, 90], [6, 91], [6, 92], [6, 96], [6, 98], [6, 99], [6, 101], [6, 102], [6, 103], [6, 104], [6, 105], [6, 106], [6, 107], [6, 110], [6, 111], [6, 112], [6, 113], [6, 114], [6, 115], [6, 117], [6, 119], [6, 120], [6, 121], [6, 122], [6, 126], [6, 127], [6, 131], [6, 133], [6, 134], [6, 143], [6, 150], [6, 154], [6, 157], [6, 161], [6, 201], [6, 222], [6, 236], [6, 238], [6, 245], [6, 254], [6, 266], [6, 267], [6, 268], [6, 412], [6, 421], [6, 429], [6, 432], [7, 8], [7, 9], [7, 10], [7, 11], [7, 12], [7, 13], [7, 14], [7, 15], [7, 16], [7, 17], [7, 18], [7, 19], [7, 20], [7, 21], [7, 22], [7, 23], [7, 24], [7, 25], [7, 26], [7, 27], [7, 28], [7, 29], [7, 30], [7, 31], [7, 32], [7, 33], [7, 34], [7, 35], [7, 36], [7, 37], [7, 38], [7, 39], [7, 40], [7, 41], [7, 42], [7, 43], [7, 44], [7, 45], [7, 48], [7, 50], [7, 51], [7, 53], [7, 54], [7, 55], [7, 56], [7, 57], [7, 58], [7, 59], [7, 60], [7, 61], [7, 62], [7, 63], [7, 64], [7, 67], [7, 68], [7, 69], [7, 72], [7, 74], [7, 75], [7, 76], [7, 77], [7, 78], [7, 79], [7, 80], [7, 81], [7, 82], [7, 83], [7, 84], [7, 85], [7, 86], [7, 89], [7, 90], [7, 91], [7, 92], [7, 96], [7, 98], [7, 99], [7, 101], [7, 102], [7, 103], [7, 104], [7, 105], [7, 106], [7, 107], [7, 110], [7, 111], [7, 112], [7, 113], [7, 114], [7, 115], [7, 117], [7, 119], [7, 120], [7, 121], [7, 122], [7, 126], [7, 127], [7, 131], [7, 133], [7, 134], [7, 143], [7, 150], [7, 154], [7, 157], [7, 161], [7, 201], [7, 222], [7, 236], [7, 238], [7, 245], [7, 254], [7, 266], [7, 267], [7, 268], [7, 412], [7, 421], [7, 429], [7, 432], [8, 9], [8, 10], [8, 11], [8, 12], [8, 13], [8, 14], [8, 15], [8, 16], [8, 17], [8, 18], [8, 19], [8, 20], [8, 21], [8, 22], [8, 23], [8, 24], [8, 25], [8, 26], [8, 27], [8, 28], [8, 29], [8, 30], [8, 31], [8, 32], [8, 33], [8, 34], [8, 35], [8, 36], [8, 37], [8, 38], [8, 39], [8, 40], [8, 41], [8, 42], [8, 43], [8, 44], [8, 45], [8, 48], [8, 50], [8, 51], [8, 53], [8, 54], [8, 55], [8, 56], [8, 57], [8, 58], [8, 59], [8, 60], [8, 61], [8, 62], [8, 63], [8, 64], [8, 67], [8, 68], [8, 69], [8, 72], [8, 74], [8, 75], [8, 76], [8, 77], [8, 78], [8, 79], [8, 80], [8, 81], [8, 82], [8, 83], [8, 84], [8, 85], [8, 86], [8, 89], [8, 90], [8, 91], [8, 92], [8, 96], [8, 98], [8, 99], [8, 101], [8, 102], [8, 103], [8, 104], [8, 105], [8, 106], [8, 107], [8, 110], [8, 111], [8, 112], [8, 113], [8, 114], [8, 115], [8, 117], [8, 119], [8, 120], [8, 121], [8, 122], [8, 126], [8, 127], [8, 131], [8, 133], [8, 134], [8, 143], [8, 150], [8, 154], [8, 157], [8, 161], [8, 201], [8, 222], [8, 236], [8, 238], [8, 245], [8, 254], [8, 266], [8, 267], [8, 268], [8, 412], [8, 421], [8, 429], [8, 432], [9, 10], [9, 11], [9, 12], [9, 13], [9, 14], [9, 15], [9, 16], [9, 17], [9, 18], [9, 19], [9, 20], [9, 21], [9, 22], [9, 23], [9, 24], [9, 25], [9, 26], [9, 27], [9, 28], [9, 29], [9, 30], [9, 31], [9, 32], [9, 33], [9, 34], [9, 35], [9, 36], [9, 37], [9, 38], [9, 39], [9, 40], [9, 41], [9, 42], [9, 43], [9, 44], [9, 45], [9, 48], [9, 50], [9, 51], [9, 53], [9, 54], [9, 55], [9, 56], [9, 57], [9, 58], [9, 59], [9, 60], [9, 61], [9, 62], [9, 63], [9, 64], [9, 67], [9, 68], [9, 69], [9, 72], [9, 74], [9, 75], [9, 76], [9, 77], [9, 78], [9, 79], [9, 80], [9, 81], [9, 82], [9, 83], [9, 84], [9, 85], [9, 86], [9, 89], [9, 90], [9, 91], [9, 92], [9, 96], [9, 98], [9, 99], [9, 101], [9, 102], [9, 103], [9, 104], [9, 105], [9, 106], [9, 107], [9, 110], [9, 111], [9, 112], [9, 113], [9, 114], [9, 115], [9, 117], [9, 119], [9, 120], [9, 121], [9, 122], [9, 126], [9, 127], [9, 131], [9, 133], [9, 134], [9, 143], [9, 150], [9, 154], [9, 157], [9, 161], [9, 201], [9, 222], [9, 236], [9, 238], [9, 245], [9, 254], [9, 266], [9, 267], [9, 268], [9, 412], [9, 421], [9, 429], [9, 432], [10, 11], [10, 12], [10, 13], [10, 14], [10, 15], [10, 16], [10, 17], [10, 18], [10, 19], [10, 20], [10, 21], [10, 22], [10, 23], [10, 24], [10, 25], [10, 26], [10, 27], [10, 28], [10, 29], [10, 30], [10, 31], [10, 32], [10, 33], [10, 34], [10, 35], [10, 36], [10, 37], [10, 38], [10, 39], [10, 40], [10, 41], [10, 42], [10, 43], [10, 44], [10, 45], [10, 48], [10, 50], [10, 51], [10, 53], [10, 54], [10, 55], [10, 56], [10, 57], [10, 58], [10, 59], [10, 60], [10, 61], [10, 62], [10, 63], [10, 64], [10, 67], [10, 68], [10, 69], [10, 72], [10, 74], [10, 75], [10, 76], [10, 77], [10, 78], [10, 79], [10, 80], [10, 81], [10, 82], [10, 83], [10, 84], [10, 85], [10, 86], [10, 89], [10, 90], [10, 91], [10, 92], [10, 96], [10, 98], [10, 99], [10, 101], [10, 102], [10, 103], [10, 104], [10, 105], [10, 106], [10, 107], [10, 110], [10, 111], [10, 112], [10, 113], [10, 114], [10, 115], [10, 117], [10, 119], [10, 120], [10, 121], [10, 122], [10, 126], [10, 127], [10, 131], [10, 133], [10, 134], [10, 143], [10, 150], [10, 154], [10, 157], [10, 161], [10, 201], [10, 222], [10, 236], [10, 238], [10, 245], [10, 254], [10, 266], [10, 267], [10, 268], [10, 412], [10, 421], [10, 429], [10, 432], [11, 12], [11, 13], [11, 14], [11, 15], [11, 16], [11, 17], [11, 18], [11, 19], [11, 20], [11, 21], [11, 22], [11, 23], [11, 24], [11, 25], [11, 26], [11, 27], [11, 28], [11, 29], [11, 30], [11, 31], [11, 32], [11, 33], [11, 34], [11, 35], [11, 36], [11, 37], [11, 38], [11, 39], [11, 40], [11, 41], [11, 42], [11, 43], [11, 44], [11, 45], [11, 48], [11, 50], [11, 51], [11, 53], [11, 54], [11, 55], [11, 56], [11, 57], [11, 58], [11, 59], [11, 60], [11, 61], [11, 62], [11, 63], [11, 64], [11, 67], [11, 68], [11, 69], [11, 72], [11, 74], [11, 75], [11, 76], [11, 77], [11, 78], [11, 79], [11, 80], [11, 81], [11, 82], [11, 83], [11, 84], [11, 85], [11, 86], [11, 89], [11, 90], [11, 91], [11, 92], [11, 96], [11, 98], [11, 99], [11, 101], [11, 102], [11, 103], [11, 104], [11, 105], [11, 106], [11, 107], [11, 110], [11, 111], [11, 112], [11, 113], [11, 114], [11, 115], [11, 117], [11, 119], [11, 120], [11, 121], [11, 122], [11, 126], [11, 127], [11, 131], [11, 133], [11, 134], [11, 143], [11, 150], [11, 154], [11, 157], [11, 161], [11, 201], [11, 222], [11, 236], [11, 238], [11, 245], [11, 254], [11, 266], [11, 267], [11, 268], [11, 412], [11, 421], [11, 429], [11, 432], [12, 13], [12, 14], [12, 15], [12, 16], [12, 17], [12, 18], [12, 19], [12, 20], [12, 21], [12, 22], [12, 23], [12, 24], [12, 25], [12, 26], [12, 27], [12, 28], [12, 29], [12, 30], [12, 31], [12, 32], [12, 33], [12, 34], [12, 35], [12, 36], [12, 37], [12, 38], [12, 39], [12, 40], [12, 41], [12, 42], [12, 43], [12, 44], [12, 45], [12, 48], [12, 50], [12, 51], [12, 53], [12, 54], [12, 55], [12, 56], [12, 57], [12, 58], [12, 59], [12, 60], [12, 61], [12, 62], [12, 63], [12, 64], [12, 67], [12, 68], [12, 69], [12, 72], [12, 74], [12, 75], [12, 76], [12, 77], [12, 78], [12, 79], [12, 80], [12, 81], [12, 82], [12, 83], [12, 84], [12, 85], [12, 86], [12, 89], [12, 90], [12, 91], [12, 92], [12, 96], [12, 98], [12, 99], [12, 101], [12, 102], [12, 103], [12, 104], [12, 105], [12, 106], [12, 107], [12, 110], [12, 111], [12, 112], [12, 113], [12, 114], [12, 115], [12, 117], [12, 119], [12, 120], [12, 121], [12, 122], [12, 126], [12, 127], [12, 131], [12, 133], [12, 134], [12, 143], [12, 150], [12, 154], [12, 157], [12, 161], [12, 201], [12, 222], [12, 236], [12, 238], [12, 245], [12, 254], [12, 266], [12, 267], [12, 268], [12, 412], [12, 421], [12, 429], [12, 432], [13, 14], [13, 15], [13, 16], [13, 17], [13, 18], [13, 19], [13, 20], [13, 21], [13, 22], [13, 23], [13, 24], [13, 25], [13, 26], [13, 27], [13, 28], [13, 29], [13, 30], [13, 31], [13, 32], [13, 33], [13, 34], [13, 35], [13, 36], [13, 37], [13, 38], [13, 39], [13, 40], [13, 41], [13, 42], [13, 43], [13, 44], [13, 45], [13, 48], [13, 50], [13, 51], [13, 53], [13, 54], [13, 55], [13, 56], [13, 57], [13, 58], [13, 59], [13, 60], [13, 61], [13, 62], [13, 63], [13, 64], [13, 67], [13, 68], [13, 69], [13, 72], [13, 74], [13, 75], [13, 76], [13, 77], [13, 78], [13, 79], [13, 80], [13, 81], [13, 82], [13, 83], [13, 84], [13, 85], [13, 86], [13, 89], [13, 90], [13, 91], [13, 92], [13, 96], [13, 98], [13, 99], [13, 101], [13, 102], [13, 103], [13, 104], [13, 105], [13, 106], [13, 107], [13, 110], [13, 111], [13, 112], [13, 113], [13, 114], [13, 115], [13, 117], [13, 119], [13, 120], [13, 121], [13, 122], [13, 126], [13, 127], [13, 131], [13, 133], [13, 134], [13, 143], [13, 150], [13, 154], [13, 157], [13, 161], [13, 201], [13, 222], [13, 236], [13, 238], [13, 245], [13, 254], [13, 266], [13, 267], [13, 268], [13, 412], [13, 421], [13, 429], [13, 432], [14, 15], [14, 16], [14, 17], [14, 18], [14, 19], [14, 20], [14, 21], [14, 22], [14, 23], [14, 24], [14, 25], [14, 26], [14, 27], [14, 28], [14, 29], [14, 30], [14, 31], [14, 32], [14, 33], [14, 34], [14, 35], [14, 36], [14, 37], [14, 38], [14, 39], [14, 40], [14, 41], [14, 42], [14, 43], [14, 44], [14, 45], [14, 48], [14, 50], [14, 51], [14, 53], [14, 54], [14, 55], [14, 56], [14, 57], [14, 58], [14, 59], [14, 60], [14, 61], [14, 62], [14, 63], [14, 64], [14, 67], [14, 68], [14, 69], [14, 72], [14, 74], [14, 75], [14, 76], [14, 77], [14, 78], [14, 79], [14, 80], [14, 81], [14, 82], [14, 83], [14, 84], [14, 85], [14, 86], [14, 89], [14, 90], [14, 91], [14, 92], [14, 96], [14, 98], [14, 99], [14, 101], [14, 102], [14, 103], [14, 104], [14, 105], [14, 106], [14, 107], [14, 110], [14, 111], [14, 112], [14, 113], [14, 114], [14, 115], [14, 117], [14, 119], [14, 120], [14, 121], [14, 122], [14, 126], [14, 127], [14, 131], [14, 133], [14, 134], [14, 143], [14, 150], [14, 154], [14, 157], [14, 161], [14, 201], [14, 222], [14, 236], [14, 238], [14, 245], [14, 254], [14, 266], [14, 267], [14, 268], [14, 412], [14, 421], [14, 429], [14, 432], [15, 16], [15, 17], [15, 18], [15, 19], [15, 20], [15, 21], [15, 22], [15, 23], [15, 24], [15, 25], [15, 26], [15, 27], [15, 28], [15, 29], [15, 30], [15, 31], [15, 32], [15, 33], [15, 34], [15, 35], [15, 36], [15, 37], [15, 38], [15, 39], [15, 40], [15, 41], [15, 42], [15, 43], [15, 44], [15, 45], [15, 48], [15, 50], [15, 51], [15, 53], [15, 54], [15, 55], [15, 56], [15, 57], [15, 58], [15, 59], [15, 60], [15, 61], [15, 62], [15, 63], [15, 64], [15, 67], [15, 68], [15, 69], [15, 72], [15, 74], [15, 75], [15, 76], [15, 77], [15, 78], [15, 79], [15, 80], [15, 81], [15, 82], [15, 83], [15, 84], [15, 85], [15, 86], [15, 89], [15, 90], [15, 91], [15, 92], [15, 96], [15, 98], [15, 99], [15, 101], [15, 102], [15, 103], [15, 104], [15, 105], [15, 106], [15, 107], [15, 110], [15, 111], [15, 112], [15, 113], [15, 114], [15, 115], [15, 117], [15, 119], [15, 120], [15, 121], [15, 122], [15, 126], [15, 127], [15, 131], [15, 133], [15, 134], [15, 143], [15, 150], [15, 154], [15, 157], [15, 161], [15, 201], [15, 222], [15, 236], [15, 238], [15, 245], [15, 254], [15, 266], [15, 267], [15, 268], [15, 412], [15, 421], [15, 429], [15, 432], [16, 17], [16, 18], [16, 19], [16, 20], [16, 21], [16, 22], [16, 23], [16, 24], [16, 25], [16, 26], [16, 27], [16, 28], [16, 29], [16, 30], [16, 31], [16, 32], [16, 33], [16, 34], [16, 35], [16, 36], [16, 37], [16, 38], [16, 39], [16, 40], [16, 41], [16, 42], [16, 43], [16, 44], [16, 45], [16, 48], [16, 50], [16, 51], [16, 53], [16, 54], [16, 55], [16, 56], [16, 57], [16, 58], [16, 59], [16, 60], [16, 61], [16, 62], [16, 63], [16, 64], [16, 67], [16, 68], [16, 69], [16, 72], [16, 74], [16, 75], [16, 76], [16, 77], [16, 78], [16, 79], [16, 80], [16, 81], [16, 82], [16, 83], [16, 84], [16, 85], [16, 86], [16, 89], [16, 90], [16, 91], [16, 92], [16, 96], [16, 98], [16, 99], [16, 101], [16, 102], [16, 103], [16, 104], [16, 105], [16, 106], [16, 107], [16, 110], [16, 111], [16, 112], [16, 113], [16, 114], [16, 115], [16, 117], [16, 119], [16, 120], [16, 121], [16, 122], [16, 126], [16, 127], [16, 131], [16, 133], [16, 134], [16, 143], [16, 150], [16, 154], [16, 157], [16, 161], [16, 201], [16, 222], [16, 236], [16, 238], [16, 245], [16, 254], [16, 266], [16, 267], [16, 268], [16, 412], [16, 421], [16, 429], [16, 432], [17, 18], [17, 19], [17, 20], [17, 21], [17, 22], [17, 23], [17, 24], [17, 25], [17, 26], [17, 27], [17, 28], [17, 29], [17, 30], [17, 31], [17, 32], [17, 33], [17, 34], [17, 35], [17, 36], [17, 37], [17, 38], [17, 39], [17, 40], [17, 41], [17, 42], [17, 43], [17, 44], [17, 45], [17, 48], [17, 50], [17, 51], [17, 53], [17, 54], [17, 55], [17, 56], [17, 57], [17, 58], [17, 59], [17, 60], [17, 61], [17, 62], [17, 63], [17, 64], [17, 67], [17, 68], [17, 69], [17, 72], [17, 74], [17, 75], [17, 76], [17, 77], [17, 78], [17, 79], [17, 80], [17, 81], [17, 82], [17, 83], [17, 84], [17, 85], [17, 86], [17, 89], [17, 90], [17, 91], [17, 92], [17, 96], [17, 98], [17, 99], [17, 101], [17, 102], [17, 103], [17, 104], [17, 105], [17, 106], [17, 107], [17, 110], [17, 111], [17, 112], [17, 113], [17, 114], [17, 115], [17, 117], [17, 119], [17, 120], [17, 121], [17, 122], [17, 126], [17, 127], [17, 131], [17, 133], [17, 134], [17, 143], [17, 150], [17, 154], [17, 157], [17, 161], [17, 201], [17, 222], [17, 236], [17, 238], [17, 245], [17, 254], [17, 266], [17, 267], [17, 268], [17, 412], [17, 421], [17, 429], [17, 432], [18, 19], [18, 20], [18, 21], [18, 22], [18, 23], [18, 24], [18, 25], [18, 26], [18, 27], [18, 28], [18, 29], [18, 30], [18, 31], [18, 32], [18, 33], [18, 34], [18, 35], [18, 36], [18, 37], [18, 38], [18, 39], [18, 40], [18, 41], [18, 42], [18, 43], [18, 44], [18, 45], [18, 48], [18, 50], [18, 51], [18, 53], [18, 54], [18, 55], [18, 56], [18, 57], [18, 58], [18, 59], [18, 60], [18, 61], [18, 62], [18, 63], [18, 64], [18, 67], [18, 68], [18, 69], [18, 72], [18, 74], [18, 75], [18, 76], [18, 77], [18, 78], [18, 79], [18, 80], [18, 81], [18, 82], [18, 83], [18, 84], [18, 85], [18, 86], [18, 89], [18, 90], [18, 91], [18, 92], [18, 96], [18, 98], [18, 99], [18, 101], [18, 102], [18, 103], [18, 104], [18, 105], [18, 106], [18, 107], [18, 110], [18, 111], [18, 112], [18, 113], [18, 114], [18, 115], [18, 117], [18, 119], [18, 120], [18, 121], [18, 122], [18, 126], [18, 127], [18, 131], [18, 133], [18, 134], [18, 143], [18, 150], [18, 154], [18, 157], [18, 161], [18, 201], [18, 222], [18, 236], [18, 238], [18, 245], [18, 254], [18, 266], [18, 267], [18, 268], [18, 412], [18, 421], [18, 429], [18, 432], [19, 20], [19, 21], [19, 22], [19, 23], [19, 24], [19, 25], [19, 26], [19, 27], [19, 28], [19, 29], [19, 30], [19, 31], [19, 32], [19, 33], [19, 34], [19, 35], [19, 36], [19, 37], [19, 38], [19, 39], [19, 40], [19, 41], [19, 42], [19, 43], [19, 44], [19, 45], [19, 48], [19, 50], [19, 51], [19, 53], [19, 54], [19, 55], [19, 56], [19, 57], [19, 58], [19, 59], [19, 60], [19, 61], [19, 62], [19, 63], [19, 64], [19, 67], [19, 68], [19, 69], [19, 72], [19, 74], [19, 75], [19, 76], [19, 77], [19, 78], [19, 79], [19, 80], [19, 81], [19, 82], [19, 83], [19, 84], [19, 85], [19, 86], [19, 89], [19, 90], [19, 91], [19, 92], [19, 96], [19, 98], [19, 99], [19, 101], [19, 102], [19, 103], [19, 104], [19, 105], [19, 106], [19, 107], [19, 110], [19, 111], [19, 112], [19, 113], [19, 114], [19, 115], [19, 117], [19, 119], [19, 120], [19, 121], [19, 122], [19, 126], [19, 127], [19, 131], [19, 133], [19, 134], [19, 143], [19, 150], [19, 154], [19, 157], [19, 161], [19, 201], [19, 222], [19, 236], [19, 238], [19, 245], [19, 254], [19, 266], [19, 267], [19, 268], [19, 412], [19, 421], [19, 429], [19, 432], [20, 21], [20, 22], [20, 23], [20, 24], [20, 25], [20, 26], [20, 27], [20, 28], [20, 29], [20, 30], [20, 31], [20, 32], [20, 33], [20, 34], [20, 35], [20, 36], [20, 37], [20, 38], [20, 39], [20, 40], [20, 41], [20, 42], [20, 43], [20, 44], [20, 45], [20, 48], [20, 50], [20, 51], [20, 53], [20, 54], [20, 55], [20, 56], [20, 57], [20, 58], [20, 59], [20, 60], [20, 61], [20, 62], [20, 63], [20, 64], [20, 67], [20, 68], [20, 69], [20, 72], [20, 74], [20, 75], [20, 76], [20, 77], [20, 78], [20, 79], [20, 80], [20, 81], [20, 82], [20, 83], [20, 84], [20, 85], [20, 86], [20, 89], [20, 90], [20, 91], [20, 92], [20, 96], [20, 98], [20, 99], [20, 101], [20, 102], [20, 103], [20, 104], [20, 105], [20, 106], [20, 107], [20, 110], [20, 111], [20, 112], [20, 113], [20, 114], [20, 115], [20, 117], [20, 119], [20, 120], [20, 121], [20, 122], [20, 126], [20, 127], [20, 131], [20, 133], [20, 134], [20, 143], [20, 150], [20, 154], [20, 157], [20, 161], [20, 201], [20, 222], [20, 236], [20, 238], [20, 245], [20, 254], [20, 266], [20, 267], [20, 268], [20, 412], [20, 421], [20, 429], [20, 432], [21, 22], [21, 23], [21, 24], [21, 25], [21, 26], [21, 27], [21, 28], [21, 29], [21, 30], [21, 31], [21, 32], [21, 33], [21, 34], [21, 35], [21, 36], [21, 37], [21, 38], [21, 39], [21, 40], [21, 41], [21, 42], [21, 43], [21, 44], [21, 45], [21, 48], [21, 50], [21, 51], [21, 53], [21, 54], [21, 55], [21, 56], [21, 57], [21, 58], [21, 59], [21, 60], [21, 61], [21, 62], [21, 63], [21, 64], [21, 67], [21, 68], [21, 69], [21, 72], [21, 74], [21, 75], [21, 76], [21, 77], [21, 78], [21, 79], [21, 80], [21, 81], [21, 82], [21, 83], [21, 84], [21, 85], [21, 86], [21, 89], [21, 90], [21, 91], [21, 92], [21, 96], [21, 98], [21, 99], [21, 101], [21, 102], [21, 103], [21, 104], [21, 105], [21, 106], [21, 107], [21, 110], [21, 111], [21, 112], [21, 113], [21, 114], [21, 115], [21, 117], [21, 119], [21, 120], [21, 121], [21, 122], [21, 126], [21, 127], [21, 131], [21, 133], [21, 134], [21, 143], [21, 150], [21, 154], [21, 157], [21, 161], [21, 201], [21, 222], [21, 236], [21, 238], [21, 245], [21, 254], [21, 266], [21, 267], [21, 268], [21, 412], [21, 421], [21, 429], [21, 432], [22, 23], [22, 24], [22, 25], [22, 26], [22, 27], [22, 28], [22, 29], [22, 30], [22, 31], [22, 32], [22, 33], [22, 34], [22, 35], [22, 36], [22, 37], [22, 38], [22, 39], [22, 40], [22, 41], [22, 42], [22, 43], [22, 44], [22, 45], [22, 48], [22, 50], [22, 51], [22, 53], [22, 54], [22, 55], [22, 56], [22, 57], [22, 58], [22, 59], [22, 60], [22, 61], [22, 62], [22, 63], [22, 64], [22, 67], [22, 68], [22, 69], [22, 72], [22, 74], [22, 75], [22, 76], [22, 77], [22, 78], [22, 79], [22, 80], [22, 81], [22, 82], [22, 83], [22, 84], [22, 85], [22, 86], [22, 89], [22, 90], [22, 91], [22, 92], [22, 96], [22, 98], [22, 99], [22, 101], [22, 102], [22, 103], [22, 104], [22, 105], [22, 106], [22, 107], [22, 110], [22, 111], [22, 112], [22, 113], [22, 114], [22, 115], [22, 117], [22, 119], [22, 120], [22, 121], [22, 122], [22, 126], [22, 127], [22, 131], [22, 133], [22, 134], [22, 143], [22, 150], [22, 154], [22, 157], [22, 161], [22, 201], [22, 222], [22, 236], [22, 238], [22, 245], [22, 254], [22, 266], [22, 267], [22, 268], [22, 412], [22, 421], [22, 429], [22, 432], [23, 24], [23, 25], [23, 26], [23, 27], [23, 28], [23, 29], [23, 30], [23, 31], [23, 32], [23, 33], [23, 34], [23, 35], [23, 36], [23, 37], [23, 38], [23, 39], [23, 40], [23, 41], [23, 42], [23, 43], [23, 44], [23, 45], [23, 48], [23, 50], [23, 51], [23, 53], [23, 54], [23, 55], [23, 56], [23, 57], [23, 58], [23, 59], [23, 60], [23, 61], [23, 62], [23, 63], [23, 64], [23, 67], [23, 68], [23, 69], [23, 72], [23, 74], [23, 75], [23, 76], [23, 77], [23, 78], [23, 79], [23, 80], [23, 81], [23, 82], [23, 83], [23, 84], [23, 85], [23, 86], [23, 89], [23, 90], [23, 91], [23, 92], [23, 96], [23, 98], [23, 99], [23, 101], [23, 102], [23, 103], [23, 104], [23, 105], [23, 106], [23, 107], [23, 110], [23, 111], [23, 112], [23, 113], [23, 114], [23, 115], [23, 117], [23, 119], [23, 120], [23, 121], [23, 122], [23, 126], [23, 127], [23, 131], [23, 133], [23, 134], [23, 143], [23, 150], [23, 154], [23, 157], [23, 161], [23, 201], [23, 222], [23, 236], [23, 238], [23, 245], [23, 254], [23, 266], [23, 267], [23, 268], [23, 412], [23, 421], [23, 429], [23, 432], [24, 25], [24, 26], [24, 27], [24, 28], [24, 29], [24, 30], [24, 31], [24, 32], [24, 33], [24, 34], [24, 35], [24, 36], [24, 37], [24, 38], [24, 39], [24, 40], [24, 41], [24, 42], [24, 43], [24, 44], [24, 45], [24, 48], [24, 50], [24, 51], [24, 53], [24, 54], [24, 55], [24, 56], [24, 57], [24, 58], [24, 59], [24, 60], [24, 61], [24, 62], [24, 63], [24, 64], [24, 67], [24, 68], [24, 69], [24, 72], [24, 74], [24, 75], [24, 76], [24, 77], [24, 78], [24, 79], [24, 80], [24, 81], [24, 82], [24, 83], [24, 84], [24, 85], [24, 86], [24, 89], [24, 90], [24, 91], [24, 92], [24, 96], [24, 98], [24, 99], [24, 101], [24, 102], [24, 103], [24, 104], [24, 105], [24, 106], [24, 107], [24, 110], [24, 111], [24, 112], [24, 113], [24, 114], [24, 115], [24, 117], [24, 119], [24, 120], [24, 121], [24, 122], [24, 126], [24, 127], [24, 131], [24, 133], [24, 134], [24, 143], [24, 150], [24, 154], [24, 157], [24, 161], [24, 201], [24, 222], [24, 236], [24, 238], [24, 245], [24, 254], [24, 266], [24, 267], [24, 268], [24, 412], [24, 421], [24, 429], [24, 432], [25, 26], [25, 27], [25, 28], [25, 29], [25, 30], [25, 31], [25, 32], [25, 33], [25, 34], [25, 35], [25, 36], [25, 37], [25, 38], [25, 39], [25, 40], [25, 41], [25, 42], [25, 43], [25, 44], [25, 45], [25, 48], [25, 50], [25, 51], [25, 53], [25, 54], [25, 55], [25, 56], [25, 57], [25, 58], [25, 59], [25, 60], [25, 61], [25, 62], [25, 63], [25, 64], [25, 67], [25, 68], [25, 69], [25, 72], [25, 74], [25, 75], [25, 76], [25, 77], [25, 78], [25, 79], [25, 80], [25, 81], [25, 82], [25, 83], [25, 84], [25, 85], [25, 86], [25, 89], [25, 90], [25, 91], [25, 92], [25, 96], [25, 98], [25, 99], [25, 101], [25, 102], [25, 103], [25, 104], [25, 105], [25, 106], [25, 107], [25, 110], [25, 111], [25, 112], [25, 113], [25, 114], [25, 115], [25, 117], [25, 119], [25, 120], [25, 121], [25, 122], [25, 126], [25, 127], [25, 131], [25, 133], [25, 134], [25, 143], [25, 150], [25, 154], [25, 157], [25, 161], [25, 201], [25, 222], [25, 236], [25, 238], [25, 245], [25, 254], [25, 266], [25, 267], [25, 268], [25, 412], [25, 421], [25, 429], [25, 432], [26, 27], [26, 28], [26, 29], [26, 30], [26, 31], [26, 32], [26, 33], [26, 34], [26, 35], [26, 36], [26, 37], [26, 38], [26, 39], [26, 40], [26, 41], [26, 42], [26, 43], [26, 44], [26, 45], [26, 48], [26, 50], [26, 51], [26, 53], [26, 54], [26, 55], [26, 56], [26, 57], [26, 58], [26, 59], [26, 60], [26, 61], [26, 62], [26, 63], [26, 64], [26, 67], [26, 68], [26, 69], [26, 72], [26, 74], [26, 75], [26, 76], [26, 77], [26, 78], [26, 79], [26, 80], [26, 81], [26, 82], [26, 83], [26, 84], [26, 85], [26, 86], [26, 89], [26, 90], [26, 91], [26, 92], [26, 96], [26, 98], [26, 99], [26, 101], [26, 102], [26, 103], [26, 104], [26, 105], [26, 106], [26, 107], [26, 110], [26, 111], [26, 112], [26, 113], [26, 114], [26, 115], [26, 117], [26, 119], [26, 120], [26, 121], [26, 122], [26, 126], [26, 127], [26, 131], [26, 133], [26, 134], [26, 143], [26, 150], [26, 154], [26, 157], [26, 161], [26, 201], [26, 222], [26, 236], [26, 238], [26, 245], [26, 254], [26, 266], [26, 267], [26, 268], [26, 412], [26, 421], [26, 429], [26, 432], [27, 28], [27, 29], [27, 30], [27, 31], [27, 32], [27, 33], [27, 34], [27, 35], [27, 36], [27, 37], [27, 38], [27, 39], [27, 40], [27, 41], [27, 42], [27, 43], [27, 44], [27, 45], [27, 48], [27, 50], [27, 51], [27, 53], [27, 54], [27, 55], [27, 56], [27, 57], [27, 58], [27, 59], [27, 60], [27, 61], [27, 62], [27, 63], [27, 64], [27, 67], [27, 68], [27, 69], [27, 72], [27, 74], [27, 75], [27, 76], [27, 77], [27, 78], [27, 79], [27, 80], [27, 81], [27, 82], [27, 83], [27, 84], [27, 85], [27, 86], [27, 89], [27, 90], [27, 91], [27, 92], [27, 96], [27, 98], [27, 99], [27, 101], [27, 102], [27, 103], [27, 104], [27, 105], [27, 106], [27, 107], [27, 110], [27, 111], [27, 112], [27, 113], [27, 114], [27, 115], [27, 117], [27, 119], [27, 120], [27, 121], [27, 122], [27, 126], [27, 127], [27, 131], [27, 133], [27, 134], [27, 143], [27, 150], [27, 154], [27, 157], [27, 161], [27, 201], [27, 222], [27, 236], [27, 238], [27, 245], [27, 254], [27, 266], [27, 267], [27, 268], [27, 412], [27, 421], [27, 429], [27, 432], [28, 29], [28, 30], [28, 31], [28, 32], [28, 33], [28, 34], [28, 35], [28, 36], [28, 37], [28, 38], [28, 39], [28, 40], [28, 41], [28, 42], [28, 43], [28, 44], [28, 45], [28, 48], [28, 50], [28, 51], [28, 53], [28, 54], [28, 55], [28, 56], [28, 57], [28, 58], [28, 59], [28, 60], [28, 61], [28, 62], [28, 63], [28, 64], [28, 67], [28, 68], [28, 69], [28, 72], [28, 74], [28, 75], [28, 76], [28, 77], [28, 78], [28, 79], [28, 80], [28, 81], [28, 82], [28, 83], [28, 84], [28, 85], [28, 86], [28, 89], [28, 90], [28, 91], [28, 92], [28, 96], [28, 98], [28, 99], [28, 101], [28, 102], [28, 103], [28, 104], [28, 105], [28, 106], [28, 107], [28, 110], [28, 111], [28, 112], [28, 113], [28, 114], [28, 115], [28, 117], [28, 119], [28, 120], [28, 121], [28, 122], [28, 126], [28, 127], [28, 131], [28, 133], [28, 134], [28, 143], [28, 150], [28, 154], [28, 157], [28, 161], [28, 201], [28, 222], [28, 236], [28, 238], [28, 245], [28, 254], [28, 266], [28, 267], [28, 268], [28, 412], [28, 421], [28, 429], [28, 432], [29, 30], [29, 31], [29, 32], [29, 33], [29, 34], [29, 35], [29, 36], [29, 37], [29, 38], [29, 39], [29, 40], [29, 41], [29, 42], [29, 43], [29, 44], [29, 45], [29, 48], [29, 50], [29, 51], [29, 53], [29, 54], [29, 55], [29, 56], [29, 57], [29, 58], [29, 59], [29, 60], [29, 61], [29, 62], [29, 63], [29, 64], [29, 67], [29, 68], [29, 69], [29, 72], [29, 74], [29, 75], [29, 76], [29, 77], [29, 78], [29, 79], [29, 80], [29, 81], [29, 82], [29, 83], [29, 84], [29, 85], [29, 86], [29, 89], [29, 90], [29, 91], [29, 92], [29, 96], [29, 98], [29, 99], [29, 101], [29, 102], [29, 103], [29, 104], [29, 105], [29, 106], [29, 107], [29, 110], [29, 111], [29, 112], [29, 113], [29, 114], [29, 115], [29, 117], [29, 119], [29, 120], [29, 121], [29, 122], [29, 126], [29, 127], [29, 131], [29, 133], [29, 134], [29, 143], [29, 150], [29, 154], [29, 157], [29, 161], [29, 201], [29, 222], [29, 236], [29, 238], [29, 245], [29, 254], [29, 266], [29, 267], [29, 268], [29, 412], [29, 421], [29, 429], [29, 432], [30, 31], [30, 32], [30, 33], [30, 34], [30, 35], [30, 36], [30, 37], [30, 38], [30, 39], [30, 40], [30, 41], [30, 42], [30, 43], [30, 44], [30, 45], [30, 48], [30, 50], [30, 51], [30, 53], [30, 54], [30, 55], [30, 56], [30, 57], [30, 58], [30, 59], [30, 60], [30, 61], [30, 62], [30, 63], [30, 64], [30, 67], [30, 68], [30, 69], [30, 72], [30, 74], [30, 75], [30, 76], [30, 77], [30, 78], [30, 79], [30, 80], [30, 81], [30, 82], [30, 83], [30, 84], [30, 85], [30, 86], [30, 89], [30, 90], [30, 91], [30, 92], [30, 96], [30, 98], [30, 99], [30, 101], [30, 102], [30, 103], [30, 104], [30, 105], [30, 106], [30, 107], [30, 110], [30, 111], [30, 112], [30, 113], [30, 114], [30, 115], [30, 117], [30, 119], [30, 120], [30, 121], [30, 122], [30, 126], [30, 127], [30, 131], [30, 133], [30, 134], [30, 143], [30, 150], [30, 154], [30, 157], [30, 161], [30, 201], [30, 222], [30, 236], [30, 238], [30, 245], [30, 254], [30, 266], [30, 267], [30, 268], [30, 412], [30, 421], [30, 429], [30, 432], [31, 32], [31, 33], [31, 34], [31, 35], [31, 36], [31, 37], [31, 38], [31, 39], [31, 40], [31, 41], [31, 42], [31, 43], [31, 44], [31, 45], [31, 48], [31, 50], [31, 51], [31, 53], [31, 54], [31, 55], [31, 56], [31, 57], [31, 58], [31, 59], [31, 60], [31, 61], [31, 62], [31, 63], [31, 64], [31, 67], [31, 68], [31, 69], [31, 72], [31, 74], [31, 75], [31, 76], [31, 77], [31, 78], [31, 79], [31, 80], [31, 81], [31, 82], [31, 83], [31, 84], [31, 85], [31, 86], [31, 89], [31, 90], [31, 91], [31, 92], [31, 96], [31, 98], [31, 99], [31, 101], [31, 102], [31, 103], [31, 104], [31, 105], [31, 106], [31, 107], [31, 110], [31, 111], [31, 112], [31, 113], [31, 114], [31, 115], [31, 117], [31, 119], [31, 120], [31, 121], [31, 122], [31, 126], [31, 127], [31, 131], [31, 133], [31, 134], [31, 143], [31, 150], [31, 154], [31, 157], [31, 161], [31, 201], [31, 222], [31, 236], [31, 238], [31, 245], [31, 254], [31, 266], [31, 267], [31, 268], [31, 412], [31, 421], [31, 429], [31, 432], [32, 33], [32, 34], [32, 35], [32, 36], [32, 37], [32, 38], [32, 39], [32, 40], [32, 41], [32, 42], [32, 43], [32, 44], [32, 45], [32, 48], [32, 50], [32, 51], [32, 53], [32, 54], [32, 55], [32, 56], [32, 57], [32, 58], [32, 59], [32, 60], [32, 61], [32, 62], [32, 63], [32, 64], [32, 67], [32, 68], [32, 69], [32, 72], [32, 74], [32, 75], [32, 76], [32, 77], [32, 78], [32, 79], [32, 80], [32, 81], [32, 82], [32, 83], [32, 84], [32, 85], [32, 86], [32, 89], [32, 90], [32, 91], [32, 92], [32, 96], [32, 98], [32, 99], [32, 101], [32, 102], [32, 103], [32, 104], [32, 105], [32, 106], [32, 107], [32, 110], [32, 111], [32, 112], [32, 113], [32, 114], [32, 115], [32, 117], [32, 119], [32, 120], [32, 121], [32, 122], [32, 126], [32, 127], [32, 131], [32, 133], [32, 134], [32, 143], [32, 150], [32, 154], [32, 157], [32, 161], [32, 201], [32, 222], [32, 236], [32, 238], [32, 245], [32, 254], [32, 266], [32, 267], [32, 268], [32, 412], [32, 421], [32, 429], [32, 432], [33, 34], [33, 35], [33, 36], [33, 37], [33, 38], [33, 39], [33, 40], [33, 41], [33, 42], [33, 43], [33, 44], [33, 45], [33, 48], [33, 50], [33, 51], [33, 53], [33, 54], [33, 55], [33, 56], [33, 57], [33, 58], [33, 59], [33, 60], [33, 61], [33, 62], [33, 63], [33, 64], [33, 67], [33, 68], [33, 69], [33, 72], [33, 74], [33, 75], [33, 76], [33, 77], [33, 78], [33, 79], [33, 80], [33, 81], [33, 82], [33, 83], [33, 84], [33, 85], [33, 86], [33, 89], [33, 90], [33, 91], [33, 92], [33, 96], [33, 98], [33, 99], [33, 101], [33, 102], [33, 103], [33, 104], [33, 105], [33, 106], [33, 107], [33, 110], [33, 111], [33, 112], [33, 113], [33, 114], [33, 115], [33, 117], [33, 119], [33, 120], [33, 121], [33, 122], [33, 126], [33, 127], [33, 131], [33, 133], [33, 134], [33, 143], [33, 150], [33, 154], [33, 157], [33, 161], [33, 201], [33, 222], [33, 236], [33, 238], [33, 245], [33, 254], [33, 266], [33, 267], [33, 268], [33, 412], [33, 421], [33, 429], [33, 432], [34, 35], [34, 36], [34, 37], [34, 38], [34, 39], [34, 40], [34, 41], [34, 42], [34, 43], [34, 44], [34, 45], [34, 48], [34, 50], [34, 51], [34, 53], [34, 54], [34, 55], [34, 56], [34, 57], [34, 58], [34, 59], [34, 60], [34, 61], [34, 62], [34, 63], [34, 64], [34, 67], [34, 68], [34, 69], [34, 72], [34, 74], [34, 75], [34, 76], [34, 77], [34, 78], [34, 79], [34, 80], [34, 81], [34, 82], [34, 83], [34, 84], [34, 85], [34, 86], [34, 89], [34, 90], [34, 91], [34, 92], [34, 96], [34, 98], [34, 99], [34, 101], [34, 102], [34, 103], [34, 104], [34, 105], [34, 106], [34, 107], [34, 110], [34, 111], [34, 112], [34, 113], [34, 114], [34, 115], [34, 117], [34, 119], [34, 120], [34, 121], [34, 122], [34, 126], [34, 127], [34, 131], [34, 133], [34, 134], [34, 143], [34, 150], [34, 154], [34, 157], [34, 161], [34, 201], [34, 222], [34, 236], [34, 238], [34, 245], [34, 254], [34, 266], [34, 267], [34, 268], [34, 412], [34, 421], [34, 429], [34, 432], [35, 36], [35, 37], [35, 38], [35, 39], [35, 40], [35, 41], [35, 42], [35, 43], [35, 44], [35, 45], [35, 48], [35, 50], [35, 51], [35, 53], [35, 54], [35, 55], [35, 56], [35, 57], [35, 58], [35, 59], [35, 60], [35, 61], [35, 62], [35, 63], [35, 64], [35, 67], [35, 68], [35, 69], [35, 72], [35, 74], [35, 75], [35, 76], [35, 77], [35, 78], [35, 79], [35, 80], [35, 81], [35, 82], [35, 83], [35, 84], [35, 85], [35, 86], [35, 89], [35, 90], [35, 91], [35, 92], [35, 96], [35, 98], [35, 99], [35, 101], [35, 102], [35, 103], [35, 104], [35, 105], [35, 106], [35, 107], [35, 110], [35, 111], [35, 112], [35, 113], [35, 114], [35, 115], [35, 117], [35, 119], [35, 120], [35, 121], [35, 122], [35, 126], [35, 127], [35, 131], [35, 133], [35, 134], [35, 143], [35, 150], [35, 154], [35, 157], [35, 161], [35, 201], [35, 222], [35, 236], [35, 238], [35, 245], [35, 254], [35, 266], [35, 267], [35, 268], [35, 412], [35, 421], [35, 429], [35, 432], [36, 37], [36, 38], [36, 39], [36, 40], [36, 41], [36, 42], [36, 43], [36, 44], [36, 45], [36, 48], [36, 50], [36, 51], [36, 53], [36, 54], [36, 55], [36, 56], [36, 57], [36, 58], [36, 59], [36, 60], [36, 61], [36, 62], [36, 63], [36, 64], [36, 67], [36, 68], [36, 69], [36, 72], [36, 74], [36, 75], [36, 76], [36, 77], [36, 78], [36, 79], [36, 80], [36, 81], [36, 82], [36, 83], [36, 84], [36, 85], [36, 86], [36, 89], [36, 90], [36, 91], [36, 92], [36, 96], [36, 98], [36, 99], [36, 101], [36, 102], [36, 103], [36, 104], [36, 105], [36, 106], [36, 107], [36, 110], [36, 111], [36, 112], [36, 113], [36, 114], [36, 115], [36, 117], [36, 119], [36, 120], [36, 121], [36, 122], [36, 126], [36, 127], [36, 131], [36, 133], [36, 134], [36, 143], [36, 150], [36, 154], [36, 157], [36, 161], [36, 201], [36, 222], [36, 236], [36, 238], [36, 245], [36, 254], [36, 266], [36, 267], [36, 268], [36, 412], [36, 421], [36, 429], [36, 432], [37, 38], [37, 39], [37, 40], [37, 41], [37, 42], [37, 43], [37, 44], [37, 45], [37, 48], [37, 50], [37, 51], [37, 53], [37, 54], [37, 55], [37, 56], [37, 57], [37, 58], [37, 59], [37, 60], [37, 61], [37, 62], [37, 63], [37, 64], [37, 67], [37, 68], [37, 69], [37, 72], [37, 74], [37, 75], [37, 76], [37, 77], [37, 78], [37, 79], [37, 80], [37, 81], [37, 82], [37, 83], [37, 84], [37, 85], [37, 86], [37, 89], [37, 90], [37, 91], [37, 92], [37, 96], [37, 98], [37, 99], [37, 101], [37, 102], [37, 103], [37, 104], [37, 105], [37, 106], [37, 107], [37, 110], [37, 111], [37, 112], [37, 113], [37, 114], [37, 115], [37, 117], [37, 119], [37, 120], [37, 121], [37, 122], [37, 126], [37, 127], [37, 131], [37, 133], [37, 134], [37, 143], [37, 150], [37, 154], [37, 157], [37, 161], [37, 201], [37, 222], [37, 236], [37, 238], [37, 245], [37, 254], [37, 266], [37, 267], [37, 268], [37, 412], [37, 421], [37, 429], [37, 432], [38, 39], [38, 40], [38, 41], [38, 42], [38, 43], [38, 44], [38, 45], [38, 48], [38, 50], [38, 51], [38, 53], [38, 54], [38, 55], [38, 56], [38, 57], [38, 58], [38, 59], [38, 60], [38, 61], [38, 62], [38, 63], [38, 64], [38, 67], [38, 68], [38, 69], [38, 72], [38, 74], [38, 75], [38, 76], [38, 77], [38, 78], [38, 79], [38, 80], [38, 81], [38, 82], [38, 83], [38, 84], [38, 85], [38, 86], [38, 89], [38, 90], [38, 91], [38, 92], [38, 96], [38, 98], [38, 99], [38, 101], [38, 102], [38, 103], [38, 104], [38, 105], [38, 106], [38, 107], [38, 110], [38, 111], [38, 112], [38, 113], [38, 114], [38, 115], [38, 117], [38, 119], [38, 120], [38, 121], [38, 122], [38, 126], [38, 127], [38, 131], [38, 133], [38, 134], [38, 143], [38, 150], [38, 154], [38, 157], [38, 161], [38, 201], [38, 222], [38, 236], [38, 238], [38, 245], [38, 254], [38, 266], [38, 267], [38, 268], [38, 412], [38, 421], [38, 429], [38, 432], [39, 40], [39, 41], [39, 42], [39, 43], [39, 44], [39, 45], [39, 48], [39, 50], [39, 51], [39, 53], [39, 54], [39, 55], [39, 56], [39, 57], [39, 58], [39, 59], [39, 60], [39, 61], [39, 62], [39, 63], [39, 64], [39, 67], [39, 68], [39, 69], [39, 72], [39, 74], [39, 75], [39, 76], [39, 77], [39, 78], [39, 79], [39, 80], [39, 81], [39, 82], [39, 83], [39, 84], [39, 85], [39, 86], [39, 89], [39, 90], [39, 91], [39, 92], [39, 96], [39, 98], [39, 99], [39, 101], [39, 102], [39, 103], [39, 104], [39, 105], [39, 106], [39, 107], [39, 110], [39, 111], [39, 112], [39, 113], [39, 114], [39, 115], [39, 117], [39, 119], [39, 120], [39, 121], [39, 122], [39, 126], [39, 127], [39, 131], [39, 133], [39, 134], [39, 143], [39, 150], [39, 154], [39, 157], [39, 161], [39, 201], [39, 222], [39, 236], [39, 238], [39, 245], [39, 254], [39, 266], [39, 267], [39, 268], [39, 412], [39, 421], [39, 429], [39, 432], [40, 41], [40, 42], [40, 43], [40, 44], [40, 45], [40, 48], [40, 50], [40, 51], [40, 53], [40, 54], [40, 55], [40, 56], [40, 57], [40, 58], [40, 59], [40, 60], [40, 61], [40, 62], [40, 63], [40, 64], [40, 67], [40, 68], [40, 69], [40, 72], [40, 74], [40, 75], [40, 76], [40, 77], [40, 78], [40, 79], [40, 80], [40, 81], [40, 82], [40, 83], [40, 84], [40, 85], [40, 86], [40, 89], [40, 90], [40, 91], [40, 92], [40, 96], [40, 98], [40, 99], [40, 101], [40, 102], [40, 103], [40, 104], [40, 105], [40, 106], [40, 107], [40, 110], [40, 111], [40, 112], [40, 113], [40, 114], [40, 115], [40, 117], [40, 119], [40, 120], [40, 121], [40, 122], [40, 126], [40, 127], [40, 131], [40, 133], [40, 134], [40, 143], [40, 150], [40, 154], [40, 157], [40, 161], [40, 201], [40, 222], [40, 236], [40, 238], [40, 245], [40, 254], [40, 266], [40, 267], [40, 268], [40, 412], [40, 421], [40, 429], [40, 432], [41, 42], [41, 43], [41, 44], [41, 45], [41, 48], [41, 50], [41, 51], [41, 53], [41, 54], [41, 55], [41, 56], [41, 57], [41, 58], [41, 59], [41, 60], [41, 61], [41, 62], [41, 63], [41, 64], [41, 67], [41, 68], [41, 69], [41, 72], [41, 74], [41, 75], [41, 76], [41, 77], [41, 78], [41, 79], [41, 80], [41, 81], [41, 82], [41, 83], [41, 84], [41, 85], [41, 86], [41, 89], [41, 90], [41, 91], [41, 92], [41, 96], [41, 98], [41, 99], [41, 101], [41, 102], [41, 103], [41, 104], [41, 105], [41, 106], [41, 107], [41, 110], [41, 111], [41, 112], [41, 113], [41, 114], [41, 115], [41, 117], [41, 119], [41, 120], [41, 121], [41, 122], [41, 126], [41, 127], [41, 131], [41, 133], [41, 134], [41, 143], [41, 150], [41, 154], [41, 157], [41, 161], [41, 201], [41, 222], [41, 236], [41, 238], [41, 245], [41, 254], [41, 266], [41, 267], [41, 268], [41, 412], [41, 421], [41, 429], [41, 432], [42, 43], [42, 44], [42, 45], [42, 48], [42, 50], [42, 51], [42, 53], [42, 54], [42, 55], [42, 56], [42, 57], [42, 58], [42, 59], [42, 60], [42, 61], [42, 62], [42, 63], [42, 64], [42, 67], [42, 68], [42, 69], [42, 72], [42, 74], [42, 75], [42, 76], [42, 77], [42, 78], [42, 79], [42, 80], [42, 81], [42, 82], [42, 83], [42, 84], [42, 85], [42, 86], [42, 89], [42, 90], [42, 91], [42, 92], [42, 96], [42, 98], [42, 99], [42, 101], [42, 102], [42, 103], [42, 104], [42, 105], [42, 106], [42, 107], [42, 110], [42, 111], [42, 112], [42, 113], [42, 114], [42, 115], [42, 117], [42, 119], [42, 120], [42, 121], [42, 122], [42, 126], [42, 127], [42, 131], [42, 133], [42, 134], [42, 143], [42, 150], [42, 154], [42, 157], [42, 161], [42, 201], [42, 222], [42, 236], [42, 238], [42, 245], [42, 254], [42, 266], [42, 267], [42, 268], [42, 412], [42, 421], [42, 429], [42, 432], [43, 44], [43, 45], [43, 48], [43, 50], [43, 51], [43, 53], [43, 54], [43, 55], [43, 56], [43, 57], [43, 58], [43, 59], [43, 60], [43, 61], [43, 62], [43, 63], [43, 64], [43, 67], [43, 68], [43, 69], [43, 72], [43, 74], [43, 75], [43, 76], [43, 77], [43, 78], [43, 79], [43, 80], [43, 81], [43, 82], [43, 83], [43, 84], [43, 85], [43, 86], [43, 89], [43, 90], [43, 91], [43, 92], [43, 96], [43, 98], [43, 99], [43, 101], [43, 102], [43, 103], [43, 104], [43, 105], [43, 106], [43, 107], [43, 110], [43, 111], [43, 112], [43, 113], [43, 114], [43, 115], [43, 117], [43, 119], [43, 120], [43, 121], [43, 122], [43, 126], [43, 127], [43, 131], [43, 133], [43, 134], [43, 143], [43, 150], [43, 154], [43, 157], [43, 161], [43, 201], [43, 222], [43, 236], [43, 238], [43, 245], [43, 254], [43, 266], [43, 267], [43, 268], [43, 412], [43, 421], [43, 429], [43, 432], [44, 45], [44, 48], [44, 50], [44, 51], [44, 53], [44, 54], [44, 55], [44, 56], [44, 57], [44, 58], [44, 59], [44, 60], [44, 61], [44, 62], [44, 63], [44, 64], [44, 67], [44, 68], [44, 69], [44, 72], [44, 74], [44, 75], [44, 76], [44, 77], [44, 78], [44, 79], [44, 80], [44, 81], [44, 82], [44, 83], [44, 84], [44, 85], [44, 86], [44, 89], [44, 90], [44, 91], [44, 92], [44, 96], [44, 98], [44, 99], [44, 101], [44, 102], [44, 103], [44, 104], [44, 105], [44, 106], [44, 107], [44, 110], [44, 111], [44, 112], [44, 113], [44, 114], [44, 115], [44, 117], [44, 119], [44, 120], [44, 121], [44, 122], [44, 126], [44, 127], [44, 131], [44, 133], [44, 134], [44, 143], [44, 150], [44, 154], [44, 157], [44, 161], [44, 201], [44, 222], [44, 236], [44, 238], [44, 245], [44, 254], [44, 266], [44, 267], [44, 268], [44, 412], [44, 421], [44, 429], [44, 432], [45, 48], [45, 50], [45, 51], [45, 53], [45, 54], [45, 55], [45, 56], [45, 57], [45, 58], [45, 59], [45, 60], [45, 61], [45, 62], [45, 63], [45, 64], [45, 67], [45, 68], [45, 69], [45, 72], [45, 74], [45, 75], [45, 76], [45, 77], [45, 78], [45, 79], [45, 80], [45, 81], [45, 82], [45, 83], [45, 84], [45, 85], [45, 86], [45, 89], [45, 90], [45, 91], [45, 92], [45, 96], [45, 98], [45, 99], [45, 101], [45, 102], [45, 103], [45, 104], [45, 105], [45, 106], [45, 107], [45, 110], [45, 111], [45, 112], [45, 113], [45, 114], [45, 115], [45, 117], [45, 119], [45, 120], [45, 121], [45, 122], [45, 126], [45, 127], [45, 131], [45, 133], [45, 134], [45, 143], [45, 150], [45, 154], [45, 157], [45, 161], [45, 201], [45, 222], [45, 236], [45, 238], [45, 245], [45, 254], [45, 266], [45, 267], [45, 268], [45, 412], [45, 421], [45, 429], [45, 432], [48, 50], [48, 51], [48, 53], [48, 54], [48, 55], [48, 56], [48, 57], [48, 58], [48, 59], [48, 60], [48, 61], [48, 62], [48, 63], [48, 64], [48, 67], [48, 68], [48, 69], [48, 72], [48, 74], [48, 75], [48, 76], [48, 77], [48, 78], [48, 79], [48, 80], [48, 81], [48, 82], [48, 83], [48, 84], [48, 85], [48, 86], [48, 89], [48, 90], [48, 91], [48, 92], [48, 96], [48, 98], [48, 99], [48, 101], [48, 102], [48, 103], [48, 104], [48, 105], [48, 106], [48, 107], [48, 110], [48, 111], [48, 112], [48, 113], [48, 114], [48, 115], [48, 117], [48, 119], [48, 120], [48, 121], [48, 122], [48, 126], [48, 127], [48, 131], [48, 133], [48, 134], [48, 143], [48, 150], [48, 154], [48, 157], [48, 161], [48, 201], [48, 222], [48, 236], [48, 238], [48, 245], [48, 254], [48, 266], [48, 267], [48, 268], [48, 412], [48, 421], [48, 429], [48, 432], [50, 51], [50, 53], [50, 54], [50, 55], [50, 56], [50, 57], [50, 58], [50, 59], [50, 60], [50, 61], [50, 62], [50, 63], [50, 64], [50, 67], [50, 68], [50, 69], [50, 72], [50, 74], [50, 75], [50, 76], [50, 77], [50, 78], [50, 79], [50, 80], [50, 81], [50, 82], [50, 83], [50, 84], [50, 85], [50, 86], [50, 89], [50, 90], [50, 91], [50, 92], [50, 96], [50, 98], [50, 99], [50, 101], [50, 102], [50, 103], [50, 104], [50, 105], [50, 106], [50, 107], [50, 110], [50, 111], [50, 112], [50, 113], [50, 114], [50, 115], [50, 117], [50, 119], [50, 120], [50, 121], [50, 122], [50, 126], [50, 127], [50, 131], [50, 133], [50, 134], [50, 143], [50, 150], [50, 154], [50, 157], [50, 161], [50, 201], [50, 222], [50, 236], [50, 238], [50, 245], [50, 254], [50, 266], [50, 267], [50, 268], [50, 412], [50, 421], [50, 429], [50, 432], [51, 53], [51, 54], [51, 55], [51, 56], [51, 57], [51, 58], [51, 59], [51, 60], [51, 61], [51, 62], [51, 63], [51, 64], [51, 67], [51, 68], [51, 69], [51, 72], [51, 74], [51, 75], [51, 76], [51, 77], [51, 78], [51, 79], [51, 80], [51, 81], [51, 82], [51, 83], [51, 84], [51, 85], [51, 86], [51, 89], [51, 90], [51, 91], [51, 92], [51, 96], [51, 98], [51, 99], [51, 101], [51, 102], [51, 103], [51, 104], [51, 105], [51, 106], [51, 107], [51, 110], [51, 111], [51, 112], [51, 113], [51, 114], [51, 115], [51, 117], [51, 119], [51, 120], [51, 121], [51, 122], [51, 126], [51, 127], [51, 131], [51, 133], [51, 134], [51, 143], [51, 150], [51, 154], [51, 157], [51, 161], [51, 201], [51, 222], [51, 236], [51, 238], [51, 245], [51, 254], [51, 266], [51, 267], [51, 268], [51, 412], [51, 421], [51, 429], [51, 432], [53, 54], [53, 55], [53, 56], [53, 57], [53, 58], [53, 59], [53, 60], [53, 61], [53, 62], [53, 63], [53, 64], [53, 67], [53, 68], [53, 69], [53, 72], [53, 74], [53, 75], [53, 76], [53, 77], [53, 78], [53, 79], [53, 80], [53, 81], [53, 82], [53, 83], [53, 84], [53, 85], [53, 86], [53, 89], [53, 90], [53, 91], [53, 92], [53, 96], [53, 98], [53, 99], [53, 101], [53, 102], [53, 103], [53, 104], [53, 105], [53, 106], [53, 107], [53, 110], [53, 111], [53, 112], [53, 113], [53, 114], [53, 115], [53, 117], [53, 119], [53, 120], [53, 121], [53, 122], [53, 126], [53, 127], [53, 131], [53, 133], [53, 134], [53, 143], [53, 150], [53, 154], [53, 157], [53, 161], [53, 201], [53, 222], [53, 236], [53, 238], [53, 245], [53, 254], [53, 266], [53, 267], [53, 268], [53, 412], [53, 421], [53, 429], [53, 432], [54, 55], [54, 56], [54, 57], [54, 58], [54, 59], [54, 60], [54, 61], [54, 62], [54, 63], [54, 64], [54, 67], [54, 68], [54, 69], [54, 72], [54, 74], [54, 75], [54, 76], [54, 77], [54, 78], [54, 79], [54, 80], [54, 81], [54, 82], [54, 83], [54, 84], [54, 85], [54, 86], [54, 89], [54, 90], [54, 91], [54, 92], [54, 96], [54, 98], [54, 99], [54, 101], [54, 102], [54, 103], [54, 104], [54, 105], [54, 106], [54, 107], [54, 110], [54, 111], [54, 112], [54, 113], [54, 114], [54, 115], [54, 117], [54, 119], [54, 120], [54, 121], [54, 122], [54, 126], [54, 127], [54, 131], [54, 133], [54, 134], [54, 143], [54, 150], [54, 154], [54, 157], [54, 161], [54, 201], [54, 222], [54, 236], [54, 238], [54, 245], [54, 254], [54, 266], [54, 267], [54, 268], [54, 412], [54, 421], [54, 429], [54, 432], [55, 56], [55, 57], [55, 58], [55, 59], [55, 60], [55, 61], [55, 62], [55, 63], [55, 64], [55, 67], [55, 68], [55, 69], [55, 72], [55, 74], [55, 75], [55, 76], [55, 77], [55, 78], [55, 79], [55, 80], [55, 81], [55, 82], [55, 83], [55, 84], [55, 85], [55, 86], [55, 89], [55, 90], [55, 91], [55, 92], [55, 96], [55, 98], [55, 99], [55, 101], [55, 102], [55, 103], [55, 104], [55, 105], [55, 106], [55, 107], [55, 110], [55, 111], [55, 112], [55, 113], [55, 114], [55, 115], [55, 117], [55, 119], [55, 120], [55, 121], [55, 122], [55, 126], [55, 127], [55, 131], [55, 133], [55, 134], [55, 143], [55, 150], [55, 154], [55, 157], [55, 161], [55, 201], [55, 222], [55, 236], [55, 238], [55, 245], [55, 254], [55, 266], [55, 267], [55, 268], [55, 412], [55, 421], [55, 429], [55, 432], [56, 57], [56, 58], [56, 59], [56, 60], [56, 61], [56, 62], [56, 63], [56, 64], [56, 67], [56, 68], [56, 69], [56, 72], [56, 74], [56, 75], [56, 76], [56, 77], [56, 78], [56, 79], [56, 80], [56, 81], [56, 82], [56, 83], [56, 84], [56, 85], [56, 86], [56, 89], [56, 90], [56, 91], [56, 92], [56, 96], [56, 98], [56, 99], [56, 101], [56, 102], [56, 103], [56, 104], [56, 105], [56, 106], [56, 107], [56, 110], [56, 111], [56, 112], [56, 113], [56, 114], [56, 115], [56, 117], [56, 119], [56, 120], [56, 121], [56, 122], [56, 126], [56, 127], [56, 131], [56, 133], [56, 134], [56, 143], [56, 150], [56, 154], [56, 157], [56, 161], [56, 201], [56, 222], [56, 236], [56, 238], [56, 245], [56, 254], [56, 266], [56, 267], [56, 268], [56, 412], [56, 421], [56, 429], [56, 432], [57, 58], [57, 59], [57, 60], [57, 61], [57, 62], [57, 63], [57, 64], [57, 67], [57, 68], [57, 69], [57, 72], [57, 74], [57, 75], [57, 76], [57, 77], [57, 78], [57, 79], [57, 80], [57, 81], [57, 82], [57, 83], [57, 84], [57, 85], [57, 86], [57, 89], [57, 90], [57, 91], [57, 92], [57, 96], [57, 98], [57, 99], [57, 101], [57, 102], [57, 103], [57, 104], [57, 105], [57, 106], [57, 107], [57, 110], [57, 111], [57, 112], [57, 113], [57, 114], [57, 115], [57, 117], [57, 119], [57, 120], [57, 121], [57, 122], [57, 126], [57, 127], [57, 131], [57, 133], [57, 134], [57, 143], [57, 150], [57, 154], [57, 157], [57, 161], [57, 201], [57, 222], [57, 236], [57, 238], [57, 245], [57, 254], [57, 266], [57, 267], [57, 268], [57, 412], [57, 421], [57, 429], [57, 432], [58, 59], [58, 60], [58, 61], [58, 62], [58, 63], [58, 64], [58, 67], [58, 68], [58, 69], [58, 72], [58, 74], [58, 75], [58, 76], [58, 77], [58, 78], [58, 79], [58, 80], [58, 81], [58, 82], [58, 83], [58, 84], [58, 85], [58, 86], [58, 89], [58, 90], [58, 91], [58, 92], [58, 96], [58, 98], [58, 99], [58, 101], [58, 102], [58, 103], [58, 104], [58, 105], [58, 106], [58, 107], [58, 110], [58, 111], [58, 112], [58, 113], [58, 114], [58, 115], [58, 117], [58, 119], [58, 120], [58, 121], [58, 122], [58, 126], [58, 127], [58, 131], [58, 133], [58, 134], [58, 143], [58, 150], [58, 154], [58, 157], [58, 161], [58, 201], [58, 222], [58, 236], [58, 238], [58, 245], [58, 254], [58, 266], [58, 267], [58, 268], [58, 412], [58, 421], [58, 429], [58, 432], [59, 60], [59, 61], [59, 62], [59, 63], [59, 64], [59, 67], [59, 68], [59, 69], [59, 72], [59, 74], [59, 75], [59, 76], [59, 77], [59, 78], [59, 79], [59, 80], [59, 81], [59, 82], [59, 83], [59, 84], [59, 85], [59, 86], [59, 89], [59, 90], [59, 91], [59, 92], [59, 96], [59, 98], [59, 99], [59, 101], [59, 102], [59, 103], [59, 104], [59, 105], [59, 106], [59, 107], [59, 110], [59, 111], [59, 112], [59, 113], [59, 114], [59, 115], [59, 117], [59, 119], [59, 120], [59, 121], [59, 122], [59, 126], [59, 127], [59, 131], [59, 133], [59, 134], [59, 143], [59, 150], [59, 154], [59, 157], [59, 161], [59, 201], [59, 222], [59, 236], [59, 238], [59, 245], [59, 254], [59, 266], [59, 267], [59, 268], [59, 412], [59, 421], [59, 429], [59, 432], [60, 61], [60, 62], [60, 63], [60, 64], [60, 67], [60, 68], [60, 69], [60, 72], [60, 74], [60, 75], [60, 76], [60, 77], [60, 78], [60, 79], [60, 80], [60, 81], [60, 82], [60, 83], [60, 84], [60, 85], [60, 86], [60, 89], [60, 90], [60, 91], [60, 92], [60, 96], [60, 98], [60, 99], [60, 101], [60, 102], [60, 103], [60, 104], [60, 105], [60, 106], [60, 107], [60, 110], [60, 111], [60, 112], [60, 113], [60, 114], [60, 115], [60, 117], [60, 119], [60, 120], [60, 121], [60, 122], [60, 126], [60, 127], [60, 131], [60, 133], [60, 134], [60, 143], [60, 150], [60, 154], [60, 157], [60, 161], [60, 201], [60, 222], [60, 236], [60, 238], [60, 245], [60, 254], [60, 266], [60, 267], [60, 268], [60, 412], [60, 421], [60, 429], [60, 432], [61, 62], [61, 63], [61, 64], [61, 67], [61, 68], [61, 69], [61, 72], [61, 74], [61, 75], [61, 76], [61, 77], [61, 78], [61, 79], [61, 80], [61, 81], [61, 82], [61, 83], [61, 84], [61, 85], [61, 86], [61, 89], [61, 90], [61, 91], [61, 92], [61, 96], [61, 98], [61, 99], [61, 101], [61, 102], [61, 103], [61, 104], [61, 105], [61, 106], [61, 107], [61, 110], [61, 111], [61, 112], [61, 113], [61, 114], [61, 115], [61, 117], [61, 119], [61, 120], [61, 121], [61, 122], [61, 126], [61, 127], [61, 131], [61, 133], [61, 134], [61, 143], [61, 150], [61, 154], [61, 157], [61, 161], [61, 201], [61, 222], [61, 236], [61, 238], [61, 245], [61, 254], [61, 266], [61, 267], [61, 268], [61, 412], [61, 421], [61, 429], [61, 432], [62, 63], [62, 64], [62, 67], [62, 68], [62, 69], [62, 72], [62, 74], [62, 75], [62, 76], [62, 77], [62, 78], [62, 79], [62, 80], [62, 81], [62, 82], [62, 83], [62, 84], [62, 85], [62, 86], [62, 89], [62, 90], [62, 91], [62, 92], [62, 96], [62, 98], [62, 99], [62, 101], [62, 102], [62, 103], [62, 104], [62, 105], [62, 106], [62, 107], [62, 110], [62, 111], [62, 112], [62, 113], [62, 114], [62, 115], [62, 117], [62, 119], [62, 120], [62, 121], [62, 122], [62, 126], [62, 127], [62, 131], [62, 133], [62, 134], [62, 143], [62, 150], [62, 154], [62, 157], [62, 161], [62, 201], [62, 222], [62, 236], [62, 238], [62, 245], [62, 254], [62, 266], [62, 267], [62, 268], [62, 412], [62, 421], [62, 429], [62, 432], [63, 64], [63, 67], [63, 68], [63, 69], [63, 72], [63, 74], [63, 75], [63, 76], [63, 77], [63, 78], [63, 79], [63, 80], [63, 81], [63, 82], [63, 83], [63, 84], [63, 85], [63, 86], [63, 89], [63, 90], [63, 91], [63, 92], [63, 96], [63, 98], [63, 99], [63, 101], [63, 102], [63, 103], [63, 104], [63, 105], [63, 106], [63, 107], [63, 110], [63, 111], [63, 112], [63, 113], [63, 114], [63, 115], [63, 117], [63, 119], [63, 120], [63, 121], [63, 122], [63, 126], [63, 127], [63, 131], [63, 133], [63, 134], [63, 143], [63, 150], [63, 154], [63, 157], [63, 161], [63, 201], [63, 222], [63, 236], [63, 238], [63, 245], [63, 254], [63, 266], [63, 267], [63, 268], [63, 412], [63, 421], [63, 429], [63, 432], [64, 67], [64, 68], [64, 69], [64, 72], [64, 74], [64, 75], [64, 76], [64, 77], [64, 78], [64, 79], [64, 80], [64, 81], [64, 82], [64, 83], [64, 84], [64, 85], [64, 86], [64, 89], [64, 90], [64, 91], [64, 92], [64, 96], [64, 98], [64, 99], [64, 101], [64, 102], [64, 103], [64, 104], [64, 105], [64, 106], [64, 107], [64, 110], [64, 111], [64, 112], [64, 113], [64, 114], [64, 115], [64, 117], [64, 119], [64, 120], [64, 121], [64, 122], [64, 126], [64, 127], [64, 131], [64, 133], [64, 134], [64, 143], [64, 150], [64, 154], [64, 157], [64, 161], [64, 201], [64, 222], [64, 236], [64, 238], [64, 245], [64, 254], [64, 266], [64, 267], [64, 268], [64, 412], [64, 421], [64, 429], [64, 432], [67, 68], [67, 69], [67, 72], [67, 74], [67, 75], [67, 76], [67, 77], [67, 78], [67, 79], [67, 80], [67, 81], [67, 82], [67, 83], [67, 84], [67, 85], [67, 86], [67, 89], [67, 90], [67, 91], [67, 92], [67, 96], [67, 98], [67, 99], [67, 101], [67, 102], [67, 103], [67, 104], [67, 105], [67, 106], [67, 107], [67, 110], [67, 111], [67, 112], [67, 113], [67, 114], [67, 115], [67, 117], [67, 119], [67, 120], [67, 121], [67, 122], [67, 126], [67, 127], [67, 131], [67, 133], [67, 134], [67, 143], [67, 150], [67, 154], [67, 157], [67, 161], [67, 201], [67, 222], [67, 236], [67, 238], [67, 245], [67, 254], [67, 266], [67, 267], [67, 268], [67, 412], [67, 421], [67, 429], [67, 432], [68, 69], [68, 72], [68, 74], [68, 75], [68, 76], [68, 77], [68, 78], [68, 79], [68, 80], [68, 81], [68, 82], [68, 83], [68, 84], [68, 85], [68, 86], [68, 89], [68, 90], [68, 91], [68, 92], [68, 96], [68, 98], [68, 99], [68, 101], [68, 102], [68, 103], [68, 104], [68, 105], [68, 106], [68, 107], [68, 110], [68, 111], [68, 112], [68, 113], [68, 114], [68, 115], [68, 117], [68, 119], [68, 120], [68, 121], [68, 122], [68, 126], [68, 127], [68, 131], [68, 133], [68, 134], [68, 143], [68, 150], [68, 154], [68, 157], [68, 161], [68, 201], [68, 222], [68, 236], [68, 238], [68, 245], [68, 254], [68, 266], [68, 267], [68, 268], [68, 412], [68, 421], [68, 429], [68, 432], [69, 72], [69, 74], [69, 75], [69, 76], [69, 77], [69, 78], [69, 79], [69, 80], [69, 81], [69, 82], [69, 83], [69, 84], [69, 85], [69, 86], [69, 89], [69, 90], [69, 91], [69, 92], [69, 96], [69, 98], [69, 99], [69, 101], [69, 102], [69, 103], [69, 104], [69, 105], [69, 106], [69, 107], [69, 110], [69, 111], [69, 112], [69, 113], [69, 114], [69, 115], [69, 117], [69, 119], [69, 120], [69, 121], [69, 122], [69, 126], [69, 127], [69, 131], [69, 133], [69, 134], [69, 143], [69, 150], [69, 154], [69, 157], [69, 161], [69, 201], [69, 222], [69, 236], [69, 238], [69, 245], [69, 254], [69, 266], [69, 267], [69, 268], [69, 412], [69, 421], [69, 429], [69, 432], [72, 74], [72, 75], [72, 76], [72, 77], [72, 78], [72, 79], [72, 80], [72, 81], [72, 82], [72, 83], [72, 84], [72, 85], [72, 86], [72, 89], [72, 90], [72, 91], [72, 92], [72, 96], [72, 98], [72, 99], [72, 101], [72, 102], [72, 103], [72, 104], [72, 105], [72, 106], [72, 107], [72, 110], [72, 111], [72, 112], [72, 113], [72, 114], [72, 115], [72, 117], [72, 119], [72, 120], [72, 121], [72, 122], [72, 126], [72, 127], [72, 131], [72, 133], [72, 134], [72, 143], [72, 150], [72, 154], [72, 157], [72, 161], [72, 201], [72, 222], [72, 236], [72, 238], [72, 245], [72, 254], [72, 266], [72, 267], [72, 268], [72, 412], [72, 421], [72, 429], [72, 432], [74, 75], [74, 76], [74, 77], [74, 78], [74, 79], [74, 80], [74, 81], [74, 82], [74, 83], [74, 84], [74, 85], [74, 86], [74, 89], [74, 90], [74, 91], [74, 92], [74, 96], [74, 98], [74, 99], [74, 101], [74, 102], [74, 103], [74, 104], [74, 105], [74, 106], [74, 107], [74, 110], [74, 111], [74, 112], [74, 113], [74, 114], [74, 115], [74, 117], [74, 119], [74, 120], [74, 121], [74, 122], [74, 126], [74, 127], [74, 131], [74, 133], [74, 134], [74, 143], [74, 150], [74, 154], [74, 157], [74, 161], [74, 201], [74, 222], [74, 236], [74, 238], [74, 245], [74, 254], [74, 266], [74, 267], [74, 268], [74, 412], [74, 421], [74, 429], [74, 432], [75, 76], [75, 77], [75, 78], [75, 79], [75, 80], [75, 81], [75, 82], [75, 83], [75, 84], [75, 85], [75, 86], [75, 89], [75, 90], [75, 91], [75, 92], [75, 96], [75, 98], [75, 99], [75, 101], [75, 102], [75, 103], [75, 104], [75, 105], [75, 106], [75, 107], [75, 110], [75, 111], [75, 112], [75, 113], [75, 114], [75, 115], [75, 117], [75, 119], [75, 120], [75, 121], [75, 122], [75, 126], [75, 127], [75, 131], [75, 133], [75, 134], [75, 143], [75, 150], [75, 154], [75, 157], [75, 161], [75, 201], [75, 222], [75, 236], [75, 238], [75, 245], [75, 254], [75, 266], [75, 267], [75, 268], [75, 412], [75, 421], [75, 429], [75, 432], [76, 77], [76, 78], [76, 79], [76, 80], [76, 81], [76, 82], [76, 83], [76, 84], [76, 85], [76, 86], [76, 89], [76, 90], [76, 91], [76, 92], [76, 96], [76, 98], [76, 99], [76, 101], [76, 102], [76, 103], [76, 104], [76, 105], [76, 106], [76, 107], [76, 110], [76, 111], [76, 112], [76, 113], [76, 114], [76, 115], [76, 117], [76, 119], [76, 120], [76, 121], [76, 122], [76, 126], [76, 127], [76, 131], [76, 133], [76, 134], [76, 143], [76, 150], [76, 154], [76, 157], [76, 161], [76, 201], [76, 222], [76, 236], [76, 238], [76, 245], [76, 254], [76, 266], [76, 267], [76, 268], [76, 412], [76, 421], [76, 429], [76, 432], [77, 78], [77, 79], [77, 80], [77, 81], [77, 82], [77, 83], [77, 84], [77, 85], [77, 86], [77, 89], [77, 90], [77, 91], [77, 92], [77, 96], [77, 98], [77, 99], [77, 101], [77, 102], [77, 103], [77, 104], [77, 105], [77, 106], [77, 107], [77, 110], [77, 111], [77, 112], [77, 113], [77, 114], [77, 115], [77, 117], [77, 119], [77, 120], [77, 121], [77, 122], [77, 126], [77, 127], [77, 131], [77, 133], [77, 134], [77, 143], [77, 150], [77, 154], [77, 157], [77, 161], [77, 201], [77, 222], [77, 236], [77, 238], [77, 245], [77, 254], [77, 266], [77, 267], [77, 268], [77, 412], [77, 421], [77, 429], [77, 432], [78, 79], [78, 80], [78, 81], [78, 82], [78, 83], [78, 84], [78, 85], [78, 86], [78, 89], [78, 90], [78, 91], [78, 92], [78, 96], [78, 98], [78, 99], [78, 101], [78, 102], [78, 103], [78, 104], [78, 105], [78, 106], [78, 107], [78, 110], [78, 111], [78, 112], [78, 113], [78, 114], [78, 115], [78, 117], [78, 119], [78, 120], [78, 121], [78, 122], [78, 126], [78, 127], [78, 131], [78, 133], [78, 134], [78, 143], [78, 150], [78, 154], [78, 157], [78, 161], [78, 201], [78, 222], [78, 236], [78, 238], [78, 245], [78, 254], [78, 266], [78, 267], [78, 268], [78, 412], [78, 421], [78, 429], [78, 432], [79, 80], [79, 81], [79, 82], [79, 83], [79, 84], [79, 85], [79, 86], [79, 89], [79, 90], [79, 91], [79, 92], [79, 96], [79, 98], [79, 99], [79, 101], [79, 102], [79, 103], [79, 104], [79, 105], [79, 106], [79, 107], [79, 110], [79, 111], [79, 112], [79, 113], [79, 114], [79, 115], [79, 117], [79, 119], [79, 120], [79, 121], [79, 122], [79, 126], [79, 127], [79, 131], [79, 133], [79, 134], [79, 143], [79, 150], [79, 154], [79, 157], [79, 161], [79, 201], [79, 222], [79, 236], [79, 238], [79, 245], [79, 254], [79, 266], [79, 267], [79, 268], [79, 412], [79, 421], [79, 429], [79, 432], [80, 81], [80, 82], [80, 83], [80, 84], [80, 85], [80, 86], [80, 89], [80, 90], [80, 91], [80, 92], [80, 96], [80, 98], [80, 99], [80, 101], [80, 102], [80, 103], [80, 104], [80, 105], [80, 106], [80, 107], [80, 110], [80, 111], [80, 112], [80, 113], [80, 114], [80, 115], [80, 117], [80, 119], [80, 120], [80, 121], [80, 122], [80, 126], [80, 127], [80, 131], [80, 133], [80, 134], [80, 143], [80, 150], [80, 154], [80, 157], [80, 161], [80, 201], [80, 222], [80, 236], [80, 238], [80, 245], [80, 254], [80, 266], [80, 267], [80, 268], [80, 412], [80, 421], [80, 429], [80, 432], [81, 82], [81, 83], [81, 84], [81, 85], [81, 86], [81, 89], [81, 90], [81, 91], [81, 92], [81, 96], [81, 98], [81, 99], [81, 101], [81, 102], [81, 103], [81, 104], [81, 105], [81, 106], [81, 107], [81, 110], [81, 111], [81, 112], [81, 113], [81, 114], [81, 115], [81, 117], [81, 119], [81, 120], [81, 121], [81, 122], [81, 126], [81, 127], [81, 131], [81, 133], [81, 134], [81, 143], [81, 150], [81, 154], [81, 157], [81, 161], [81, 201], [81, 222], [81, 236], [81, 238], [81, 245], [81, 254], [81, 266], [81, 267], [81, 268], [81, 412], [81, 421], [81, 429], [81, 432], [82, 83], [82, 84], [82, 85], [82, 86], [82, 89], [82, 90], [82, 91], [82, 92], [82, 96], [82, 98], [82, 99], [82, 101], [82, 102], [82, 103], [82, 104], [82, 105], [82, 106], [82, 107], [82, 110], [82, 111], [82, 112], [82, 113], [82, 114], [82, 115], [82, 117], [82, 119], [82, 120], [82, 121], [82, 122], [82, 126], [82, 127], [82, 131], [82, 133], [82, 134], [82, 143], [82, 150], [82, 154], [82, 157], [82, 161], [82, 201], [82, 222], [82, 236], [82, 238], [82, 245], [82, 254], [82, 266], [82, 267], [82, 268], [82, 412], [82, 421], [82, 429], [82, 432], [83, 84], [83, 85], [83, 86], [83, 89], [83, 90], [83, 91], [83, 92], [83, 96], [83, 98], [83, 99], [83, 101], [83, 102], [83, 103], [83, 104], [83, 105], [83, 106], [83, 107], [83, 110], [83, 111], [83, 112], [83, 113], [83, 114], [83, 115], [83, 117], [83, 119], [83, 120], [83, 121], [83, 122], [83, 126], [83, 127], [83, 131], [83, 133], [83, 134], [83, 143], [83, 150], [83, 154], [83, 157], [83, 161], [83, 201], [83, 222], [83, 236], [83, 238], [83, 245], [83, 254], [83, 266], [83, 267], [83, 268], [83, 412], [83, 421], [83, 429], [83, 432], [84, 85], [84, 86], [84, 89], [84, 90], [84, 91], [84, 92], [84, 96], [84, 98], [84, 99], [84, 101], [84, 102], [84, 103], [84, 104], [84, 105], [84, 106], [84, 107], [84, 110], [84, 111], [84, 112], [84, 113], [84, 114], [84, 115], [84, 117], [84, 119], [84, 120], [84, 121], [84, 122], [84, 126], [84, 127], [84, 131], [84, 133], [84, 134], [84, 143], [84, 150], [84, 154], [84, 157], [84, 161], [84, 201], [84, 222], [84, 236], [84, 238], [84, 245], [84, 254], [84, 266], [84, 267], [84, 268], [84, 412], [84, 421], [84, 429], [84, 432], [85, 86], [85, 89], [85, 90], [85, 91], [85, 92], [85, 96], [85, 98], [85, 99], [85, 101], [85, 102], [85, 103], [85, 104], [85, 105], [85, 106], [85, 107], [85, 110], [85, 111], [85, 112], [85, 113], [85, 114], [85, 115], [85, 117], [85, 119], [85, 120], [85, 121], [85, 122], [85, 126], [85, 127], [85, 131], [85, 133], [85, 134], [85, 143], [85, 150], [85, 154], [85, 157], [85, 161], [85, 201], [85, 222], [85, 236], [85, 238], [85, 245], [85, 254], [85, 266], [85, 267], [85, 268], [85, 412], [85, 421], [85, 429], [85, 432], [86, 89], [86, 90], [86, 91], [86, 92], [86, 96], [86, 98], [86, 99], [86, 101], [86, 102], [86, 103], [86, 104], [86, 105], [86, 106], [86, 107], [86, 110], [86, 111], [86, 112], [86, 113], [86, 114], [86, 115], [86, 117], [86, 119], [86, 120], [86, 121], [86, 122], [86, 126], [86, 127], [86, 131], [86, 133], [86, 134], [86, 143], [86, 150], [86, 154], [86, 157], [86, 161], [86, 201], [86, 222], [86, 236], [86, 238], [86, 245], [86, 254], [86, 266], [86, 267], [86, 268], [86, 412], [86, 421], [86, 429], [86, 432], [89, 90], [89, 91], [89, 92], [89, 96], [89, 98], [89, 99], [89, 101], [89, 102], [89, 103], [89, 104], [89, 105], [89, 106], [89, 107], [89, 110], [89, 111], [89, 112], [89, 113], [89, 114], [89, 115], [89, 117], [89, 119], [89, 120], [89, 121], [89, 122], [89, 126], [89, 127], [89, 131], [89, 133], [89, 134], [89, 143], [89, 150], [89, 154], [89, 157], [89, 161], [89, 201], [89, 222], [89, 236], [89, 238], [89, 245], [89, 254], [89, 266], [89, 267], [89, 268], [89, 412], [89, 421], [89, 429], [89, 432], [90, 91], [90, 92], [90, 96], [90, 98], [90, 99], [90, 101], [90, 102], [90, 103], [90, 104], [90, 105], [90, 106], [90, 107], [90, 110], [90, 111], [90, 112], [90, 113], [90, 114], [90, 115], [90, 117], [90, 119], [90, 120], [90, 121], [90, 122], [90, 126], [90, 127], [90, 131], [90, 133], [90, 134], [90, 143], [90, 150], [90, 154], [90, 157], [90, 161], [90, 201], [90, 222], [90, 236], [90, 238], [90, 245], [90, 254], [90, 266], [90, 267], [90, 268], [90, 412], [90, 421], [90, 429], [90, 432], [91, 92], [91, 96], [91, 98], [91, 99], [91, 101], [91, 102], [91, 103], [91, 104], [91, 105], [91, 106], [91, 107], [91, 110], [91, 111], [91, 112], [91, 113], [91, 114], [91, 115], [91, 117], [91, 119], [91, 120], [91, 121], [91, 122], [91, 126], [91, 127], [91, 131], [91, 133], [91, 134], [91, 143], [91, 150], [91, 154], [91, 157], [91, 161], [91, 201], [91, 222], [91, 236], [91, 238], [91, 245], [91, 254], [91, 266], [91, 267], [91, 268], [91, 412], [91, 421], [91, 429], [91, 432], [92, 96], [92, 98], [92, 99], [92, 101], [92, 102], [92, 103], [92, 104], [92, 105], [92, 106], [92, 107], [92, 110], [92, 111], [92, 112], [92, 113], [92, 114], [92, 115], [92, 117], [92, 119], [92, 120], [92, 121], [92, 122], [92, 126], [92, 127], [92, 131], [92, 133], [92, 134], [92, 143], [92, 150], [92, 154], [92, 157], [92, 161], [92, 201], [92, 222], [92, 236], [92, 238], [92, 245], [92, 254], [92, 266], [92, 267], [92, 268], [92, 412], [92, 421], [92, 429], [92, 432], [96, 98], [96, 99], [96, 101], [96, 102], [96, 103], [96, 104], [96, 105], [96, 106], [96, 107], [96, 110], [96, 111], [96, 112], [96, 113], [96, 114], [96, 115], [96, 117], [96, 119], [96, 120], [96, 121], [96, 122], [96, 126], [96, 127], [96, 131], [96, 133], [96, 134], [96, 143], [96, 150], [96, 154], [96, 157], [96, 161], [96, 201], [96, 222], [96, 236], [96, 238], [96, 245], [96, 254], [96, 266], [96, 267], [96, 268], [96, 412], [96, 421], [96, 429], [96, 432], [98, 99], [98, 101], [98, 102], [98, 103], [98, 104], [98, 105], [98, 106], [98, 107], [98, 110], [98, 111], [98, 112], [98, 113], [98, 114], [98, 115], [98, 117], [98, 119], [98, 120], [98, 121], [98, 122], [98, 126], [98, 127], [98, 131], [98, 133], [98, 134], [98, 143], [98, 150], [98, 154], [98, 157], [98, 161], [98, 201], [98, 222], [98, 236], [98, 238], [98, 245], [98, 254], [98, 266], [98, 267], [98, 268], [98, 412], [98, 421], [98, 429], [98, 432], [99, 101], [99, 102], [99, 103], [99, 104], [99, 105], [99, 106], [99, 107], [99, 110], [99, 111], [99, 112], [99, 113], [99, 114], [99, 115], [99, 117], [99, 119], [99, 120], [99, 121], [99, 122], [99, 126], [99, 127], [99, 131], [99, 133], [99, 134], [99, 143], [99, 150], [99, 154], [99, 157], [99, 161], [99, 201], [99, 222], [99, 236], [99, 238], [99, 245], [99, 254], [99, 266], [99, 267], [99, 268], [99, 412], [99, 421], [99, 429], [99, 432], [101, 102], [101, 103], [101, 104], [101, 105], [101, 106], [101, 107], [101, 110], [101, 111], [101, 112], [101, 113], [101, 114], [101, 115], [101, 117], [101, 119], [101, 120], [101, 121], [101, 122], [101, 126], [101, 127], [101, 131], [101, 133], [101, 134], [101, 143], [101, 150], [101, 154], [101, 157], [101, 161], [101, 201], [101, 222], [101, 236], [101, 238], [101, 245], [101, 254], [101, 266], [101, 267], [101, 268], [101, 412], [101, 421], [101, 429], [101, 432], [102, 103], [102, 104], [102, 105], [102, 106], [102, 107], [102, 110], [102, 111], [102, 112], [102, 113], [102, 114], [102, 115], [102, 117], [102, 119], [102, 120], [102, 121], [102, 122], [102, 126], [102, 127], [102, 131], [102, 133], [102, 134], [102, 143], [102, 150], [102, 154], [102, 157], [102, 161], [102, 201], [102, 222], [102, 236], [102, 238], [102, 245], [102, 254], [102, 266], [102, 267], [102, 268], [102, 412], [102, 421], [102, 429], [102, 432], [103, 104], [103, 105], [103, 106], [103, 107], [103, 110], [103, 111], [103, 112], [103, 113], [103, 114], [103, 115], [103, 117], [103, 119], [103, 120], [103, 121], [103, 122], [103, 126], [103, 127], [103, 131], [103, 133], [103, 134], [103, 143], [103, 150], [103, 154], [103, 157], [103, 161], [103, 201], [103, 222], [103, 236], [103, 238], [103, 245], [103, 254], [103, 266], [103, 267], [103, 268], [103, 412], [103, 421], [103, 429], [103, 432], [104, 105], [104, 106], [104, 107], [104, 110], [104, 111], [104, 112], [104, 113], [104, 114], [104, 115], [104, 117], [104, 119], [104, 120], [104, 121], [104, 122], [104, 126], [104, 127], [104, 131], [104, 133], [104, 134], [104, 143], [104, 150], [104, 154], [104, 157], [104, 161], [104, 201], [104, 222], [104, 236], [104, 238], [104, 245], [104, 254], [104, 266], [104, 267], [104, 268], [104, 412], [104, 421], [104, 429], [104, 432], [105, 106], [105, 107], [105, 110], [105, 111], [105, 112], [105, 113], [105, 114], [105, 115], [105, 117], [105, 119], [105, 120], [105, 121], [105, 122], [105, 126], [105, 127], [105, 131], [105, 133], [105, 134], [105, 143], [105, 150], [105, 154], [105, 157], [105, 161], [105, 201], [105, 222], [105, 236], [105, 238], [105, 245], [105, 254], [105, 266], [105, 267], [105, 268], [105, 412], [105, 421], [105, 429], [105, 432], [106, 107], [106, 110], [106, 111], [106, 112], [106, 113], [106, 114], [106, 115], [106, 117], [106, 119], [106, 120], [106, 121], [106, 122], [106, 126], [106, 127], [106, 131], [106, 133], [106, 134], [106, 143], [106, 150], [106, 154], [106, 157], [106, 161], [106, 201], [106, 222], [106, 236], [106, 238], [106, 245], [106, 254], [106, 266], [106, 267], [106, 268], [106, 412], [106, 421], [106, 429], [106, 432], [107, 110], [107, 111], [107, 112], [107, 113], [107, 114], [107, 115], [107, 117], [107, 119], [107, 120], [107, 121], [107, 122], [107, 126], [107, 127], [107, 131], [107, 133], [107, 134], [107, 143], [107, 150], [107, 154], [107, 157], [107, 161], [107, 201], [107, 222], [107, 236], [107, 238], [107, 245], [107, 254], [107, 266], [107, 267], [107, 268], [107, 412], [107, 421], [107, 429], [107, 432], [110, 111], [110, 112], [110, 113], [110, 114], [110, 115], [110, 117], [110, 119], [110, 120], [110, 121], [110, 122], [110, 126], [110, 127], [110, 131], [110, 133], [110, 134], [110, 143], [110, 150], [110, 154], [110, 157], [110, 161], [110, 201], [110, 222], [110, 236], [110, 238], [110, 245], [110, 254], [110, 266], [110, 267], [110, 268], [110, 412], [110, 421], [110, 429], [110, 432], [111, 112], [111, 113], [111, 114], [111, 115], [111, 117], [111, 119], [111, 120], [111, 121], [111, 122], [111, 126], [111, 127], [111, 131], [111, 133], [111, 134], [111, 143], [111, 150], [111, 154], [111, 157], [111, 161], [111, 201], [111, 222], [111, 236], [111, 238], [111, 245], [111, 254], [111, 266], [111, 267], [111, 268], [111, 412], [111, 421], [111, 429], [111, 432], [112, 113], [112, 114], [112, 115], [112, 117], [112, 119], [112, 120], [112, 121], [112, 122], [112, 126], [112, 127], [112, 131], [112, 133], [112, 134], [112, 143], [112, 150], [112, 154], [112, 157], [112, 161], [112, 201], [112, 222], [112, 236], [112, 238], [112, 245], [112, 254], [112, 266], [112, 267], [112, 268], [112, 412], [112, 421], [112, 429], [112, 432], [113, 114], [113, 115], [113, 117], [113, 119], [113, 120], [113, 121], [113, 122], [113, 126], [113, 127], [113, 131], [113, 133], [113, 134], [113, 143], [113, 150], [113, 154], [113, 157], [113, 161], [113, 201], [113, 222], [113, 236], [113, 238], [113, 245], [113, 254], [113, 266], [113, 267], [113, 268], [113, 412], [113, 421], [113, 429], [113, 432], [114, 115], [114, 117], [114, 119], [114, 120], [114, 121], [114, 122], [114, 126], [114, 127], [114, 131], [114, 133], [114, 134], [114, 143], [114, 150], [114, 154], [114, 157], [114, 161], [114, 201], [114, 222], [114, 236], [114, 238], [114, 245], [114, 254], [114, 266], [114, 267], [114, 268], [114, 412], [114, 421], [114, 429], [114, 432], [115, 117], [115, 119], [115, 120], [115, 121], [115, 122], [115, 126], [115, 127], [115, 131], [115, 133], [115, 134], [115, 143], [115, 150], [115, 154], [115, 157], [115, 161], [115, 201], [115, 222], [115, 236], [115, 238], [115, 245], [115, 254], [115, 266], [115, 267], [115, 268], [115, 412], [115, 421], [115, 429], [115, 432], [117, 119], [117, 120], [117, 121], [117, 122], [117, 126], [117, 127], [117, 131], [117, 133], [117, 134], [117, 143], [117, 150], [117, 154], [117, 157], [117, 161], [117, 201], [117, 222], [117, 236], [117, 238], [117, 245], [117, 254], [117, 266], [117, 267], [117, 268], [117, 412], [117, 421], [117, 429], [117, 432], [119, 120], [119, 121], [119, 122], [119, 126], [119, 127], [119, 131], [119, 133], [119, 134], [119, 143], [119, 150], [119, 154], [119, 157], [119, 161], [119, 201], [119, 222], [119, 236], [119, 238], [119, 245], [119, 254], [119, 266], [119, 267], [119, 268], [119, 412], [119, 421], [119, 429], [119, 432], [120, 121], [120, 122], [120, 126], [120, 127], [120, 131], [120, 133], [120, 134], [120, 143], [120, 150], [120, 154], [120, 157], [120, 161], [120, 201], [120, 222], [120, 236], [120, 238], [120, 245], [120, 254], [120, 266], [120, 267], [120, 268], [120, 412], [120, 421], [120, 429], [120, 432], [121, 122], [121, 126], [121, 127], [121, 131], [121, 133], [121, 134], [121, 143], [121, 150], [121, 154], [121, 157], [121, 161], [121, 201], [121, 222], [121, 236], [121, 238], [121, 245], [121, 254], [121, 266], [121, 267], [121, 268], [121, 412], [121, 421], [121, 429], [121, 432], [122, 126], [122, 127], [122, 131], [122, 133], [122, 134], [122, 143], [122, 150], [122, 154], [122, 157], [122, 161], [122, 201], [122, 222], [122, 236], [122, 238], [122, 245], [122, 254], [122, 266], [122, 267], [122, 268], [122, 412], [122, 421], [122, 429], [122, 432], [126, 127], [126, 131], [126, 133], [126, 134], [126, 143], [126, 150], [126, 154], [126, 157], [126, 161], [126, 201], [126, 222], [126, 236], [126, 238], [126, 245], [126, 254], [126, 266], [126, 267], [126, 268], [126, 412], [126, 421], [126, 429], [126, 432], [127, 131], [127, 133], [127, 134], [127, 143], [127, 150], [127, 154], [127, 157], [127, 161], [127, 201], [127, 222], [127, 236], [127, 238], [127, 245], [127, 254], [127, 266], [127, 267], [127, 268], [127, 412], [127, 421], [127, 429], [127, 432], [131, 133], [131, 134], [131, 143], [131, 150], [131, 154], [131, 157], [131, 161], [131, 201], [131, 222], [131, 236], [131, 238], [131, 245], [131, 254], [131, 266], [131, 267], [131, 268], [131, 412], [131, 421], [131, 429], [131, 432], [133, 134], [133, 143], [133, 150], [133, 154], [133, 157], [133, 161], [133, 201], [133, 222], [133, 236], [133, 238], [133, 245], [133, 254], [133, 266], [133, 267], [133, 268], [133, 412], [133, 421], [133, 429], [133, 432], [134, 143], [134, 150], [134, 154], [134, 157], [134, 161], [134, 201], [134, 222], [134, 236], [134, 238], [134, 245], [134, 254], [134, 266], [134, 267], [134, 268], [134, 412], [134, 421], [134, 429], [134, 432], [143, 150], [143, 154], [143, 157], [143, 161], [143, 201], [143, 222], [143, 236], [143, 238], [143, 245], [143, 254], [143, 266], [143, 267], [143, 268], [143, 412], [143, 421], [143, 429], [143, 432], [150, 154], [150, 157], [150, 161], [150, 201], [150, 222], [150, 236], [150, 238], [150, 245], [150, 254], [150, 266], [150, 267], [150, 268], [150, 412], [150, 421], [150, 429], [150, 432], [154, 157], [154, 161], [154, 201], [154, 222], [154, 236], [154, 238], [154, 245], [154, 254], [154, 266], [154, 267], [154, 268], [154, 412], [154, 421], [154, 429], [154, 432], [157, 161], [157, 201], [157, 222], [157, 236], [157, 238], [157, 245], [157, 254], [157, 266], [157, 267], [157, 268], [157, 412], [157, 421], [157, 429], [157, 432], [161, 201], [161, 222], [161, 236], [161, 238], [161, 245], [161, 254], [161, 266], [161, 267], [161, 268], [161, 412], [161, 421], [161, 429], [161, 432], [201, 222], [201, 236], [201, 238], [201, 245], [201, 254], [201, 266], [201, 267], [201, 268], [201, 412], [201, 421], [201, 429], [201, 432], [222, 236], [222, 238], [222, 245], [222, 254], [222, 266], [222, 267], [222, 268], [222, 412], [222, 421], [222, 429], [222, 432], [236, 238], [236, 245], [236, 254], [236, 266], [236, 267], [236, 268], [236, 412], [236, 421], [236, 429], [236, 432], [238, 245], [238, 254], [238, 266], [238, 267], [238, 268], [238, 412], [238, 421], [238, 429], [238, 432], [245, 254], [245, 266], [245, 267], [245, 268], [245, 412], [245, 421], [245, 429], [245, 432], [254, 266], [254, 267], [254, 268], [254, 412], [254, 421], [254, 429], [254, 432], [266, 267], [266, 268], [266, 412], [266, 421], [266, 429], [266, 432], [267, 268], [267, 412], [267, 421], [267, 429], [267, 432], [268, 412], [268, 421], [268, 429], [268, 432], [412, 421], [412, 429], [412, 432], [421, 429], [421, 432], [429, 432]]\n"
     ]
    }
   ],
   "source": [
    "# 자주 나오는 값들의 가능한 2개 조합\n",
    "import itertools\n",
    "freq_true_2 = []\n",
    "for subset in itertools.combinations(true_300.index, 2):\n",
    "    freq_true_2.append(list(subset))\n",
    "\n",
    "print(freq_true_2)\n",
    "\n",
    "\n",
    "\n",
    "# for L in range(0, len(freq_true)+1):\n",
    "#     for subset in itertools.combinations(freq_true, L):\n",
    "#         print(subset)"
   ]
  },
  {
   "cell_type": "code",
   "execution_count": 180,
   "metadata": {},
   "outputs": [
    {
     "data": {
      "text/html": [
       "<div>\n",
       "<style>\n",
       "    .dataframe thead tr:only-child th {\n",
       "        text-align: right;\n",
       "    }\n",
       "\n",
       "    .dataframe thead th {\n",
       "        text-align: left;\n",
       "    }\n",
       "\n",
       "    .dataframe tbody tr th {\n",
       "        vertical-align: top;\n",
       "    }\n",
       "</style>\n",
       "<table border=\"1\" class=\"dataframe\">\n",
       "  <thead>\n",
       "    <tr style=\"text-align: right;\">\n",
       "      <th></th>\n",
       "      <th>champId_0</th>\n",
       "      <th>champId_1</th>\n",
       "      <th>champId_2</th>\n",
       "      <th>champId_3</th>\n",
       "      <th>champId_4</th>\n",
       "      <th>champId_5</th>\n",
       "      <th>champId_6</th>\n",
       "      <th>champId_7</th>\n",
       "      <th>champId_8</th>\n",
       "      <th>champId_9</th>\n",
       "      <th>...</th>\n",
       "      <th>player_1</th>\n",
       "      <th>player_2</th>\n",
       "      <th>player_3</th>\n",
       "      <th>player_4</th>\n",
       "      <th>player_5</th>\n",
       "      <th>player_6</th>\n",
       "      <th>player_7</th>\n",
       "      <th>player_8</th>\n",
       "      <th>player_9</th>\n",
       "      <th>target</th>\n",
       "    </tr>\n",
       "  </thead>\n",
       "  <tbody>\n",
       "    <tr>\n",
       "      <th>0</th>\n",
       "      <td>238</td>\n",
       "      <td>412</td>\n",
       "      <td>236</td>\n",
       "      <td>117</td>\n",
       "      <td>20</td>\n",
       "      <td>421</td>\n",
       "      <td>22</td>\n",
       "      <td>103</td>\n",
       "      <td>63</td>\n",
       "      <td>150</td>\n",
       "      <td>...</td>\n",
       "      <td>178</td>\n",
       "      <td>724</td>\n",
       "      <td>553</td>\n",
       "      <td>1577</td>\n",
       "      <td>1406</td>\n",
       "      <td>1535</td>\n",
       "      <td>2448</td>\n",
       "      <td>1420</td>\n",
       "      <td>3440</td>\n",
       "      <td>False</td>\n",
       "    </tr>\n",
       "    <tr>\n",
       "      <th>1</th>\n",
       "      <td>64</td>\n",
       "      <td>412</td>\n",
       "      <td>236</td>\n",
       "      <td>76</td>\n",
       "      <td>8</td>\n",
       "      <td>222</td>\n",
       "      <td>268</td>\n",
       "      <td>245</td>\n",
       "      <td>421</td>\n",
       "      <td>12</td>\n",
       "      <td>...</td>\n",
       "      <td>6873</td>\n",
       "      <td>5159</td>\n",
       "      <td>6874</td>\n",
       "      <td>231</td>\n",
       "      <td>5352</td>\n",
       "      <td>1431</td>\n",
       "      <td>6842</td>\n",
       "      <td>3221</td>\n",
       "      <td>2240</td>\n",
       "      <td>False</td>\n",
       "    </tr>\n",
       "    <tr>\n",
       "      <th>2</th>\n",
       "      <td>69</td>\n",
       "      <td>64</td>\n",
       "      <td>57</td>\n",
       "      <td>104</td>\n",
       "      <td>40</td>\n",
       "      <td>111</td>\n",
       "      <td>39</td>\n",
       "      <td>15</td>\n",
       "      <td>8</td>\n",
       "      <td>90</td>\n",
       "      <td>...</td>\n",
       "      <td>874</td>\n",
       "      <td>2539</td>\n",
       "      <td>1107</td>\n",
       "      <td>1108</td>\n",
       "      <td>903</td>\n",
       "      <td>2981</td>\n",
       "      <td>2977</td>\n",
       "      <td>1182</td>\n",
       "      <td>626</td>\n",
       "      <td>True</td>\n",
       "    </tr>\n",
       "    <tr>\n",
       "      <th>3</th>\n",
       "      <td>107</td>\n",
       "      <td>96</td>\n",
       "      <td>25</td>\n",
       "      <td>222</td>\n",
       "      <td>113</td>\n",
       "      <td>268</td>\n",
       "      <td>245</td>\n",
       "      <td>12</td>\n",
       "      <td>64</td>\n",
       "      <td>236</td>\n",
       "      <td>...</td>\n",
       "      <td>883</td>\n",
       "      <td>225</td>\n",
       "      <td>1836</td>\n",
       "      <td>228</td>\n",
       "      <td>174</td>\n",
       "      <td>191</td>\n",
       "      <td>2331</td>\n",
       "      <td>250</td>\n",
       "      <td>226</td>\n",
       "      <td>True</td>\n",
       "    </tr>\n",
       "    <tr>\n",
       "      <th>4</th>\n",
       "      <td>236</td>\n",
       "      <td>76</td>\n",
       "      <td>103</td>\n",
       "      <td>92</td>\n",
       "      <td>89</td>\n",
       "      <td>102</td>\n",
       "      <td>412</td>\n",
       "      <td>101</td>\n",
       "      <td>39</td>\n",
       "      <td>222</td>\n",
       "      <td>...</td>\n",
       "      <td>465</td>\n",
       "      <td>2461</td>\n",
       "      <td>1339</td>\n",
       "      <td>2670</td>\n",
       "      <td>422</td>\n",
       "      <td>2684</td>\n",
       "      <td>1083</td>\n",
       "      <td>4272</td>\n",
       "      <td>2494</td>\n",
       "      <td>False</td>\n",
       "    </tr>\n",
       "  </tbody>\n",
       "</table>\n",
       "<p>5 rows × 21 columns</p>\n",
       "</div>"
      ],
      "text/plain": [
       "   champId_0  champId_1  champId_2  champId_3  champId_4  champId_5  \\\n",
       "0        238        412        236        117         20        421   \n",
       "1         64        412        236         76          8        222   \n",
       "2         69         64         57        104         40        111   \n",
       "3        107         96         25        222        113        268   \n",
       "4        236         76        103         92         89        102   \n",
       "\n",
       "   champId_6  champId_7  champId_8  champId_9   ...    player_1  player_2  \\\n",
       "0         22        103         63        150   ...         178       724   \n",
       "1        268        245        421         12   ...        6873      5159   \n",
       "2         39         15          8         90   ...         874      2539   \n",
       "3        245         12         64        236   ...         883       225   \n",
       "4        412        101         39        222   ...         465      2461   \n",
       "\n",
       "   player_3  player_4  player_5  player_6  player_7  player_8  player_9  \\\n",
       "0       553      1577      1406      1535      2448      1420      3440   \n",
       "1      6874       231      5352      1431      6842      3221      2240   \n",
       "2      1107      1108       903      2981      2977      1182       626   \n",
       "3      1836       228       174       191      2331       250       226   \n",
       "4      1339      2670       422      2684      1083      4272      2494   \n",
       "\n",
       "   target  \n",
       "0   False  \n",
       "1   False  \n",
       "2    True  \n",
       "3    True  \n",
       "4   False  \n",
       "\n",
       "[5 rows x 21 columns]"
      ]
     },
     "execution_count": 180,
     "metadata": {},
     "output_type": "execute_result"
    }
   ],
   "source": [
    "train_df.head()"
   ]
  },
  {
   "cell_type": "code",
   "execution_count": 493,
   "metadata": {},
   "outputs": [
    {
     "data": {
      "text/plain": [
       "Int64Index([  1,   2,   3,   4,   5,   6,   7,   8,   9,  10,\n",
       "            ...\n",
       "            238, 245, 254, 266, 267, 268, 412, 421, 429, 432],\n",
       "           dtype='int64', name='val', length=125)"
      ]
     },
     "execution_count": 493,
     "metadata": {},
     "output_type": "execute_result"
    }
   ],
   "source": []
  },
  {
   "cell_type": "code",
   "execution_count": 202,
   "metadata": {},
   "outputs": [
    {
     "data": {
      "text/plain": [
       "array([[ 12,  40],\n",
       "       [ 12,  64],\n",
       "       [ 12, 111],\n",
       "       [ 12, 412],\n",
       "       [ 40,  64],\n",
       "       [ 40, 111],\n",
       "       [ 40, 412],\n",
       "       [ 64, 111],\n",
       "       [ 64, 412],\n",
       "       [111, 412]])"
      ]
     },
     "execution_count": 202,
     "metadata": {},
     "output_type": "execute_result"
    }
   ],
   "source": [
    "np.array(freq_true_2)"
   ]
  },
  {
   "cell_type": "code",
   "execution_count": 498,
   "metadata": {},
   "outputs": [
    {
     "data": {
      "text/html": [
       "<div>\n",
       "<style>\n",
       "    .dataframe thead tr:only-child th {\n",
       "        text-align: right;\n",
       "    }\n",
       "\n",
       "    .dataframe thead th {\n",
       "        text-align: left;\n",
       "    }\n",
       "\n",
       "    .dataframe tbody tr th {\n",
       "        vertical-align: top;\n",
       "    }\n",
       "</style>\n",
       "<table border=\"1\" class=\"dataframe\">\n",
       "  <thead>\n",
       "    <tr style=\"text-align: right;\">\n",
       "      <th></th>\n",
       "      <th>champId_0</th>\n",
       "      <th>champId_1</th>\n",
       "      <th>champId_2</th>\n",
       "      <th>champId_3</th>\n",
       "      <th>champId_4</th>\n",
       "      <th>target</th>\n",
       "    </tr>\n",
       "  </thead>\n",
       "  <tbody>\n",
       "    <tr>\n",
       "      <th>0</th>\n",
       "      <td>238</td>\n",
       "      <td>412</td>\n",
       "      <td>236</td>\n",
       "      <td>117</td>\n",
       "      <td>20</td>\n",
       "      <td>False</td>\n",
       "    </tr>\n",
       "    <tr>\n",
       "      <th>1</th>\n",
       "      <td>64</td>\n",
       "      <td>412</td>\n",
       "      <td>236</td>\n",
       "      <td>76</td>\n",
       "      <td>8</td>\n",
       "      <td>False</td>\n",
       "    </tr>\n",
       "    <tr>\n",
       "      <th>2</th>\n",
       "      <td>69</td>\n",
       "      <td>64</td>\n",
       "      <td>57</td>\n",
       "      <td>104</td>\n",
       "      <td>40</td>\n",
       "      <td>True</td>\n",
       "    </tr>\n",
       "    <tr>\n",
       "      <th>3</th>\n",
       "      <td>107</td>\n",
       "      <td>96</td>\n",
       "      <td>25</td>\n",
       "      <td>222</td>\n",
       "      <td>113</td>\n",
       "      <td>True</td>\n",
       "    </tr>\n",
       "    <tr>\n",
       "      <th>4</th>\n",
       "      <td>236</td>\n",
       "      <td>76</td>\n",
       "      <td>103</td>\n",
       "      <td>92</td>\n",
       "      <td>89</td>\n",
       "      <td>False</td>\n",
       "    </tr>\n",
       "  </tbody>\n",
       "</table>\n",
       "</div>"
      ],
      "text/plain": [
       "   champId_0  champId_1  champId_2  champId_3  champId_4  target\n",
       "0        238        412        236        117         20   False\n",
       "1         64        412        236         76          8   False\n",
       "2         69         64         57        104         40    True\n",
       "3        107         96         25        222        113    True\n",
       "4        236         76        103         92         89   False"
      ]
     },
     "execution_count": 498,
     "metadata": {},
     "output_type": "execute_result"
    }
   ],
   "source": [
    "train_df[['champId_0','champId_1','champId_2','champId_3','champId_4','target']].head()"
   ]
  },
  {
   "cell_type": "code",
   "execution_count": 507,
   "metadata": {
    "collapsed": true
   },
   "outputs": [
    {
     "name": "stdout",
     "output_type": "stream",
     "text": [
      "(0, 1)\n",
      "(1, 2)\n",
      "(2, 3)\n",
      "(3, 4)\n",
      "(4, 5)\n",
      "(5, 6)\n",
      "(6, 7)\n",
      "(7, 8)\n",
      "(8, 9)\n",
      "(9, 10)\n",
      "(10, 11)\n",
      "(11, 12)\n",
      "(12, 13)\n",
      "(13, 14)\n",
      "(14, 15)\n",
      "(15, 16)\n",
      "(16, 17)\n",
      "(17, 18)\n",
      "(18, 19)\n",
      "(19, 20)\n",
      "(20, 21)\n",
      "(21, 22)\n",
      "(22, 23)\n",
      "(23, 24)\n",
      "(24, 25)\n",
      "(25, 26)\n",
      "(26, 27)\n",
      "(27, 28)\n",
      "(28, 29)\n",
      "(29, 30)\n",
      "(30, 31)\n",
      "(31, 32)\n",
      "(32, 33)\n",
      "(33, 34)\n",
      "(34, 35)\n",
      "(35, 36)\n",
      "(36, 37)\n",
      "(37, 38)\n",
      "(38, 39)\n",
      "(39, 40)\n",
      "(40, 41)\n",
      "(41, 42)\n",
      "(42, 43)\n",
      "(43, 44)\n",
      "(44, 45)\n",
      "(45, 48)\n",
      "(46, 50)\n",
      "(47, 51)\n",
      "(48, 53)\n",
      "(49, 54)\n",
      "(50, 55)\n",
      "(51, 56)\n",
      "(52, 57)\n",
      "(53, 58)\n",
      "(54, 59)\n",
      "(55, 60)\n",
      "(56, 61)\n",
      "(57, 62)\n",
      "(58, 63)\n",
      "(59, 64)\n",
      "(60, 67)\n",
      "(61, 68)\n",
      "(62, 69)\n",
      "(63, 72)\n",
      "(64, 74)\n",
      "(65, 75)\n",
      "(66, 76)\n",
      "(67, 77)\n",
      "(68, 78)\n",
      "(69, 79)\n",
      "(70, 80)\n",
      "(71, 81)\n",
      "(72, 82)\n",
      "(73, 83)\n",
      "(74, 84)\n",
      "(75, 85)\n",
      "(76, 86)\n",
      "(77, 89)\n",
      "(78, 90)\n",
      "(79, 91)\n",
      "(80, 92)\n",
      "(81, 96)\n",
      "(82, 98)\n",
      "(83, 99)\n",
      "(84, 101)\n",
      "(85, 102)\n",
      "(86, 103)\n",
      "(87, 104)\n",
      "(88, 105)\n",
      "(89, 106)\n",
      "(90, 107)\n",
      "(91, 110)\n",
      "(92, 111)\n",
      "(93, 112)\n",
      "(94, 113)\n",
      "(95, 114)\n",
      "(96, 115)\n",
      "(97, 117)\n",
      "(98, 119)\n",
      "(99, 120)\n",
      "(100, 121)\n",
      "(101, 122)\n",
      "(102, 126)\n",
      "(103, 127)\n",
      "(104, 131)\n",
      "(105, 133)\n",
      "(106, 134)\n",
      "(107, 143)\n",
      "(108, 150)\n",
      "(109, 154)\n",
      "(110, 157)\n",
      "(111, 161)\n",
      "(112, 201)\n",
      "(113, 222)\n",
      "(114, 236)\n",
      "(115, 238)\n",
      "(116, 245)\n",
      "(117, 254)\n",
      "(118, 266)\n",
      "(119, 267)\n",
      "(120, 268)\n",
      "(121, 412)\n",
      "(122, 421)\n",
      "(123, 429)\n",
      "(124, 432)\n"
     ]
    }
   ],
   "source": [
    "for i in enumerate(true_300.index):\n",
    "    print(i)"
   ]
  },
  {
   "cell_type": "code",
   "execution_count": 510,
   "metadata": {
    "collapsed": true
   },
   "outputs": [
    {
     "ename": "KeyboardInterrupt",
     "evalue": "",
     "output_type": "error",
     "traceback": [
      "\u001b[0;31m---------------------------------------------------------------------------\u001b[0m",
      "\u001b[0;31mKeyboardInterrupt\u001b[0m                         Traceback (most recent call last)",
      "\u001b[0;32m<ipython-input-510-92456afaee98>\u001b[0m in \u001b[0;36m<module>\u001b[0;34m()\u001b[0m\n\u001b[1;32m      7\u001b[0m         \u001b[0macc\u001b[0m \u001b[0;34m=\u001b[0m \u001b[0;36m0\u001b[0m\u001b[0;34m\u001b[0m\u001b[0m\n\u001b[1;32m      8\u001b[0m         \u001b[0;32mfor\u001b[0m \u001b[0mj\u001b[0m \u001b[0;32min\u001b[0m \u001b[0mrange\u001b[0m\u001b[0;34m(\u001b[0m\u001b[0;36m5\u001b[0m\u001b[0;34m)\u001b[0m\u001b[0;34m:\u001b[0m\u001b[0;34m\u001b[0m\u001b[0m\n\u001b[0;32m----> 9\u001b[0;31m             \u001b[0;32mif\u001b[0m \u001b[0mtrain_df\u001b[0m\u001b[0;34m[\u001b[0m\u001b[0;34m'champId_'\u001b[0m\u001b[0;34m+\u001b[0m\u001b[0mstr\u001b[0m\u001b[0;34m(\u001b[0m\u001b[0mj\u001b[0m\u001b[0;34m)\u001b[0m\u001b[0;34m]\u001b[0m\u001b[0;34m[\u001b[0m\u001b[0mi\u001b[0m\u001b[0;34m]\u001b[0m \u001b[0;34m==\u001b[0m \u001b[0mval1\u001b[0m \u001b[0;32mor\u001b[0m \u001b[0mtrain_df\u001b[0m\u001b[0;34m[\u001b[0m\u001b[0;34m'champId_'\u001b[0m\u001b[0;34m+\u001b[0m\u001b[0mstr\u001b[0m\u001b[0;34m(\u001b[0m\u001b[0mj\u001b[0m\u001b[0;34m)\u001b[0m\u001b[0;34m]\u001b[0m\u001b[0;34m[\u001b[0m\u001b[0mi\u001b[0m\u001b[0;34m]\u001b[0m \u001b[0;34m==\u001b[0m \u001b[0mval2\u001b[0m\u001b[0;34m:\u001b[0m\u001b[0;34m\u001b[0m\u001b[0m\n\u001b[0m\u001b[1;32m     10\u001b[0m                 \u001b[0macc\u001b[0m \u001b[0;34m+=\u001b[0m \u001b[0;36m1\u001b[0m\u001b[0;34m\u001b[0m\u001b[0m\n\u001b[1;32m     11\u001b[0m         \u001b[0;32mif\u001b[0m \u001b[0macc\u001b[0m\u001b[0;34m>=\u001b[0m \u001b[0;36m2\u001b[0m\u001b[0;34m:\u001b[0m\u001b[0;34m\u001b[0m\u001b[0m\n",
      "\u001b[0;32m/Users/yoo/anaconda/lib/python3.6/site-packages/pandas/core/series.py\u001b[0m in \u001b[0;36m__getitem__\u001b[0;34m(self, key)\u001b[0m\n\u001b[1;32m    599\u001b[0m         \u001b[0mkey\u001b[0m \u001b[0;34m=\u001b[0m \u001b[0mcom\u001b[0m\u001b[0;34m.\u001b[0m\u001b[0m_apply_if_callable\u001b[0m\u001b[0;34m(\u001b[0m\u001b[0mkey\u001b[0m\u001b[0;34m,\u001b[0m \u001b[0mself\u001b[0m\u001b[0;34m)\u001b[0m\u001b[0;34m\u001b[0m\u001b[0m\n\u001b[1;32m    600\u001b[0m         \u001b[0;32mtry\u001b[0m\u001b[0;34m:\u001b[0m\u001b[0;34m\u001b[0m\u001b[0m\n\u001b[0;32m--> 601\u001b[0;31m             \u001b[0mresult\u001b[0m \u001b[0;34m=\u001b[0m \u001b[0mself\u001b[0m\u001b[0;34m.\u001b[0m\u001b[0mindex\u001b[0m\u001b[0;34m.\u001b[0m\u001b[0mget_value\u001b[0m\u001b[0;34m(\u001b[0m\u001b[0mself\u001b[0m\u001b[0;34m,\u001b[0m \u001b[0mkey\u001b[0m\u001b[0;34m)\u001b[0m\u001b[0;34m\u001b[0m\u001b[0m\n\u001b[0m\u001b[1;32m    602\u001b[0m \u001b[0;34m\u001b[0m\u001b[0m\n\u001b[1;32m    603\u001b[0m             \u001b[0;32mif\u001b[0m \u001b[0;32mnot\u001b[0m \u001b[0mis_scalar\u001b[0m\u001b[0;34m(\u001b[0m\u001b[0mresult\u001b[0m\u001b[0;34m)\u001b[0m\u001b[0;34m:\u001b[0m\u001b[0;34m\u001b[0m\u001b[0m\n",
      "\u001b[0;32m/Users/yoo/anaconda/lib/python3.6/site-packages/pandas/core/indexes/base.py\u001b[0m in \u001b[0;36mget_value\u001b[0;34m(self, series, key)\u001b[0m\n\u001b[1;32m   2423\u001b[0m         \u001b[0mk\u001b[0m \u001b[0;34m=\u001b[0m \u001b[0m_values_from_object\u001b[0m\u001b[0;34m(\u001b[0m\u001b[0mkey\u001b[0m\u001b[0;34m)\u001b[0m\u001b[0;34m\u001b[0m\u001b[0m\n\u001b[1;32m   2424\u001b[0m \u001b[0;34m\u001b[0m\u001b[0m\n\u001b[0;32m-> 2425\u001b[0;31m         \u001b[0mk\u001b[0m \u001b[0;34m=\u001b[0m \u001b[0mself\u001b[0m\u001b[0;34m.\u001b[0m\u001b[0m_convert_scalar_indexer\u001b[0m\u001b[0;34m(\u001b[0m\u001b[0mk\u001b[0m\u001b[0;34m,\u001b[0m \u001b[0mkind\u001b[0m\u001b[0;34m=\u001b[0m\u001b[0;34m'getitem'\u001b[0m\u001b[0;34m)\u001b[0m\u001b[0;34m\u001b[0m\u001b[0m\n\u001b[0m\u001b[1;32m   2426\u001b[0m         \u001b[0;32mtry\u001b[0m\u001b[0;34m:\u001b[0m\u001b[0;34m\u001b[0m\u001b[0m\n\u001b[1;32m   2427\u001b[0m             return self._engine.get_value(s, k,\n",
      "\u001b[0;32m/Users/yoo/anaconda/lib/python3.6/site-packages/pandas/core/indexes/numeric.py\u001b[0m in \u001b[0;36m_convert_scalar_indexer\u001b[0;34m(self, key, kind)\u001b[0m\n\u001b[1;32m    134\u001b[0m     \u001b[0;34m@\u001b[0m\u001b[0mAppender\u001b[0m\u001b[0;34m(\u001b[0m\u001b[0m_index_shared_docs\u001b[0m\u001b[0;34m[\u001b[0m\u001b[0;34m'_convert_scalar_indexer'\u001b[0m\u001b[0;34m]\u001b[0m\u001b[0;34m)\u001b[0m\u001b[0;34m\u001b[0m\u001b[0m\n\u001b[1;32m    135\u001b[0m     \u001b[0;32mdef\u001b[0m \u001b[0m_convert_scalar_indexer\u001b[0m\u001b[0;34m(\u001b[0m\u001b[0mself\u001b[0m\u001b[0;34m,\u001b[0m \u001b[0mkey\u001b[0m\u001b[0;34m,\u001b[0m \u001b[0mkind\u001b[0m\u001b[0;34m=\u001b[0m\u001b[0;32mNone\u001b[0m\u001b[0;34m)\u001b[0m\u001b[0;34m:\u001b[0m\u001b[0;34m\u001b[0m\u001b[0m\n\u001b[0;32m--> 136\u001b[0;31m         \u001b[0;32massert\u001b[0m \u001b[0mkind\u001b[0m \u001b[0;32min\u001b[0m \u001b[0;34m[\u001b[0m\u001b[0;34m'ix'\u001b[0m\u001b[0;34m,\u001b[0m \u001b[0;34m'loc'\u001b[0m\u001b[0;34m,\u001b[0m \u001b[0;34m'getitem'\u001b[0m\u001b[0;34m,\u001b[0m \u001b[0;34m'iloc'\u001b[0m\u001b[0;34m,\u001b[0m \u001b[0;32mNone\u001b[0m\u001b[0;34m]\u001b[0m\u001b[0;34m\u001b[0m\u001b[0m\n\u001b[0m\u001b[1;32m    137\u001b[0m \u001b[0;34m\u001b[0m\u001b[0m\n\u001b[1;32m    138\u001b[0m         \u001b[0;31m# don't coerce ilocs to integers\u001b[0m\u001b[0;34m\u001b[0m\u001b[0;34m\u001b[0m\u001b[0m\n",
      "\u001b[0;31mKeyboardInterrupt\u001b[0m: "
     ]
    }
   ],
   "source": [
    "freq_true_2_rlt = np.zeros([len(train_df),len(freq_true_2)])\n",
    "acc = 0\n",
    "\n",
    "for k, (val1, val2) in enumerate(freq_true_2):\n",
    "    \n",
    "    for i in range(len(train_df)):\n",
    "        acc = 0\n",
    "        for j in range(5):\n",
    "            if train_df['champId_'+str(j)][i] == val1 or train_df['champId_'+str(j)][i] == val2:\n",
    "                acc += 1    \n",
    "        if acc>= 2:\n",
    "            freq_true_2_rlt[i][k] = True\n",
    "        else:\n",
    "            freq_true_2_rlt[i][k] = False "
   ]
  },
  {
   "cell_type": "code",
   "execution_count": null,
   "metadata": {},
   "outputs": [],
   "source": [
    "for i in range(len(freq_true_2)):\n",
    "    print(i, freq_true_2_rlt[:,i].sum())"
   ]
  },
  {
   "cell_type": "code",
   "execution_count": 335,
   "metadata": {},
   "outputs": [
    {
     "data": {
      "text/plain": [
       "0.3964757709251101"
      ]
     },
     "execution_count": 335,
     "metadata": {},
     "output_type": "execute_result"
    }
   ],
   "source": [
    "idx_1 = np.where(freq_true_2_rlt[:,1])\n",
    "train_df['target'].iloc[idx_1].mean()"
   ]
  },
  {
   "cell_type": "code",
   "execution_count": null,
   "metadata": {},
   "outputs": [],
   "source": [
    "# 1팀이 해당 조합을 가질 때 1팀의 승률\n",
    "for i in range(len(freq_true_2)):\n",
    "    idx = np.where(freq_true_2_rlt[:,i])\n",
    "    print(train_df['target'].iloc[idx].mean())"
   ]
  },
  {
   "cell_type": "code",
   "execution_count": 215,
   "metadata": {},
   "outputs": [
    {
     "data": {
      "text/plain": [
       "5"
      ]
     },
     "execution_count": 215,
     "metadata": {},
     "output_type": "execute_result"
    }
   ],
   "source": [
    "freq_true_2_rlt.count(True)"
   ]
  },
  {
   "cell_type": "code",
   "execution_count": 175,
   "metadata": {},
   "outputs": [
    {
     "data": {
      "text/plain": [
       "False"
      ]
     },
     "execution_count": 175,
     "metadata": {},
     "output_type": "execute_result"
    }
   ],
   "source": [
    "[12, 40] in [12, 40, 50]"
   ]
  },
  {
   "cell_type": "code",
   "execution_count": 174,
   "metadata": {},
   "outputs": [
    {
     "data": {
      "text/plain": [
       "False"
      ]
     },
     "execution_count": 174,
     "metadata": {},
     "output_type": "execute_result"
    }
   ],
   "source": [
    "#test\n",
    "freq_true_2[0] in [12, 40, 50]"
   ]
  },
  {
   "cell_type": "code",
   "execution_count": 513,
   "metadata": {
    "collapsed": true
   },
   "outputs": [],
   "source": [
    "##champion info"
   ]
  },
  {
   "cell_type": "code",
   "execution_count": 514,
   "metadata": {
    "collapsed": true
   },
   "outputs": [],
   "source": [
    "import json\n",
    "import requests\n",
    "import urllib\n",
    "\n",
    "\n",
    "\n",
    "with urllib.request.urlopen('http://ddragon.leagueoflegends.com/cdn/6.24.1/data/en_US/champion.json') as response:\n",
    "    champion_info = json.loads(response.read())"
   ]
  },
  {
   "cell_type": "code",
   "execution_count": 515,
   "metadata": {},
   "outputs": [],
   "source": [
    "row = {}\n",
    "lst = []\n",
    "for cname in champion_info['data']:\n",
    "    row['champId'] = champion_info['data'][cname]['key']\n",
    "    row['tags'] = champion_info['data'][cname]['tags']\n",
    "    for ab in champion_info['data'][cname]['info']:\n",
    "        row[ab] = champion_info['data'][cname]['info'][ab]\n",
    "\n",
    "    lst.append(row)\n",
    "    row = {}"
   ]
  },
  {
   "cell_type": "code",
   "execution_count": 516,
   "metadata": {
    "collapsed": true
   },
   "outputs": [],
   "source": [
    "champ_df = pd.DataFrame(lst)"
   ]
  },
  {
   "cell_type": "code",
   "execution_count": 548,
   "metadata": {
    "collapsed": true
   },
   "outputs": [],
   "source": [
    "train_bak = train_df.copy()"
   ]
  },
  {
   "cell_type": "code",
   "execution_count": 554,
   "metadata": {},
   "outputs": [
    {
     "name": "stdout",
     "output_type": "stream",
     "text": [
      "Index(['champId_0', 'attack_0', 'defense_0', 'difficulty_0', 'magic_0',\n",
      "       'tags_0'],\n",
      "      dtype='object')\n",
      "Index(['champId_1', 'attack_1', 'defense_1', 'difficulty_1', 'magic_1',\n",
      "       'tags_1'],\n",
      "      dtype='object')\n",
      "Index(['champId_2', 'attack_2', 'defense_2', 'difficulty_2', 'magic_2',\n",
      "       'tags_2'],\n",
      "      dtype='object')\n",
      "Index(['champId_3', 'attack_3', 'defense_3', 'difficulty_3', 'magic_3',\n",
      "       'tags_3'],\n",
      "      dtype='object')\n",
      "Index(['champId_4', 'attack_4', 'defense_4', 'difficulty_4', 'magic_4',\n",
      "       'tags_4'],\n",
      "      dtype='object')\n",
      "Index(['champId_5', 'attack_5', 'defense_5', 'difficulty_5', 'magic_5',\n",
      "       'tags_5'],\n",
      "      dtype='object')\n",
      "Index(['champId_6', 'attack_6', 'defense_6', 'difficulty_6', 'magic_6',\n",
      "       'tags_6'],\n",
      "      dtype='object')\n",
      "Index(['champId_7', 'attack_7', 'defense_7', 'difficulty_7', 'magic_7',\n",
      "       'tags_7'],\n",
      "      dtype='object')\n",
      "Index(['champId_8', 'attack_8', 'defense_8', 'difficulty_8', 'magic_8',\n",
      "       'tags_8'],\n",
      "      dtype='object')\n",
      "Index(['champId_9', 'attack_9', 'defense_9', 'difficulty_9', 'magic_9',\n",
      "       'tags_9'],\n",
      "      dtype='object')\n"
     ]
    }
   ],
   "source": [
    "# train 전처리 2\n",
    "for i in range(10):\n",
    "    \n",
    "    champ_df.columns = ['champId_'+str(i), 'attack_'+str(i), 'defense_'+str(i), \n",
    "                        'difficulty_'+str(i), 'magic_'+str(i), 'tags_'+str(i)]\n",
    "    \n",
    "    print(champ_df.columns)\n",
    "    train_df = pd.merge(train_df, champ_df, on='champId_'+str(i), how='left')"
   ]
  },
  {
   "cell_type": "code",
   "execution_count": 559,
   "metadata": {},
   "outputs": [
    {
     "ename": "KeyboardInterrupt",
     "evalue": "",
     "output_type": "error",
     "traceback": [
      "\u001b[0;31m---------------------------------------------------------------------------\u001b[0m",
      "\u001b[0;31mKeyboardInterrupt\u001b[0m                         Traceback (most recent call last)",
      "\u001b[0;32m<ipython-input-559-0a500893fecb>\u001b[0m in \u001b[0;36m<module>\u001b[0;34m()\u001b[0m\n\u001b[0;32m----> 1\u001b[0;31m \u001b[0mpd\u001b[0m\u001b[0;34m.\u001b[0m\u001b[0mmerge\u001b[0m\u001b[0;34m(\u001b[0m\u001b[0mtrain_df\u001b[0m\u001b[0;34m,\u001b[0m \u001b[0mchamp_df\u001b[0m\u001b[0;34m,\u001b[0m \u001b[0mon\u001b[0m\u001b[0;34m=\u001b[0m\u001b[0;34m'champId_'\u001b[0m\u001b[0;34m+\u001b[0m\u001b[0mstr\u001b[0m\u001b[0;34m(\u001b[0m\u001b[0mi\u001b[0m\u001b[0;34m)\u001b[0m\u001b[0;34m,\u001b[0m \u001b[0mhow\u001b[0m\u001b[0;34m=\u001b[0m\u001b[0;34m'left'\u001b[0m\u001b[0;34m)\u001b[0m\u001b[0;34m\u001b[0m\u001b[0m\n\u001b[0m",
      "\u001b[0;32m/Users/yoo/anaconda/lib/python3.6/site-packages/pandas/core/reshape/merge.py\u001b[0m in \u001b[0;36mmerge\u001b[0;34m(left, right, how, on, left_on, right_on, left_index, right_index, sort, suffixes, copy, indicator)\u001b[0m\n\u001b[1;32m     52\u001b[0m                          \u001b[0mright_index\u001b[0m\u001b[0;34m=\u001b[0m\u001b[0mright_index\u001b[0m\u001b[0;34m,\u001b[0m \u001b[0msort\u001b[0m\u001b[0;34m=\u001b[0m\u001b[0msort\u001b[0m\u001b[0;34m,\u001b[0m \u001b[0msuffixes\u001b[0m\u001b[0;34m=\u001b[0m\u001b[0msuffixes\u001b[0m\u001b[0;34m,\u001b[0m\u001b[0;34m\u001b[0m\u001b[0m\n\u001b[1;32m     53\u001b[0m                          copy=copy, indicator=indicator)\n\u001b[0;32m---> 54\u001b[0;31m     \u001b[0;32mreturn\u001b[0m \u001b[0mop\u001b[0m\u001b[0;34m.\u001b[0m\u001b[0mget_result\u001b[0m\u001b[0;34m(\u001b[0m\u001b[0;34m)\u001b[0m\u001b[0;34m\u001b[0m\u001b[0m\n\u001b[0m\u001b[1;32m     55\u001b[0m \u001b[0;34m\u001b[0m\u001b[0m\n\u001b[1;32m     56\u001b[0m \u001b[0;34m\u001b[0m\u001b[0m\n",
      "\u001b[0;32m/Users/yoo/anaconda/lib/python3.6/site-packages/pandas/core/reshape/merge.py\u001b[0m in \u001b[0;36mget_result\u001b[0;34m(self)\u001b[0m\n\u001b[1;32m    581\u001b[0m             \u001b[0;34m[\u001b[0m\u001b[0;34m(\u001b[0m\u001b[0mldata\u001b[0m\u001b[0;34m,\u001b[0m \u001b[0mlindexers\u001b[0m\u001b[0;34m)\u001b[0m\u001b[0;34m,\u001b[0m \u001b[0;34m(\u001b[0m\u001b[0mrdata\u001b[0m\u001b[0;34m,\u001b[0m \u001b[0mrindexers\u001b[0m\u001b[0;34m)\u001b[0m\u001b[0;34m]\u001b[0m\u001b[0;34m,\u001b[0m\u001b[0;34m\u001b[0m\u001b[0m\n\u001b[1;32m    582\u001b[0m             \u001b[0maxes\u001b[0m\u001b[0;34m=\u001b[0m\u001b[0;34m[\u001b[0m\u001b[0mllabels\u001b[0m\u001b[0;34m.\u001b[0m\u001b[0mappend\u001b[0m\u001b[0;34m(\u001b[0m\u001b[0mrlabels\u001b[0m\u001b[0;34m)\u001b[0m\u001b[0;34m,\u001b[0m \u001b[0mjoin_index\u001b[0m\u001b[0;34m]\u001b[0m\u001b[0;34m,\u001b[0m\u001b[0;34m\u001b[0m\u001b[0m\n\u001b[0;32m--> 583\u001b[0;31m             concat_axis=0, copy=self.copy)\n\u001b[0m\u001b[1;32m    584\u001b[0m \u001b[0;34m\u001b[0m\u001b[0m\n\u001b[1;32m    585\u001b[0m         \u001b[0mtyp\u001b[0m \u001b[0;34m=\u001b[0m \u001b[0mself\u001b[0m\u001b[0;34m.\u001b[0m\u001b[0mleft\u001b[0m\u001b[0;34m.\u001b[0m\u001b[0m_constructor\u001b[0m\u001b[0;34m\u001b[0m\u001b[0m\n",
      "\u001b[0;32m/Users/yoo/anaconda/lib/python3.6/site-packages/pandas/core/internals.py\u001b[0m in \u001b[0;36mconcatenate_block_managers\u001b[0;34m(mgrs_indexers, axes, concat_axis, copy)\u001b[0m\n\u001b[1;32m   4830\u001b[0m     blocks = [make_block(\n\u001b[1;32m   4831\u001b[0m         \u001b[0mconcatenate_join_units\u001b[0m\u001b[0;34m(\u001b[0m\u001b[0mjoin_units\u001b[0m\u001b[0;34m,\u001b[0m \u001b[0mconcat_axis\u001b[0m\u001b[0;34m,\u001b[0m \u001b[0mcopy\u001b[0m\u001b[0;34m=\u001b[0m\u001b[0mcopy\u001b[0m\u001b[0;34m)\u001b[0m\u001b[0;34m,\u001b[0m\u001b[0;34m\u001b[0m\u001b[0m\n\u001b[0;32m-> 4832\u001b[0;31m         placement=placement) for placement, join_units in concat_plan]\n\u001b[0m\u001b[1;32m   4833\u001b[0m \u001b[0;34m\u001b[0m\u001b[0m\n\u001b[1;32m   4834\u001b[0m     \u001b[0;32mreturn\u001b[0m \u001b[0mBlockManager\u001b[0m\u001b[0;34m(\u001b[0m\u001b[0mblocks\u001b[0m\u001b[0;34m,\u001b[0m \u001b[0maxes\u001b[0m\u001b[0;34m)\u001b[0m\u001b[0;34m\u001b[0m\u001b[0m\n",
      "\u001b[0;32m/Users/yoo/anaconda/lib/python3.6/site-packages/pandas/core/internals.py\u001b[0m in \u001b[0;36m<listcomp>\u001b[0;34m(.0)\u001b[0m\n\u001b[1;32m   4830\u001b[0m     blocks = [make_block(\n\u001b[1;32m   4831\u001b[0m         \u001b[0mconcatenate_join_units\u001b[0m\u001b[0;34m(\u001b[0m\u001b[0mjoin_units\u001b[0m\u001b[0;34m,\u001b[0m \u001b[0mconcat_axis\u001b[0m\u001b[0;34m,\u001b[0m \u001b[0mcopy\u001b[0m\u001b[0;34m=\u001b[0m\u001b[0mcopy\u001b[0m\u001b[0;34m)\u001b[0m\u001b[0;34m,\u001b[0m\u001b[0;34m\u001b[0m\u001b[0m\n\u001b[0;32m-> 4832\u001b[0;31m         placement=placement) for placement, join_units in concat_plan]\n\u001b[0m\u001b[1;32m   4833\u001b[0m \u001b[0;34m\u001b[0m\u001b[0m\n\u001b[1;32m   4834\u001b[0m     \u001b[0;32mreturn\u001b[0m \u001b[0mBlockManager\u001b[0m\u001b[0;34m(\u001b[0m\u001b[0mblocks\u001b[0m\u001b[0;34m,\u001b[0m \u001b[0maxes\u001b[0m\u001b[0;34m)\u001b[0m\u001b[0;34m\u001b[0m\u001b[0m\n",
      "\u001b[0;32m/Users/yoo/anaconda/lib/python3.6/site-packages/pandas/core/internals.py\u001b[0m in \u001b[0;36mconcatenate_join_units\u001b[0;34m(join_units, concat_axis, copy)\u001b[0m\n\u001b[1;32m   4943\u001b[0m         \u001b[0mconcat_values\u001b[0m \u001b[0;34m=\u001b[0m \u001b[0mto_concat\u001b[0m\u001b[0;34m[\u001b[0m\u001b[0;36m0\u001b[0m\u001b[0;34m]\u001b[0m\u001b[0;34m\u001b[0m\u001b[0m\n\u001b[1;32m   4944\u001b[0m         \u001b[0;32mif\u001b[0m \u001b[0mcopy\u001b[0m \u001b[0;32mand\u001b[0m \u001b[0mconcat_values\u001b[0m\u001b[0;34m.\u001b[0m\u001b[0mbase\u001b[0m \u001b[0;32mis\u001b[0m \u001b[0;32mnot\u001b[0m \u001b[0;32mNone\u001b[0m\u001b[0;34m:\u001b[0m\u001b[0;34m\u001b[0m\u001b[0m\n\u001b[0;32m-> 4945\u001b[0;31m             \u001b[0mconcat_values\u001b[0m \u001b[0;34m=\u001b[0m \u001b[0mconcat_values\u001b[0m\u001b[0;34m.\u001b[0m\u001b[0mcopy\u001b[0m\u001b[0;34m(\u001b[0m\u001b[0;34m)\u001b[0m\u001b[0;34m\u001b[0m\u001b[0m\n\u001b[0m\u001b[1;32m   4946\u001b[0m     \u001b[0;32melse\u001b[0m\u001b[0;34m:\u001b[0m\u001b[0;34m\u001b[0m\u001b[0m\n\u001b[1;32m   4947\u001b[0m         \u001b[0mconcat_values\u001b[0m \u001b[0;34m=\u001b[0m \u001b[0m_concat\u001b[0m\u001b[0;34m.\u001b[0m\u001b[0m_concat_compat\u001b[0m\u001b[0;34m(\u001b[0m\u001b[0mto_concat\u001b[0m\u001b[0;34m,\u001b[0m \u001b[0maxis\u001b[0m\u001b[0;34m=\u001b[0m\u001b[0mconcat_axis\u001b[0m\u001b[0;34m)\u001b[0m\u001b[0;34m\u001b[0m\u001b[0m\n",
      "\u001b[0;31mKeyboardInterrupt\u001b[0m: "
     ]
    }
   ],
   "source": [
    "pd.merge(train_df, champ_df, on='champId_'+str(i), how='left')"
   ]
  },
  {
   "cell_type": "code",
   "execution_count": null,
   "metadata": {
    "collapsed": true
   },
   "outputs": [],
   "source": []
  },
  {
   "cell_type": "code",
   "execution_count": 545,
   "metadata": {},
   "outputs": [
    {
     "data": {
      "text/html": [
       "<div>\n",
       "<style>\n",
       "    .dataframe thead tr:only-child th {\n",
       "        text-align: right;\n",
       "    }\n",
       "\n",
       "    .dataframe thead th {\n",
       "        text-align: left;\n",
       "    }\n",
       "\n",
       "    .dataframe tbody tr th {\n",
       "        vertical-align: top;\n",
       "    }\n",
       "</style>\n",
       "<table border=\"1\" class=\"dataframe\">\n",
       "  <thead>\n",
       "    <tr style=\"text-align: right;\">\n",
       "      <th></th>\n",
       "      <th>champId_0</th>\n",
       "      <th>champId_1</th>\n",
       "      <th>champId_2</th>\n",
       "      <th>champId_3</th>\n",
       "      <th>champId_4</th>\n",
       "      <th>champId_5</th>\n",
       "      <th>champId_6</th>\n",
       "      <th>champId_7</th>\n",
       "      <th>champId_8</th>\n",
       "      <th>champId_9</th>\n",
       "      <th>...</th>\n",
       "      <th>attack_8</th>\n",
       "      <th>defense_8</th>\n",
       "      <th>difficulty_8</th>\n",
       "      <th>magic_8</th>\n",
       "      <th>tags_8</th>\n",
       "      <th>attack_9</th>\n",
       "      <th>defense_9</th>\n",
       "      <th>difficulty_9</th>\n",
       "      <th>magic_9</th>\n",
       "      <th>tags_9</th>\n",
       "    </tr>\n",
       "  </thead>\n",
       "  <tbody>\n",
       "    <tr>\n",
       "      <th>0</th>\n",
       "      <td>238</td>\n",
       "      <td>412</td>\n",
       "      <td>236</td>\n",
       "      <td>117</td>\n",
       "      <td>20</td>\n",
       "      <td>421</td>\n",
       "      <td>22</td>\n",
       "      <td>103</td>\n",
       "      <td>63</td>\n",
       "      <td>150</td>\n",
       "      <td>...</td>\n",
       "      <td>NaN</td>\n",
       "      <td>NaN</td>\n",
       "      <td>NaN</td>\n",
       "      <td>NaN</td>\n",
       "      <td>NaN</td>\n",
       "      <td>NaN</td>\n",
       "      <td>NaN</td>\n",
       "      <td>NaN</td>\n",
       "      <td>NaN</td>\n",
       "      <td>NaN</td>\n",
       "    </tr>\n",
       "    <tr>\n",
       "      <th>1</th>\n",
       "      <td>64</td>\n",
       "      <td>412</td>\n",
       "      <td>236</td>\n",
       "      <td>76</td>\n",
       "      <td>8</td>\n",
       "      <td>222</td>\n",
       "      <td>268</td>\n",
       "      <td>245</td>\n",
       "      <td>421</td>\n",
       "      <td>12</td>\n",
       "      <td>...</td>\n",
       "      <td>NaN</td>\n",
       "      <td>NaN</td>\n",
       "      <td>NaN</td>\n",
       "      <td>NaN</td>\n",
       "      <td>NaN</td>\n",
       "      <td>NaN</td>\n",
       "      <td>NaN</td>\n",
       "      <td>NaN</td>\n",
       "      <td>NaN</td>\n",
       "      <td>NaN</td>\n",
       "    </tr>\n",
       "    <tr>\n",
       "      <th>2</th>\n",
       "      <td>64</td>\n",
       "      <td>412</td>\n",
       "      <td>236</td>\n",
       "      <td>76</td>\n",
       "      <td>8</td>\n",
       "      <td>222</td>\n",
       "      <td>268</td>\n",
       "      <td>245</td>\n",
       "      <td>421</td>\n",
       "      <td>12</td>\n",
       "      <td>...</td>\n",
       "      <td>NaN</td>\n",
       "      <td>NaN</td>\n",
       "      <td>NaN</td>\n",
       "      <td>NaN</td>\n",
       "      <td>NaN</td>\n",
       "      <td>NaN</td>\n",
       "      <td>NaN</td>\n",
       "      <td>NaN</td>\n",
       "      <td>NaN</td>\n",
       "      <td>NaN</td>\n",
       "    </tr>\n",
       "    <tr>\n",
       "      <th>3</th>\n",
       "      <td>64</td>\n",
       "      <td>412</td>\n",
       "      <td>236</td>\n",
       "      <td>76</td>\n",
       "      <td>8</td>\n",
       "      <td>222</td>\n",
       "      <td>268</td>\n",
       "      <td>245</td>\n",
       "      <td>421</td>\n",
       "      <td>12</td>\n",
       "      <td>...</td>\n",
       "      <td>NaN</td>\n",
       "      <td>NaN</td>\n",
       "      <td>NaN</td>\n",
       "      <td>NaN</td>\n",
       "      <td>NaN</td>\n",
       "      <td>NaN</td>\n",
       "      <td>NaN</td>\n",
       "      <td>NaN</td>\n",
       "      <td>NaN</td>\n",
       "      <td>NaN</td>\n",
       "    </tr>\n",
       "    <tr>\n",
       "      <th>4</th>\n",
       "      <td>64</td>\n",
       "      <td>412</td>\n",
       "      <td>236</td>\n",
       "      <td>76</td>\n",
       "      <td>8</td>\n",
       "      <td>222</td>\n",
       "      <td>268</td>\n",
       "      <td>245</td>\n",
       "      <td>421</td>\n",
       "      <td>12</td>\n",
       "      <td>...</td>\n",
       "      <td>NaN</td>\n",
       "      <td>NaN</td>\n",
       "      <td>NaN</td>\n",
       "      <td>NaN</td>\n",
       "      <td>NaN</td>\n",
       "      <td>NaN</td>\n",
       "      <td>NaN</td>\n",
       "      <td>NaN</td>\n",
       "      <td>NaN</td>\n",
       "      <td>NaN</td>\n",
       "    </tr>\n",
       "  </tbody>\n",
       "</table>\n",
       "<p>5 rows × 71 columns</p>\n",
       "</div>"
      ],
      "text/plain": [
       "   champId_0  champId_1  champId_2  champId_3  champId_4  champId_5  \\\n",
       "0        238        412        236        117         20        421   \n",
       "1         64        412        236         76          8        222   \n",
       "2         64        412        236         76          8        222   \n",
       "3         64        412        236         76          8        222   \n",
       "4         64        412        236         76          8        222   \n",
       "\n",
       "   champId_6  champId_7  champId_8  champId_9   ...    attack_8  defense_8  \\\n",
       "0         22        103         63        150   ...         NaN        NaN   \n",
       "1        268        245        421         12   ...         NaN        NaN   \n",
       "2        268        245        421         12   ...         NaN        NaN   \n",
       "3        268        245        421         12   ...         NaN        NaN   \n",
       "4        268        245        421         12   ...         NaN        NaN   \n",
       "\n",
       "   difficulty_8  magic_8  tags_8  attack_9  defense_9  difficulty_9  magic_9  \\\n",
       "0           NaN      NaN     NaN       NaN        NaN           NaN      NaN   \n",
       "1           NaN      NaN     NaN       NaN        NaN           NaN      NaN   \n",
       "2           NaN      NaN     NaN       NaN        NaN           NaN      NaN   \n",
       "3           NaN      NaN     NaN       NaN        NaN           NaN      NaN   \n",
       "4           NaN      NaN     NaN       NaN        NaN           NaN      NaN   \n",
       "\n",
       "   tags_9  \n",
       "0     NaN  \n",
       "1     NaN  \n",
       "2     NaN  \n",
       "3     NaN  \n",
       "4     NaN  \n",
       "\n",
       "[5 rows x 71 columns]"
      ]
     },
     "execution_count": 545,
     "metadata": {},
     "output_type": "execute_result"
    }
   ],
   "source": [
    "train_df.head()"
   ]
  },
  {
   "cell_type": "code",
   "execution_count": 524,
   "metadata": {
    "collapsed": true
   },
   "outputs": [
    {
     "ename": "KeyError",
     "evalue": "'attack_0'",
     "output_type": "error",
     "traceback": [
      "\u001b[0;31m---------------------------------------------------------------------------\u001b[0m",
      "\u001b[0;31mKeyError\u001b[0m                                  Traceback (most recent call last)",
      "\u001b[0;32m/Users/yoo/anaconda/lib/python3.6/site-packages/pandas/core/indexes/base.py\u001b[0m in \u001b[0;36mget_loc\u001b[0;34m(self, key, method, tolerance)\u001b[0m\n\u001b[1;32m   2392\u001b[0m             \u001b[0;32mtry\u001b[0m\u001b[0;34m:\u001b[0m\u001b[0;34m\u001b[0m\u001b[0m\n\u001b[0;32m-> 2393\u001b[0;31m                 \u001b[0;32mreturn\u001b[0m \u001b[0mself\u001b[0m\u001b[0;34m.\u001b[0m\u001b[0m_engine\u001b[0m\u001b[0;34m.\u001b[0m\u001b[0mget_loc\u001b[0m\u001b[0;34m(\u001b[0m\u001b[0mkey\u001b[0m\u001b[0;34m)\u001b[0m\u001b[0;34m\u001b[0m\u001b[0m\n\u001b[0m\u001b[1;32m   2394\u001b[0m             \u001b[0;32mexcept\u001b[0m \u001b[0mKeyError\u001b[0m\u001b[0;34m:\u001b[0m\u001b[0;34m\u001b[0m\u001b[0m\n",
      "\u001b[0;32mpandas/_libs/index.pyx\u001b[0m in \u001b[0;36mpandas._libs.index.IndexEngine.get_loc (pandas/_libs/index.c:5239)\u001b[0;34m()\u001b[0m\n",
      "\u001b[0;32mpandas/_libs/index.pyx\u001b[0m in \u001b[0;36mpandas._libs.index.IndexEngine.get_loc (pandas/_libs/index.c:5085)\u001b[0;34m()\u001b[0m\n",
      "\u001b[0;32mpandas/_libs/hashtable_class_helper.pxi\u001b[0m in \u001b[0;36mpandas._libs.hashtable.PyObjectHashTable.get_item (pandas/_libs/hashtable.c:20405)\u001b[0;34m()\u001b[0m\n",
      "\u001b[0;32mpandas/_libs/hashtable_class_helper.pxi\u001b[0m in \u001b[0;36mpandas._libs.hashtable.PyObjectHashTable.get_item (pandas/_libs/hashtable.c:20359)\u001b[0;34m()\u001b[0m\n",
      "\u001b[0;31mKeyError\u001b[0m: 'attack_0'",
      "\nDuring handling of the above exception, another exception occurred:\n",
      "\u001b[0;31mKeyError\u001b[0m                                  Traceback (most recent call last)",
      "\u001b[0;32m<ipython-input-524-d31bfe89767e>\u001b[0m in \u001b[0;36m<module>\u001b[0;34m()\u001b[0m\n\u001b[0;32m----> 1\u001b[0;31m \u001b[0mchamp_df\u001b[0m\u001b[0;34m[\u001b[0m\u001b[0;34m'attack_0'\u001b[0m\u001b[0;34m]\u001b[0m\u001b[0;34m[\u001b[0m\u001b[0;36m0\u001b[0m\u001b[0;34m]\u001b[0m\u001b[0;34m\u001b[0m\u001b[0m\n\u001b[0m",
      "\u001b[0;32m/Users/yoo/anaconda/lib/python3.6/site-packages/pandas/core/frame.py\u001b[0m in \u001b[0;36m__getitem__\u001b[0;34m(self, key)\u001b[0m\n\u001b[1;32m   2060\u001b[0m             \u001b[0;32mreturn\u001b[0m \u001b[0mself\u001b[0m\u001b[0;34m.\u001b[0m\u001b[0m_getitem_multilevel\u001b[0m\u001b[0;34m(\u001b[0m\u001b[0mkey\u001b[0m\u001b[0;34m)\u001b[0m\u001b[0;34m\u001b[0m\u001b[0m\n\u001b[1;32m   2061\u001b[0m         \u001b[0;32melse\u001b[0m\u001b[0;34m:\u001b[0m\u001b[0;34m\u001b[0m\u001b[0m\n\u001b[0;32m-> 2062\u001b[0;31m             \u001b[0;32mreturn\u001b[0m \u001b[0mself\u001b[0m\u001b[0;34m.\u001b[0m\u001b[0m_getitem_column\u001b[0m\u001b[0;34m(\u001b[0m\u001b[0mkey\u001b[0m\u001b[0;34m)\u001b[0m\u001b[0;34m\u001b[0m\u001b[0m\n\u001b[0m\u001b[1;32m   2063\u001b[0m \u001b[0;34m\u001b[0m\u001b[0m\n\u001b[1;32m   2064\u001b[0m     \u001b[0;32mdef\u001b[0m \u001b[0m_getitem_column\u001b[0m\u001b[0;34m(\u001b[0m\u001b[0mself\u001b[0m\u001b[0;34m,\u001b[0m \u001b[0mkey\u001b[0m\u001b[0;34m)\u001b[0m\u001b[0;34m:\u001b[0m\u001b[0;34m\u001b[0m\u001b[0m\n",
      "\u001b[0;32m/Users/yoo/anaconda/lib/python3.6/site-packages/pandas/core/frame.py\u001b[0m in \u001b[0;36m_getitem_column\u001b[0;34m(self, key)\u001b[0m\n\u001b[1;32m   2067\u001b[0m         \u001b[0;31m# get column\u001b[0m\u001b[0;34m\u001b[0m\u001b[0;34m\u001b[0m\u001b[0m\n\u001b[1;32m   2068\u001b[0m         \u001b[0;32mif\u001b[0m \u001b[0mself\u001b[0m\u001b[0;34m.\u001b[0m\u001b[0mcolumns\u001b[0m\u001b[0;34m.\u001b[0m\u001b[0mis_unique\u001b[0m\u001b[0;34m:\u001b[0m\u001b[0;34m\u001b[0m\u001b[0m\n\u001b[0;32m-> 2069\u001b[0;31m             \u001b[0;32mreturn\u001b[0m \u001b[0mself\u001b[0m\u001b[0;34m.\u001b[0m\u001b[0m_get_item_cache\u001b[0m\u001b[0;34m(\u001b[0m\u001b[0mkey\u001b[0m\u001b[0;34m)\u001b[0m\u001b[0;34m\u001b[0m\u001b[0m\n\u001b[0m\u001b[1;32m   2070\u001b[0m \u001b[0;34m\u001b[0m\u001b[0m\n\u001b[1;32m   2071\u001b[0m         \u001b[0;31m# duplicate columns & possible reduce dimensionality\u001b[0m\u001b[0;34m\u001b[0m\u001b[0;34m\u001b[0m\u001b[0m\n",
      "\u001b[0;32m/Users/yoo/anaconda/lib/python3.6/site-packages/pandas/core/generic.py\u001b[0m in \u001b[0;36m_get_item_cache\u001b[0;34m(self, item)\u001b[0m\n\u001b[1;32m   1532\u001b[0m         \u001b[0mres\u001b[0m \u001b[0;34m=\u001b[0m \u001b[0mcache\u001b[0m\u001b[0;34m.\u001b[0m\u001b[0mget\u001b[0m\u001b[0;34m(\u001b[0m\u001b[0mitem\u001b[0m\u001b[0;34m)\u001b[0m\u001b[0;34m\u001b[0m\u001b[0m\n\u001b[1;32m   1533\u001b[0m         \u001b[0;32mif\u001b[0m \u001b[0mres\u001b[0m \u001b[0;32mis\u001b[0m \u001b[0;32mNone\u001b[0m\u001b[0;34m:\u001b[0m\u001b[0;34m\u001b[0m\u001b[0m\n\u001b[0;32m-> 1534\u001b[0;31m             \u001b[0mvalues\u001b[0m \u001b[0;34m=\u001b[0m \u001b[0mself\u001b[0m\u001b[0;34m.\u001b[0m\u001b[0m_data\u001b[0m\u001b[0;34m.\u001b[0m\u001b[0mget\u001b[0m\u001b[0;34m(\u001b[0m\u001b[0mitem\u001b[0m\u001b[0;34m)\u001b[0m\u001b[0;34m\u001b[0m\u001b[0m\n\u001b[0m\u001b[1;32m   1535\u001b[0m             \u001b[0mres\u001b[0m \u001b[0;34m=\u001b[0m \u001b[0mself\u001b[0m\u001b[0;34m.\u001b[0m\u001b[0m_box_item_values\u001b[0m\u001b[0;34m(\u001b[0m\u001b[0mitem\u001b[0m\u001b[0;34m,\u001b[0m \u001b[0mvalues\u001b[0m\u001b[0;34m)\u001b[0m\u001b[0;34m\u001b[0m\u001b[0m\n\u001b[1;32m   1536\u001b[0m             \u001b[0mcache\u001b[0m\u001b[0;34m[\u001b[0m\u001b[0mitem\u001b[0m\u001b[0;34m]\u001b[0m \u001b[0;34m=\u001b[0m \u001b[0mres\u001b[0m\u001b[0;34m\u001b[0m\u001b[0m\n",
      "\u001b[0;32m/Users/yoo/anaconda/lib/python3.6/site-packages/pandas/core/internals.py\u001b[0m in \u001b[0;36mget\u001b[0;34m(self, item, fastpath)\u001b[0m\n\u001b[1;32m   3588\u001b[0m \u001b[0;34m\u001b[0m\u001b[0m\n\u001b[1;32m   3589\u001b[0m             \u001b[0;32mif\u001b[0m \u001b[0;32mnot\u001b[0m \u001b[0misnull\u001b[0m\u001b[0;34m(\u001b[0m\u001b[0mitem\u001b[0m\u001b[0;34m)\u001b[0m\u001b[0;34m:\u001b[0m\u001b[0;34m\u001b[0m\u001b[0m\n\u001b[0;32m-> 3590\u001b[0;31m                 \u001b[0mloc\u001b[0m \u001b[0;34m=\u001b[0m \u001b[0mself\u001b[0m\u001b[0;34m.\u001b[0m\u001b[0mitems\u001b[0m\u001b[0;34m.\u001b[0m\u001b[0mget_loc\u001b[0m\u001b[0;34m(\u001b[0m\u001b[0mitem\u001b[0m\u001b[0;34m)\u001b[0m\u001b[0;34m\u001b[0m\u001b[0m\n\u001b[0m\u001b[1;32m   3591\u001b[0m             \u001b[0;32melse\u001b[0m\u001b[0;34m:\u001b[0m\u001b[0;34m\u001b[0m\u001b[0m\n\u001b[1;32m   3592\u001b[0m                 \u001b[0mindexer\u001b[0m \u001b[0;34m=\u001b[0m \u001b[0mnp\u001b[0m\u001b[0;34m.\u001b[0m\u001b[0marange\u001b[0m\u001b[0;34m(\u001b[0m\u001b[0mlen\u001b[0m\u001b[0;34m(\u001b[0m\u001b[0mself\u001b[0m\u001b[0;34m.\u001b[0m\u001b[0mitems\u001b[0m\u001b[0;34m)\u001b[0m\u001b[0;34m)\u001b[0m\u001b[0;34m[\u001b[0m\u001b[0misnull\u001b[0m\u001b[0;34m(\u001b[0m\u001b[0mself\u001b[0m\u001b[0;34m.\u001b[0m\u001b[0mitems\u001b[0m\u001b[0;34m)\u001b[0m\u001b[0;34m]\u001b[0m\u001b[0;34m\u001b[0m\u001b[0m\n",
      "\u001b[0;32m/Users/yoo/anaconda/lib/python3.6/site-packages/pandas/core/indexes/base.py\u001b[0m in \u001b[0;36mget_loc\u001b[0;34m(self, key, method, tolerance)\u001b[0m\n\u001b[1;32m   2393\u001b[0m                 \u001b[0;32mreturn\u001b[0m \u001b[0mself\u001b[0m\u001b[0;34m.\u001b[0m\u001b[0m_engine\u001b[0m\u001b[0;34m.\u001b[0m\u001b[0mget_loc\u001b[0m\u001b[0;34m(\u001b[0m\u001b[0mkey\u001b[0m\u001b[0;34m)\u001b[0m\u001b[0;34m\u001b[0m\u001b[0m\n\u001b[1;32m   2394\u001b[0m             \u001b[0;32mexcept\u001b[0m \u001b[0mKeyError\u001b[0m\u001b[0;34m:\u001b[0m\u001b[0;34m\u001b[0m\u001b[0m\n\u001b[0;32m-> 2395\u001b[0;31m                 \u001b[0;32mreturn\u001b[0m \u001b[0mself\u001b[0m\u001b[0;34m.\u001b[0m\u001b[0m_engine\u001b[0m\u001b[0;34m.\u001b[0m\u001b[0mget_loc\u001b[0m\u001b[0;34m(\u001b[0m\u001b[0mself\u001b[0m\u001b[0;34m.\u001b[0m\u001b[0m_maybe_cast_indexer\u001b[0m\u001b[0;34m(\u001b[0m\u001b[0mkey\u001b[0m\u001b[0;34m)\u001b[0m\u001b[0;34m)\u001b[0m\u001b[0;34m\u001b[0m\u001b[0m\n\u001b[0m\u001b[1;32m   2396\u001b[0m \u001b[0;34m\u001b[0m\u001b[0m\n\u001b[1;32m   2397\u001b[0m         \u001b[0mindexer\u001b[0m \u001b[0;34m=\u001b[0m \u001b[0mself\u001b[0m\u001b[0;34m.\u001b[0m\u001b[0mget_indexer\u001b[0m\u001b[0;34m(\u001b[0m\u001b[0;34m[\u001b[0m\u001b[0mkey\u001b[0m\u001b[0;34m]\u001b[0m\u001b[0;34m,\u001b[0m \u001b[0mmethod\u001b[0m\u001b[0;34m=\u001b[0m\u001b[0mmethod\u001b[0m\u001b[0;34m,\u001b[0m \u001b[0mtolerance\u001b[0m\u001b[0;34m=\u001b[0m\u001b[0mtolerance\u001b[0m\u001b[0;34m)\u001b[0m\u001b[0;34m\u001b[0m\u001b[0m\n",
      "\u001b[0;32mpandas/_libs/index.pyx\u001b[0m in \u001b[0;36mpandas._libs.index.IndexEngine.get_loc (pandas/_libs/index.c:5239)\u001b[0;34m()\u001b[0m\n",
      "\u001b[0;32mpandas/_libs/index.pyx\u001b[0m in \u001b[0;36mpandas._libs.index.IndexEngine.get_loc (pandas/_libs/index.c:5085)\u001b[0;34m()\u001b[0m\n",
      "\u001b[0;32mpandas/_libs/hashtable_class_helper.pxi\u001b[0m in \u001b[0;36mpandas._libs.hashtable.PyObjectHashTable.get_item (pandas/_libs/hashtable.c:20405)\u001b[0;34m()\u001b[0m\n",
      "\u001b[0;32mpandas/_libs/hashtable_class_helper.pxi\u001b[0m in \u001b[0;36mpandas._libs.hashtable.PyObjectHashTable.get_item (pandas/_libs/hashtable.c:20359)\u001b[0;34m()\u001b[0m\n",
      "\u001b[0;31mKeyError\u001b[0m: 'attack_0'"
     ]
    }
   ],
   "source": [
    "champ_df['attack_0'][0]"
   ]
  },
  {
   "cell_type": "code",
   "execution_count": 135,
   "metadata": {},
   "outputs": [],
   "source": [
    "freq_true_2 = []\n",
    "freq_true_3 = []\n",
    "for i, val_i in range():\n",
    "    for j, val_j in enumerate(freq_true):\n",
    "        if val_i != val_j and val_j: \n",
    "            freq_true_2.append([val_i,val_j])\n",
    "        for k, val_k in enumerate(freq_true):\n",
    "            if val_i != val_j and val_j and val_i != val_k:\n",
    "                freq_true_3.append([val_i,val_j,val_k])"
   ]
  },
  {
   "cell_type": "code",
   "execution_count": null,
   "metadata": {
    "collapsed": true
   },
   "outputs": [],
   "source": []
  },
  {
   "cell_type": "code",
   "execution_count": null,
   "metadata": {
    "collapsed": true
   },
   "outputs": [],
   "source": []
  },
  {
   "cell_type": "code",
   "execution_count": null,
   "metadata": {
    "collapsed": true
   },
   "outputs": [],
   "source": []
  },
  {
   "cell_type": "code",
   "execution_count": 6,
   "metadata": {},
   "outputs": [
    {
     "ename": "NameError",
     "evalue": "name 'train_df' is not defined",
     "output_type": "error",
     "traceback": [
      "\u001b[0;31m---------------------------------------------------------------------------\u001b[0m",
      "\u001b[0;31mNameError\u001b[0m                                 Traceback (most recent call last)",
      "\u001b[0;32m<ipython-input-6-edd7ea3aa95f>\u001b[0m in \u001b[0;36m<module>\u001b[0;34m()\u001b[0m\n\u001b[0;32m----> 1\u001b[0;31m \u001b[0mX\u001b[0m \u001b[0;34m=\u001b[0m \u001b[0mtrain_df\u001b[0m\u001b[0;34m[\u001b[0m\u001b[0mcol\u001b[0m\u001b[0;34m]\u001b[0m\u001b[0;34m\u001b[0m\u001b[0m\n\u001b[0m\u001b[1;32m      2\u001b[0m \u001b[0my\u001b[0m \u001b[0;34m=\u001b[0m \u001b[0mtrain_df\u001b[0m\u001b[0;34m[\u001b[0m\u001b[0;34m'target'\u001b[0m\u001b[0;34m]\u001b[0m\u001b[0;34m\u001b[0m\u001b[0m\n\u001b[1;32m      3\u001b[0m \u001b[0;34m\u001b[0m\u001b[0m\n\u001b[1;32m      4\u001b[0m \u001b[0mcv\u001b[0m \u001b[0;34m=\u001b[0m \u001b[0mKFold\u001b[0m\u001b[0;34m(\u001b[0m\u001b[0;36m5\u001b[0m\u001b[0;34m)\u001b[0m\u001b[0;34m\u001b[0m\u001b[0m\n\u001b[1;32m      5\u001b[0m \u001b[0;34m\u001b[0m\u001b[0m\n",
      "\u001b[0;31mNameError\u001b[0m: name 'train_df' is not defined"
     ]
    }
   ],
   "source": [
    "X = train_df[col]\n",
    "y = train_df['target']\n",
    "\n",
    "cv = KFold(5)\n",
    "\n",
    "xgb = xgboost.XGBClassifier(n_estimators=100, max_depth=2)\n",
    "\n",
    "score = cross_val_score(xgb, X, y, scoring=\"accuracy\", cv=cv)\n",
    "\n",
    "print(score)\n",
    "print(score.mean())\n",
    "print(score.std())"
   ]
  },
  {
   "cell_type": "code",
   "execution_count": null,
   "metadata": {
    "collapsed": true
   },
   "outputs": [],
   "source": []
  },
  {
   "cell_type": "code",
   "execution_count": null,
   "metadata": {
    "collapsed": true
   },
   "outputs": [],
   "source": []
  },
  {
   "cell_type": "code",
   "execution_count": null,
   "metadata": {
    "collapsed": true
   },
   "outputs": [],
   "source": []
  }
 ],
 "metadata": {
  "kernelspec": {
   "display_name": "Python 3",
   "language": "python",
   "name": "python3"
  },
  "language_info": {
   "codemirror_mode": {
    "name": "ipython",
    "version": 3
   },
   "file_extension": ".py",
   "mimetype": "text/x-python",
   "name": "python",
   "nbconvert_exporter": "python",
   "pygments_lexer": "ipython3",
   "version": "3.6.1"
  }
 },
 "nbformat": 4,
 "nbformat_minor": 2
}
