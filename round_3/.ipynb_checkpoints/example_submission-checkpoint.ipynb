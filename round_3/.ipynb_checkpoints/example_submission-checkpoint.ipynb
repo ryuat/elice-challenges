{
 "cells": [
  {
   "cell_type": "markdown",
   "metadata": {},
   "source": [
    "# 모듈 import"
   ]
  },
  {
   "cell_type": "code",
   "execution_count": 40,
   "metadata": {
    "collapsed": true
   },
   "outputs": [],
   "source": [
    "import json\n",
    "import os\n",
    "import random\n",
    "\n",
    "import konlpy\n",
    "\n",
    "import elice_challenge as ec"
   ]
  },
  {
   "cell_type": "markdown",
   "metadata": {},
   "source": [
    "# 파일 읽기"
   ]
  },
  {
   "cell_type": "code",
   "execution_count": 31,
   "metadata": {
    "collapsed": true
   },
   "outputs": [],
   "source": [
    "train_data = json.load(open('/elice/data/train_data.json'))\n",
    "test_data = json.load(open('/elice/data/test.input.json'))\n",
    "grading_data = json.load(open('/elice/data/grading.input.json'))"
   ]
  },
  {
   "cell_type": "markdown",
   "metadata": {},
   "source": [
    "파일이 제대로 읽혔는지 확인합니다."
   ]
  },
  {
   "cell_type": "code",
   "execution_count": 32,
   "metadata": {},
   "outputs": [
    {
     "name": "stdout",
     "output_type": "stream",
     "text": [
      "76500\n",
      "4500\n",
      "9000\n"
     ]
    }
   ],
   "source": [
    "print(len(train_data))\n",
    "print(len(test_data))\n",
    "print(len(grading_data))"
   ]
  },
  {
   "cell_type": "markdown",
   "metadata": {},
   "source": [
    "트레이닝 데이터의 내용을 확인합니다."
   ]
  },
  {
   "cell_type": "code",
   "execution_count": 35,
   "metadata": {
    "scrolled": true
   },
   "outputs": [
    {
     "data": {
      "text/plain": [
       "{'datetime': '20160825',\n",
       " 'text': '\"지구 반대편에서 여러분이 일으킨 긍정의 에너지가 우리 사회 전반에 새로운 활력을 불러일으키고 있습니다.\"박근혜 대통령은 25일 리우데자네이루올림픽 한국 대표 선수단과 관계자들을 청와대로 초청해 오찬을 함께했다. 김종덕 문화체육관광부 장관, 강영중 대한체육회장, 조양호 대한체육회 부회장, 정몽규 선수단장, 정의선 양궁협회장과 박인비 진종오 박상영 장혜진 손연재 김연경 선수 등 310여 명이 참석했다.박 대통령은 \"진종오 박상영 선수의 멋진 역전극은 물론이고 부상을 이겨내고 세계 최고의 자리에 올라선 골프 박인비 선수, 출산과 육아를 병행하면서도 메 ...',\n",
       " 'title': '朴 \"올림픽팀은 희망·용기의 상징\"',\n",
       " 'writing': '매일경제'}"
      ]
     },
     "execution_count": 35,
     "metadata": {},
     "output_type": "execute_result"
    }
   ],
   "source": [
    "train_data[11]"
   ]
  },
  {
   "cell_type": "markdown",
   "metadata": {},
   "source": [
    "# Random Baseline\n",
    "\n",
    "이 코드에서는 무작위로 19개의 언론사의 순위를 선정해 출력합니다."
   ]
  },
  {
   "cell_type": "code",
   "execution_count": 38,
   "metadata": {
    "collapsed": true
   },
   "outputs": [],
   "source": [
    "media = ['JTBC', 'KBS 뉴스', 'MBN', 'TV조선', 'YTN', '경향신문', '국민일보', '노컷뉴스', '뉴시스', '동아일보', '매일경제', '서울신문', '아시아경제', '연합뉴스', '연합뉴스TV', '오마이뉴스', '채널A', '파이낸셜뉴스', '헤럴드경제']"
   ]
  },
  {
   "cell_type": "code",
   "execution_count": 39,
   "metadata": {
    "collapsed": true
   },
   "outputs": [],
   "source": [
    "def predict(input_data):\n",
    "    fp = open('submission.txt', 'w')\n",
    "    for article in input_data:\n",
    "        random.shuffle(media)\n",
    "        fp.write('%s\\n' % ','.join(media))\n",
    "    fp.close()"
   ]
  },
  {
   "cell_type": "markdown",
   "metadata": {},
   "source": [
    "테스트 데이터에 대해 예측을 랜덤하게 진행합니다."
   ]
  },
  {
   "cell_type": "code",
   "execution_count": 42,
   "metadata": {},
   "outputs": [
    {
     "name": "stdout",
     "output_type": "stream",
     "text": [
      "테스트 데이터를 사용해, test.output 과 submission.txt 의 내용을 비교하여 MRR 값을 계산합니다.\n",
      "submission 데이터 개수 = 4500\n",
      "답안 데이터 개수 = 4500\n",
      "MRR: 0.18545\n",
      "Score: 18 pts.\n"
     ]
    }
   ],
   "source": [
    "predict(test_data)\n",
    "ec.test_mrr(19)"
   ]
  },
  {
   "cell_type": "markdown",
   "metadata": {},
   "source": [
    "채점 데이터에 대해 예측을 랜덤하게 진행합니다."
   ]
  },
  {
   "cell_type": "code",
   "execution_count": 44,
   "metadata": {
    "scrolled": true
   },
   "outputs": [
    {
     "name": "stdout",
     "output_type": "stream",
     "text": [
      "이전에 업로드 된 파일 삭제 중...\n",
      "\n",
      "두 종류의 파일들을 제출해야 합니다.\n",
      " - submission.txt : grading.input.json 에 해당하는 출력값\n",
      " - submission.ipynb 혹은 submission.py : submission.txt를 재현가능한 소스 코드\n",
      "제출할 파일들은 comma (,) 로 나누어 써서 제출할 수 있습니다.\n",
      "제출 예제) submission.ipynb,submission.txt,additional_data.json\n",
      "\n",
      "> submission.txt,submission.ipynb\n",
      "submission.txt 체크 중...\n",
      "submission.txt: 2016000 bytes\n",
      "submission.ipynb 체크 중...\n",
      "submission.ipynb: 5856 bytes\n",
      "업로드 중: submission.txt\n",
      "업로드 중: submission.ipynb\n",
      "업로드가 완료되었습니다.\n",
      "submit() 으로 점수를 확인할 수 있습니다.\n"
     ]
    }
   ],
   "source": [
    "predict(grading_data)\n",
    "ec.upload()"
   ]
  },
  {
   "cell_type": "markdown",
   "metadata": {},
   "source": [
    "업로드가 완료되면 제출을 시도해봅니다."
   ]
  },
  {
   "cell_type": "code",
   "execution_count": 45,
   "metadata": {},
   "outputs": [
    {
     "name": "stdout",
     "output_type": "stream",
     "text": [
      "submission 데이터 개수 = 9000\n",
      "답안 데이터 개수 = 9000\n",
      "MRR: 0.18645\n",
      "Score: 18 pts.\n",
      "18\n",
      "Score: 18\n"
     ]
    }
   ],
   "source": [
    "ec.submit()"
   ]
  }
 ],
 "metadata": {
  "kernelspec": {
   "display_name": "Python 3",
   "language": "python",
   "name": "python3"
  },
  "language_info": {
   "codemirror_mode": {
    "name": "ipython",
    "version": 3
   },
   "file_extension": ".py",
   "mimetype": "text/x-python",
   "name": "python",
   "nbconvert_exporter": "python",
   "pygments_lexer": "ipython3",
   "version": "3.6.1"
  }
 },
 "nbformat": 4,
 "nbformat_minor": 2
}
